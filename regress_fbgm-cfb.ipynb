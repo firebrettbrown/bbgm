{
 "cells": [
  {
   "cell_type": "code",
   "execution_count": null,
   "metadata": {},
   "outputs": [],
   "source": [
    "import json\n",
    "import os\n",
    "import sys\n",
    "import fnmatch\n",
    "\n",
    "\n",
    "import numpy as np\n",
    "import pandas as pd\n",
    "import matplotlib.pyplot as plt\n",
    "from collections import defaultdict\n",
    "\n",
    "from sklearn import neural_network\n",
    "from sklearn import linear_model\n",
    "from sklearn import preprocessing\n",
    "from sklearn import feature_selection, model_selection\n",
    "from sklearn import  multioutput\n",
    "from sklearn import ensemble\n",
    "from sklearn import svm"
   ]
  },
  {
   "cell_type": "code",
   "execution_count": null,
   "metadata": {},
   "outputs": [],
   "source": [
    "df = pd.read_csv('new_big_fbgm.csv')\n",
    "#df = pd.read_csv('FBGM_League_1_all_seasons_Average_Stats(1).csv')\n",
    "#df = df.sample(10000)\n",
    "#['QB', 'OL', 'TE', 'DL', 'S', 'CB', 'WR', 'LB', 'RB', 'P', 'K']\n",
    "clf2 = None\n",
    "unique_pos = df.Pos.unique()\n",
    "df.shape"
   ]
  },
  {
   "cell_type": "code",
   "execution_count": null,
   "metadata": {},
   "outputs": [],
   "source": [
    "#orig_df = df.copy()\n",
    "#df = orig_df.sample(frac=0.1)\n",
    "#df.shape"
   ]
  },
  {
   "cell_type": "code",
   "execution_count": null,
   "metadata": {},
   "outputs": [],
   "source": [
    "stats_to_pred = (df.columns[105:])\n",
    "stats_to_use = ['Cmp',\n",
    " 'Att',\n",
    " 'Pct',\n",
    " 'Yds',\n",
    " 'TD',\n",
    " 'Int',\n",
    " 'Y/A',\n",
    " 'AY/A',\n",
    " 'QBRat',\n",
    " 'Rush',\n",
    " 'Yds.2',\n",
    " 'TD.1',\n",
    " 'Rec',\n",
    " 'Yds.3',\n",
    " 'TD.2',\n",
    " 'PR',\n",
    " 'Yds.8',\n",
    " 'TD.5',\n",
    " 'KR',\n",
    " 'Yds.9',\n",
    " 'TD.6']"
   ]
  },
  {
   "cell_type": "code",
   "execution_count": null,
   "metadata": {},
   "outputs": [],
   "source": [
    "need_norm = ['Cmp', 'Att', 'Yds', 'TD', 'Int', 'Sk', 'Yds.1','Rush', 'Yds.2', 'TD.1','Tgt', 'Rec', 'Yds.3', 'TD.2', 'Tch','RRTD',\n",
    " 'Int.1',\n",
    " 'Yds.4',\n",
    " 'TD.3',\n",
    " 'PD',\n",
    " 'FF',\n",
    " 'FR',\n",
    " 'Yds.5',\n",
    " 'TD.4',\n",
    " 'Sk.1',\n",
    " 'Tck',\n",
    " 'Solo',\n",
    " 'Ast',\n",
    " 'TFL',\n",
    " 'Sfty',\n",
    " 'Fmb',\n",
    " 'FG10',\n",
    " 'FGA10',\n",
    " 'FG20',\n",
    " 'FGA20',\n",
    " 'FG30',\n",
    " 'FGA30',\n",
    " 'FG40',\n",
    " 'FGA40',\n",
    " 'FG50',\n",
    " 'FGA50',\n",
    " 'FGM',\n",
    " 'FGA',\n",
    " 'XPM',\n",
    " 'XPA',\n",
    " 'Pnt',\n",
    " 'Yds.7',\n",
    " 'PR',\n",
    " 'Yds.8',\n",
    " 'TD.5',\n",
    " 'KR',\n",
    " 'Yds.9',\n",
    " 'TD.6',\n",
    " 'FL',\n",
    " 'Pen',\n",
    " 'Yds.6',\n",
    " 'Blk',\n",
    "'YScm',\n",
    " 'APY',\n",
    " 'AV']\n",
    "need_norm = list(set(need_norm))"
   ]
  },
  {
   "cell_type": "code",
   "execution_count": null,
   "metadata": {},
   "outputs": [],
   "source": [
    "BAD_SET = set(['Blk','FL', 'Pen', 'Yds.6','Lng.4', 'APY'])\n",
    "need_norm = [_ for _ in need_norm if _ not in BAD_SET]"
   ]
  },
  {
   "cell_type": "code",
   "execution_count": null,
   "metadata": {},
   "outputs": [],
   "source": [
    "if False:\n",
    "    for col in need_norm:\n",
    "        df[col + '_PerG'] = df[col]/np.maximum(df['G'],1)\n",
    "        stats_to_use.append(col + '_PerG')\n",
    "    for col in need_norm:\n",
    "        del stats_to_use[stats_to_use.index(col)]"
   ]
  },
  {
   "cell_type": "code",
   "execution_count": null,
   "metadata": {},
   "outputs": [],
   "source": [
    "stats_to_use = [_ for _  in stats_to_use if _ not in BAD_SET]"
   ]
  },
  {
   "cell_type": "code",
   "execution_count": null,
   "metadata": {},
   "outputs": [],
   "source": [
    "pos_t = 'QB'\n",
    "stat_t = 'ThP'\n",
    "#stat_t_idx = list(y.columns).index(stat_t)"
   ]
  },
  {
   "cell_type": "code",
   "execution_count": null,
   "metadata": {},
   "outputs": [],
   "source": [
    "replacement_player_mean_bs = {}\n",
    "replacement_player_std_bs = {}\n",
    "replacement_player_cov_bs = {}\n",
    "replacement_player_mean_r = {}\n",
    "replacement_player_std_r = {}\n",
    "replacement_player_cov_r = {}\n",
    "\n",
    "clfs = {}\n",
    "scalersX = {}\n",
    "scalersY = {}\n",
    "fexps = {}\n",
    "for pos in unique_pos:\n",
    "    y = df[df.Pos == pos]#.iloc[:,105:]\n",
    "    X = df[df.Pos == pos]#.iloc[:,11:103]\n",
    "    y = y[stats_to_pred]\n",
    "    \n",
    "    valid_col = stats_to_use#[_ for _ in X.columns if not _ in ['Blk','FL', 'Pen', 'Yds.6','Lng.4', 'APY']]\n",
    "    X = X[valid_col]\n",
    "    replacement_filter = (df.Pos == pos) & (df.Salary >= 0.10) & (df.Salary < 1.0)\n",
    "    replacement_player_mean_bs[pos] = X[replacement_filter].mean()\n",
    "    replacement_player_std_bs[pos] = X[replacement_filter].std()\n",
    "    replacement_player_cov_bs[pos] = X[replacement_filter].cov()\n",
    "\n",
    "    replacement_player_mean_r[pos] = y[replacement_filter].mean()\n",
    "    replacement_player_std_r[pos] = y[replacement_filter].std()\n",
    "    replacement_player_cov_r[pos] = y[replacement_filter].cov()\n",
    "    \n",
    "    fexp = preprocessing.PolynomialFeatures(degree=1,interaction_only=True)\n",
    "    scalerX = preprocessing.StandardScaler()\n",
    "    scalery = preprocessing.StandardScaler()\n",
    "    prescale_X = scalerX.fit_transform(X)\n",
    "    prescale_y = scalery.fit_transform(y)\n",
    "    prescale_X = fexp.fit_transform(prescale_X)\n",
    "    X_train, X_test, y_train, y_test = model_selection.train_test_split(prescale_X, prescale_y, test_size=0.25, random_state=42)\n",
    "    \n",
    "    clf = multioutput.MultiOutputRegressor(linear_model.ElasticNet(alpha=5e-2))\n",
    "    clf.fit(prescale_X,prescale_y)\n",
    "    yt = scalery.inverse_transform(clf.predict(prescale_X))\n",
    "    print(pos,clf.score(prescale_X,prescale_y))\n",
    "    clfs[pos] = clf\n",
    "    scalersX[pos] = scalersX\n",
    "    scalersY[pos] = scalery\n",
    "    fexps[pos] = fexp\n",
    "    \n",
    "    if False and pos == pos_t:\n",
    "        fscores = sklearn.feature_selection.f_regression(prescale_X,prescale_y[:,stat_t_idx])[1]\n",
    "        for i in np.argsort(fscores):\n",
    "            if np.isnan(fscores[i]) or fscores[i] > 0.1:\n",
    "                continue\n",
    "            print(X.columns[i],fscores[i])"
   ]
  },
  {
   "cell_type": "code",
   "execution_count": null,
   "metadata": {},
   "outputs": [],
   "source": [
    "def get_norms(X):\n",
    "    means = np.zeros(X.shape[1])\n",
    "    stds  = np.zeros(X.shape[1])\n",
    "    for col in range(X.shape[1]):\n",
    "        xv = np.array(X)[:,col]\n",
    "        #print(xv[np.where(xv !=0)].shape,X.columns[col])\n",
    "        means[col] = xv[np.where(xv !=0)].mean()\n",
    "        stds[col] = xv[np.where(xv !=0)].std()\n",
    "    rX = (np.array(X)-means)/stds\n",
    "    rX[np.where(X == 0)] = -10\n",
    "    return rX,means,stds"
   ]
  },
  {
   "cell_type": "code",
   "execution_count": null,
   "metadata": {},
   "outputs": [],
   "source": [
    "col_names = X.columns\n",
    "col_names = fexp.get_feature_names(X.columns)\n",
    "\n",
    "pos = 'QB'\n",
    "stat_t = 'ThV'\n",
    "stat_t_idx = list(y.columns).index(stat_t)\n",
    "for i,c in enumerate(y.columns):\n",
    "    coeffs = clfs[pos].estimators_[i].coef_ \n",
    "    v = np.argsort(abs(coeffs))[::-1]\n",
    "    print(c)\n",
    "    coeffs2 = [(coeffs[i2],col_names[i2]) for i2 in v[:10]]\n",
    "    #for v,n in sorted(coeffs2,reverse=True):\n",
    "    #    print('{:.2f} * {} + '.format(v,n),end='')\n",
    "    print('| Variable | Coeff |')\n",
    "    print('|----------|-------|')\n",
    "    for v,n in sorted(coeffs2,reverse=True):\n",
    "        print('|{:25s}|{:.5f}|'.format(n,v))\n",
    "    #for v,n in sorted(coeffs2,reverse=True):\n",
    "    #    print('\\t{:25s}\\t{:.2f}'.format(n,v))\n",
    "\n"
   ]
  },
  {
   "cell_type": "code",
   "execution_count": null,
   "metadata": {},
   "outputs": [],
   "source": [
    "GEN_YEAR = 2018\n",
    "tyear = [GEN_YEAR]\n",
    "#if tyear[0] < 1980:\n",
    "#    print(\"MY PARSING OF THE TABLES IS WRONG WITHOUT the 2PA/3PA TRACKS\")\n",
    "#    raise\n",
    "\n",
    "#CURRENT_YEAR = 2019\n",
    "all_tables = {}\n",
    "for ty in tyear: \n",
    "    all_tables[ty] = np.load('cfb_tables_{}.pkl'.format(ty))\n",
    "teams = all_tables[tyear[0]].keys()\n",
    "print(all_tables[GEN_YEAR]['alabama'].keys())"
   ]
  },
  {
   "cell_type": "code",
   "execution_count": null,
   "metadata": {},
   "outputs": [],
   "source": [
    "import sklearn.feature_selection"
   ]
  },
  {
   "cell_type": "code",
   "execution_count": null,
   "metadata": {},
   "outputs": [],
   "source": [
    "all_tables[GEN_YEAR]['alabama']['roster']"
   ]
  },
  {
   "cell_type": "code",
   "execution_count": null,
   "metadata": {},
   "outputs": [],
   "source": [
    "player_stats = {k:{} for k in tyear}\n",
    "table_columns = defaultdict(dict)\n",
    "for ty in tyear:\n",
    "    tables = all_tables[ty]\n",
    "    for team in tables:\n",
    "        team_tables =  tables[team]\n",
    "        for table_name in team_tables:\n",
    "            if table_name in ['draft-rights','team_and_opponent','conf','name','logo']:\n",
    "                continue\n",
    "            table = team_tables[table_name].fillna(0)\n",
    "\n",
    "            #print(table_name)\n",
    "            #print(table.index)\n",
    "            for row in table.itertuples():\n",
    "                name = row[0]\n",
    "                name = name.replace('\\xa0\\xa0',' ').replace('*','').replace('+','')\n",
    "                if name == 'Team Totals':\n",
    "                    continue\n",
    "                nsplit = name.split(' ')\n",
    "                if nsplit[-1] in ['Jr.','Sr.','I','II','III',\"IV\",'(TW)']:\n",
    "                    name = ' '.join(nsplit[:-1])\n",
    "\n",
    "                player_table = player_stats[ty].get(name,{})\n",
    "                player_row = player_table.get(table_name,[])\n",
    "                player_row = player_row + [row]\n",
    "\n",
    "                player_table[table_name] = player_row\n",
    "                player_table['team'] = team\n",
    "                player_stats[ty][name] = player_table\n",
    "                \n",
    "                #if name == 'Dennis Smith Jr.' or name == 'Luka Doncic':\n",
    "                #    print(player_stats[ty][name],team)\n",
    "            tcs = list(table.columns)\n",
    "            for i in range(len(tcs)):\n",
    "                while tcs.index(tcs[i]) != i:\n",
    "                    if '.' in tcs[i]:\n",
    "                        tsplit = tcs[i].split('.')\n",
    "                        tsplit[-1] = str(int(tsplit[-1]) + 1)\n",
    "                        tcs[i] = '.'.join(tsplit)\n",
    "                    else:\n",
    "                        tcs[i] += '.1'\n",
    "            table_columns[(ty,team)][table_name] = tcs\n"
   ]
  },
  {
   "cell_type": "code",
   "execution_count": null,
   "metadata": {},
   "outputs": [],
   "source": [
    "#player_stats[2007].keys()"
   ]
  },
  {
   "cell_type": "code",
   "execution_count": null,
   "metadata": {},
   "outputs": [],
   "source": [
    "table_mask = defaultdict(dict)\n",
    "for key in table_columns:\n",
    "    for table in table_columns[key]:\n",
    "        table_mask[key][table] = [_.strip() !=''  for _ in table_columns[key][table] ]\n",
    "        table_columns[key][table] = [_ for _ in table_columns[key][table] if _.strip() != '']\n",
    "#for player in player_stats:\n",
    "#    for table_in in player_stats[player]:\n",
    "#        if 'on_off' in table_in or 'salaries' in table_in:\n",
    "#            continue\n",
    "#        if len(player_stats[player][table_in]) > 1:\n",
    "#            pass\n",
    "            #print(player,table_in,'MP' in player_stats[player][table_in][0]._fields)\n",
    "            #print(player_stats[player][table_in][0])"
   ]
  },
  {
   "cell_type": "code",
   "execution_count": null,
   "metadata": {},
   "outputs": [],
   "source": [
    "# add playoff data to normal data\n",
    "if False:\n",
    "    for ty in tyear:\n",
    "        for player in player_stats[ty]:\n",
    "            for table_in in player_stats[ty][player]:\n",
    "                tableN = table_in.split('_')\n",
    "                tableS = '_'.join(tableN[1:])\n",
    "                if 'playoffs'==tableN[0] and not table_in in ['playoffs_pbp']:\n",
    "                    #print(table_in)\n",
    "                    if tableS in player_stats[ty][player]:\n",
    "                        player_stats[ty][player][tableS] += player_stats[ty][player][table_in]"
   ]
  },
  {
   "cell_type": "code",
   "execution_count": null,
   "metadata": {},
   "outputs": [],
   "source": [
    "#player_stats[1968]['Bill Allen']\n",
    "#player_stats[1968]['Jim Burns']['per_game'], table_columns[(1968,'DLC')]['per_game'].index('MP')"
   ]
  },
  {
   "cell_type": "code",
   "execution_count": null,
   "metadata": {},
   "outputs": [],
   "source": [
    "for ty in tyear:\n",
    "    for player in player_stats[ty]:\n",
    "        team = player_stats[ty][player]['team']\n",
    "        for tt in player_stats[ty][player]:\n",
    "            if tt == 'team':\n",
    "                continue\n",
    "            new_rows = []\n",
    "            for tablet in player_stats[ty][player][tt]:\n",
    "                vector = [_ if _ != '' else '0.0' for _ in tablet[1:]]\n",
    "                vector = [(float(_.replace('%',''))/100 if type(_) == str and'%' in _ else _) for _ in vector]\n",
    "                if 'on_off' in tt:\n",
    "                    vector = vector[1:]\n",
    "                if 'contracts' in tt:\n",
    "                    vector = vector[1:-2]\n",
    "                if tt in ['salaries2','contracts']:\n",
    "                    vector = [_.replace(',','').replace('$','') for _ in vector]\n",
    "                try:\n",
    "                    v2 = np.array(vector).astype(np.float)\n",
    "                except:\n",
    "                    v2 = vector\n",
    "                new_rows.append(vector)\n",
    "            a = np.array(new_rows)\n",
    "\n",
    "\n",
    "            if tt in table_columns[(ty,team)]:\n",
    "                if 'MP' in table_columns[(ty,team)][tt] and not tt in ['pbp','on_off','on_off_p']:\n",
    "                    try:\n",
    "                        a = a.astype(np.float)\n",
    "                    except:\n",
    "                        a = list(a)\n",
    "                        a[0] = np.array([float(_) for _ in a[0]])\n",
    "                        a[1] = np.array([float(_) for _ in a[1]])\n",
    "                        a = np.array(a)\n",
    "                    try:\n",
    "                        mins = a[:,table_columns[(ty,team)][tt].index('MP')].reshape((-1,1))\n",
    "                        new_rows = ((a.T @ mins)/mins.sum()).T\n",
    "                        a = new_rows\n",
    "                    except:\n",
    "                        #print(tt,a.shape,player,a,mins)\n",
    "                        #print('.',end='')\n",
    "                        \n",
    "                        print(ty,team,player,tt)\n",
    "                        continue\n",
    "            player_stats[ty][player][tt] = a\n"
   ]
  },
  {
   "cell_type": "code",
   "execution_count": null,
   "metadata": {},
   "outputs": [],
   "source": [
    "player_stats"
   ]
  },
  {
   "cell_type": "code",
   "execution_count": null,
   "metadata": {},
   "outputs": [],
   "source": []
  },
  {
   "cell_type": "code",
   "execution_count": null,
   "metadata": {},
   "outputs": [],
   "source": [
    "len(X.columns)"
   ]
  },
  {
   "cell_type": "code",
   "execution_count": null,
   "metadata": {},
   "outputs": [],
   "source": [
    "\n",
    "\n"
   ]
  },
  {
   "cell_type": "code",
   "execution_count": null,
   "metadata": {},
   "outputs": [],
   "source": [
    "X.columns"
   ]
  },
  {
   "cell_type": "code",
   "execution_count": null,
   "metadata": {},
   "outputs": [],
   "source": [
    "#'returns', 'kicking'\n",
    "#table_columns[(2018,'nwe')]['kicking']\n"
   ]
  },
  {
   "cell_type": "code",
   "execution_count": null,
   "metadata": {},
   "outputs": [],
   "source": [
    "lt = [('Class','roster'),('Pos','roster'),\n",
    "      ('Cmp','passing'),('Att','passing'),('Pct','passing','Pct'),\n",
    "      ('Yds','passing'),('TD','passing'),('Int','passing'),\n",
    "      ('Y/A','passing'),('AY/A','passing'),('QBRat','passing','Rate'),\n",
    "      ('Rush','rushing_and_receiving','Att'),\n",
    "      ('Yds.2','rushing_and_receiving','Yds'),('TD.1','rushing_and_receiving','TD'),\n",
    "      ('Rec','rushing_and_receiving'),('Yds.3','rushing_and_receiving','Yds.1'),\n",
    "      ('TD.2','rushing_and_receiving','TD.1'),('Int.1','defense','Int'),\n",
    "      ('Yds.4','defense','Yds'),('TD.3','defense','TD'),('PD','defense'),\n",
    "      ('FF','defense'),('FR','defense'),('Yds.5','defense','Yds.1'),('TD.4','defense','TD.1'),('Sk.1','defense','Sk'),\n",
    "      ('Tck','defense','Comb'),('Solo','defense'),('Ast','defense'),('TFL','defense'),('Sfty','defense'),('Fmb','defense'),\n",
    "      ('FGM','kicking','FGM'),('FGA','kicking','FGA'),\n",
    "      ('Pct.1','kicking','FG%'),('XPM','kicking'),('XPA','kicking'),('Pct.2','kicking','XP%'),('Pnt','kicking'),\n",
    "      ('Yds.7','kicking','Yds'),('Blk','kicking','Blck'),('Y/A.2','kicking','Y/P'),\n",
    "      ('PR','returns','Ret'),('Yds.8','returns','Yds'),('TD.5','returns','TD'),\n",
    "      ('KR','returns','Ret.1'),('Yds.9','returns','Yds.1'),('TD.6','returns','TD.1')      ]\n",
    "\n",
    "locations = []\n",
    "for loc in lt:\n",
    "    if len(loc) == 2:\n",
    "        loc = list(loc)\n",
    "        loc.append(loc[0])\n",
    "    locations.append(loc)\n",
    "\n",
    "        \n",
    "locs = defaultdict(dict)\n",
    "for ty in tyear:\n",
    "    for team in all_tables[ty]:\n",
    "        for loc in locations:\n",
    "            try:\n",
    "                locs[(ty,team)][loc[0]] = (table_columns[(ty,team)][loc[1]].index(loc[2]),loc[1])\n",
    "            except Exception as e:\n",
    "                #print(e)\n",
    "                #print(team,ty)\n",
    "                print(e,loc)\n",
    "                pass#print(loc,table_columns[loc[1]])\n",
    "    #if 'shooting' in table_columns:\n",
    "    #    l = list(locs['LowPostFGP'])\n",
    "    #    l[0] +=2\n",
    "    #    locs['MidRangeFGP'] = l\n",
    "len(locs[(GEN_YEAR,'alabama')]),locs[(GEN_YEAR,'alabama')]"
   ]
  },
  {
   "cell_type": "code",
   "execution_count": null,
   "metadata": {},
   "outputs": [],
   "source": [
    "player_stats[2018]['Isaiah Sanders']['roster']"
   ]
  },
  {
   "cell_type": "code",
   "execution_count": null,
   "metadata": {},
   "outputs": [],
   "source": [
    "player_vectors = []\n",
    "player_names = []\n",
    "player_years = []\n",
    "player_scales = []\n",
    "player_heights = []\n",
    "player_weights = []\n",
    "player_drafts = []\n",
    "player_ages = []\n",
    "player_teams = []\n",
    "player_pos = []\n",
    "for ty in tyear:\n",
    "    for name in player_stats[ty]:\n",
    "        try:\n",
    "            stats = player_stats[ty][name]\n",
    "            team = stats['team']\n",
    "\n",
    "            d = {}\n",
    "            for k,v in locs[(ty,team)].items():\n",
    "                SV  = 0\n",
    "                try:\n",
    "                    SV = str(stats[v[1]][0][v[0]])\n",
    "                    SV = float(SV)\n",
    "                except:\n",
    "                    pass\n",
    "                d[k] = 0 if SV == '' else SV\n",
    "            ht = 72\n",
    "            wt = 200\n",
    "            #print(d)\n",
    "            exp = {'FR':0,'SO':1,'JR':2,'SR':3, 0.0:0}[d['Class']]\n",
    "            #for col in need_norm:\n",
    "            #    if col in d:\n",
    "            #        d[col + '_PerG'] = d[col]/np.maximum(d.get('G',0),1)\n",
    "            player_vectors.append([d[stat] for stat in X.columns])\n",
    "            player_names.append(name)\n",
    "            player_years.append(ty)\n",
    "            player_ages.append(exp+18)\n",
    "            player_pos.append([d['Pos']])\n",
    "            player_heights.append(ht)\n",
    "            player_drafts.append(exp)\n",
    "            player_weights.append(wt)\n",
    "\n",
    "            player_teams.append(team)\n",
    "        except Exception as e:\n",
    "            print(name,team)\n",
    "            print(e)\n",
    "            print(d.keys())\n",
    "            #if name == 'Bill Bradley':\n",
    "            #    raise\n",
    "            raise\n",
    "X.columns"
   ]
  },
  {
   "cell_type": "code",
   "execution_count": null,
   "metadata": {},
   "outputs": [],
   "source": [
    "player_stats[ty][name]"
   ]
  },
  {
   "cell_type": "code",
   "execution_count": null,
   "metadata": {},
   "outputs": [],
   "source": [
    "first_n = len([yr for yr in player_years if yr == tyear[0]])\n",
    "gen_FA = 0#len(teams)*5 if CURRENT_YEAR!=GEN_YEAR else 0\n",
    "first_n,len(teams),gen_FA\n",
    "#player_names"
   ]
  },
  {
   "cell_type": "code",
   "execution_count": null,
   "metadata": {},
   "outputs": [],
   "source": [
    "Xn = np.nan_to_num(np.array(player_vectors))\n",
    "#Xn.shape,Xn_s.shape,prescale_X.shape,fexp.n_input_features_,X.shape\n",
    "#clf2 = None\n",
    "Xn.shape"
   ]
  },
  {
   "cell_type": "code",
   "execution_count": null,
   "metadata": {},
   "outputs": [],
   "source": [
    "if clf2 is None:\n",
    "    clf2 = linear_model.LogisticRegression()\n",
    "    scalerX_pos_og = preprocessing.StandardScaler()\n",
    "\n",
    "    fexp_pos = preprocessing.PolynomialFeatures(degree=1,interaction_only=False)\n",
    "    #tmpX = df.iloc[:,11:103]\n",
    "    tmpX = df[valid_col]\n",
    "\n",
    "    clf2.fit(fexp_pos.fit_transform(scalerX_pos_og.fit_transform(tmpX)),df.Pos)\n",
    "\n",
    "scalerX_pos = preprocessing.StandardScaler()\n",
    "Xn_scale = fexp_pos.transform(scalerX_pos.fit_transform(Xn))\n",
    "pred_pos = clf2.predict(Xn_scale)\n",
    "    #print(clf2.score(Xn_scale,df.Pos))"
   ]
  },
  {
   "cell_type": "code",
   "execution_count": null,
   "metadata": {},
   "outputs": [],
   "source": [
    "'QB', 'OL', 'TE', 'DL', 'S', 'CB', 'WR', 'LB', 'RB', 'P', 'K'\n",
    "pos_mapping = {\n",
    " 'LG':'OL',\n",
    " 'RG':'OL',\n",
    " 'CB':'CB',\n",
    " 'LOLB':'LB',\n",
    " 'RB':'RB',\n",
    " 'FB':'RB',\n",
    " 'K':'K',\n",
    " 'C':'OL',\n",
    " 'LCB':'CB',\n",
    " 'RCB':'CB',\n",
    " 'FS':'S',\n",
    " 'RDT':'DL',\n",
    " 'QB':'QB',\n",
    " 'DL':'DL',\n",
    " 'MLB':'LB',\n",
    " 'WR':'WR',\n",
    " 'S':'S',\n",
    " 'SS':'S',\n",
    " 'TE':'TE',\n",
    " 'DT':'DL',\n",
    " 'RILB':'LB',\n",
    " 'T':'OL',\n",
    " 'LDT':'DL',\n",
    " 'P':'P',\n",
    " 'LILB':'LB',\n",
    " 'ROLB':'LB',\n",
    " 'LB':'LB',\n",
    " 'DB':'S',\n",
    " 'DE':'DL',\n",
    " 'NT':'DL',\n",
    " 'RT':'OL',\n",
    " 'LT': 'OL',\n",
    " 'SE': 'WR',\n",
    " 'FL': 'WR',\n",
    " 'OLB':'LB',\n",
    " 'DE ': 'DL',\n",
    " 'OT': 'OL',\n",
    " 'OL': 'OL',\n",
    " 'LS': 'OL',\n",
    " 'ILB':'LB',\n",
    " 'G':'OL',\n",
    " 'OG':'OL',\n",
    " 'EDGE':'DL',\n",
    " 'G,T': 'OL',\n",
    " 'LS,TE': 'TE',\n",
    "  'PR':'WR',\n",
    "  'KR':'WR',\n",
    "'RDE':'DL',\n",
    "    'LDE':'DL',\n",
    "        'RLB':'LB',\n",
    "            'LLB':'LB',\n",
    "    'UT':'LB',\n",
    "    'PK':'K',\n",
    "    'HB':'RB',\n",
    "    'SB':'LB',\n",
    "    'OB':'LB'\n",
    "\n",
    "}"
   ]
  },
  {
   "cell_type": "code",
   "execution_count": null,
   "metadata": {},
   "outputs": [],
   "source": [
    "import random\n",
    "predicted_pos = []\n",
    "for listed_p,model_p in zip(player_pos,pred_pos):\n",
    "    #print(possible_pos)\n",
    "\n",
    "    possible_pos = [_.upper() for _ in listed_p if _ != '0.0' and _ != 0]\n",
    "    pposs = []\n",
    "    for pos in list(possible_pos):\n",
    "        if '/' in pos:\n",
    "            pp = pos.split('/')\n",
    "            for ppp in pp:\n",
    "                pposs.append(ppp)\n",
    "        else:\n",
    "            pposs.append(pos)\n",
    "    possible_pos = [pos_mapping[_.replace(' ','')] for _ in set(pposs)]\n",
    "    #print(possible_pos,model_p)\n",
    "    #print(listed_p)\n",
    "    if model_p in possible_pos:\n",
    "        true_p = model_p\n",
    "        if listed_p[0] == 'DB':\n",
    "            true_p =['S','CB'][int(random.random() > 0.5)]\n",
    "            print(true_p)\n",
    "    elif len(possible_pos) > 0:\n",
    "        random.shuffle(possible_pos)\n",
    "        true_p = possible_pos[0]\n",
    "    else:\n",
    "        true_p = model_p\n",
    "    predicted_pos.append(true_p)\n",
    "predicted_pos = np.array(predicted_pos)"
   ]
  },
  {
   "cell_type": "code",
   "execution_count": null,
   "metadata": {},
   "outputs": [],
   "source": [
    "player_pos"
   ]
  },
  {
   "cell_type": "code",
   "execution_count": null,
   "metadata": {},
   "outputs": [],
   "source": [
    "ratings = np.zeros((predicted_pos.shape[0],y.shape[1]))\n",
    "for pos in unique_pos:\n",
    "\n",
    "    Xn = np.nan_to_num(np.array(player_vectors))[np.where(predicted_pos == pos)]\n",
    "    # tuned this to get roughly 8-12 players at 70 or above. Which seemed like normal for a league\n",
    "    #scalerX2 = preprocessing.StandardScaler()#(quantile_range=(30.0, 70.0))\n",
    "    scalerX2 = preprocessing.StandardScaler()\n",
    "\n",
    "    Xn_s =scalerX2.fit_transform(np.nan_to_num(Xn))\n",
    "    Xn_fs = fexps[pos].transform(np.nan_to_num(Xn_s))\n",
    "    predict = clfs[pos].predict(Xn_fs)\n",
    "    est_ratings = np.nan_to_num(scalersY[pos].inverse_transform(predict))\n",
    "    ratings[np.where(predicted_pos == pos)] = est_ratings\n"
   ]
  },
  {
   "cell_type": "code",
   "execution_count": null,
   "metadata": {},
   "outputs": [],
   "source": [
    "#all_tables[2018]['nwe'].keys()\n",
    "#'logo', 'name', 'conf'\n",
    "teams2 = []\n",
    "for t in teams:\n",
    "    try:\n",
    "        aaaa = all_tables[GEN_YEAR][t]['conf']\n",
    "        teams2.append(t)\n",
    "    except:\n",
    "        pass\n",
    "teams = teams2"
   ]
  },
  {
   "cell_type": "code",
   "execution_count": null,
   "metadata": {},
   "outputs": [],
   "source": [
    "confs = ['All']\n",
    "divs = list(set([all_tables[GEN_YEAR][t]['conf'][1] for t in teams]))\n",
    "divs"
   ]
  },
  {
   "cell_type": "code",
   "execution_count": null,
   "metadata": {},
   "outputs": [],
   "source": [
    "all_tables[GEN_YEAR][t1]['conf']"
   ]
  },
  {
   "cell_type": "code",
   "execution_count": null,
   "metadata": {},
   "outputs": [],
   "source": [
    "import random\n",
    "base = {}\n",
    "\n",
    "base['startingSeason'] = GEN_YEAR\n",
    "valid_tids = list(range(len(teams)))\n",
    "\n",
    "new_teams = []\n",
    "\n",
    "for i,t1 in enumerate(sorted(list(teams))):\n",
    "    t = {}\n",
    "    t['abbrev'] = t1.upper()[:3]\n",
    "    nsplit = all_tables[GEN_YEAR][t1]['name'].split(' ')\n",
    "    t['region'] = ' '.join(nsplit[:-1])\n",
    "    t['name'] = nsplit[-1]\n",
    "    t['imgURL'] = all_tables[GEN_YEAR][t1]['logo']\n",
    "    t['tid'] = i \n",
    "    div_name = all_tables[GEN_YEAR][t1]['conf'][1]\n",
    "    t['did'] = divs.index(div_name)\n",
    "    t['stadiumCapacity'] = 40000\n",
    "\n",
    "    t['cid'] = 0#[c in all_tables[GEN_YEAR][t1]['conf'] for c in confs].index(True)\n",
    "    new_teams.append(t)\n",
    "print(new_teams)\n",
    "team_abbbrevs = list(teams)\n",
    "    \n",
    "base['teams'] = new_teams\n",
    "base['gameAttributes'] = []\n",
    "base['version'] = 34\n",
    "DIVS = []\n",
    "for div in divs:\n",
    "    cid = 0#[c in div for c in confs].index(True)\n",
    "    did = divs.index(div)\n",
    "    DIVS.append({'did':did, 'cid':cid, 'name':div})\n",
    "print(DIVS)\n",
    "base['gameAttributes'] = [{'key':'numGamesPlayoffSeries', 'value':[1 for i in range(3)]}]\n",
    "base['gameAttributes'].append({'key':'divs', 'value': DIVS})\n",
    "base['gameAttributes'].append({'key':'confs', 'value': [{'cid':i, 'name':n } for i,n in enumerate(confs)]})\n",
    "\n",
    "base['gameAttributes'].append({'key':'numGames', 'value': 12})\n",
    "base['gameAttributes'].append({\"key\": \"maxContract\",\"value\": 7500})\n",
    "base['gameAttributes'].append({\"key\": \"maxRosterSize\",\"value\": 120})\n",
    "base['gameAttributes'].append({'key':'numPlayoffByes', 'value': 0})\n"
   ]
  },
  {
   "cell_type": "code",
   "execution_count": null,
   "metadata": {},
   "outputs": [],
   "source": [
    "base['gameAttributes']"
   ]
  },
  {
   "cell_type": "code",
   "execution_count": null,
   "metadata": {},
   "outputs": [],
   "source": []
  },
  {
   "cell_type": "code",
   "execution_count": null,
   "metadata": {},
   "outputs": [],
   "source": [
    "if gen_FA > 0:\n",
    "    player_names_f = player_names + [\"Free Agent{}\".format(write_roman(i)) for i in range(gen_FA)]\n",
    "    player_years_f = player_years + [GEN_YEAR for i in range(gen_FA)]\n",
    "    # scale them down, we don't want a bunch of amazing replacements\n",
    "    MEAN_S = 0.95\n",
    "    STD_S = 0.25\n",
    "    rp_ratings = np.random.multivariate_normal(MEAN_S*replacement_player_mean_r,STD_S*replacement_player_cov_r,size=(gen_FA))\n",
    "    ratings_f = np.vstack([ratings,rp_ratings])\n",
    "else:\n",
    "    player_names_f = player_names\n",
    "    player_years_f = player_years\n",
    "    ratings_f = ratings"
   ]
  },
  {
   "cell_type": "code",
   "execution_count": null,
   "metadata": {},
   "outputs": [],
   "source": [
    "l2 = [_.lower() for _ in y.columns]\n",
    "l2[1] = 'stre'\n",
    "l2[3] = 'endu'\n",
    "l2[-7] = 'tck'"
   ]
  },
  {
   "cell_type": "code",
   "execution_count": null,
   "metadata": {},
   "outputs": [],
   "source": []
  },
  {
   "cell_type": "code",
   "execution_count": null,
   "metadata": {},
   "outputs": [],
   "source": [
    "import pprint\n",
    "import copy\n",
    "import random\n",
    "gen_player = []\n",
    "pp = pprint.PrettyPrinter()\n",
    "for i,name in enumerate(player_names_f):\n",
    "    py = player_years_f[i]\n",
    "    name = player_names_f[i].replace('*','').replace('+','')\n",
    "    if name in ['Team Total','Opp Total']:\n",
    "        continue\n",
    "    sname = name.split(' ')\n",
    "    new_player = {}\n",
    "    new_player['firstName'] = sname[0]\n",
    "    new_player['lastName'] = ' '.join(sname[1:])\n",
    "    \n",
    "     \n",
    "    r_vec = {k: ratings_f[i][i2] for i2,k in enumerate(l2)}\n",
    "    r_vec = {k: int(np.clip(v,0,100)) for k,v in r_vec.items()}\n",
    "    #for t in ['hgt', 'stre', 'spd', 'jmp', 'endu', 'ins', 'dnk', 'ft', 'fg', 'tp', 'diq', 'oiq', 'drb', 'pss', 'reb']:\n",
    "    #    if not t in r_vec:\n",
    "    #        r_vec[t] = 50\n",
    "\n",
    "    true_pos = [predicted_pos[i]]\n",
    "    r_vec['pos'] = true_pos[0]\n",
    "    new_player['pos'] =true_pos[0]\n",
    "    #print(set(true_pos))\n",
    "\n",
    "\n",
    "    new_player['ratings'] = [r_vec]\n",
    "    age = player_ages[i]\n",
    "    new_player['born'] = {'year':GEN_YEAR-age,'loc':''}\n",
    "    new_player['tid'] = team_abbbrevs.index(player_teams[i])\n",
    "\n",
    "    exp = player_drafts[i]\n",
    "    try:\n",
    "        exp = int(exp)\n",
    "    except:\n",
    "        exp = 0\n",
    "    new_player['draft'] = {\"originalTid\": -1, \"pick\": 0, \"round\": 0, \"tid\": -1, \"year\": GEN_YEAR-exp}\n",
    "    new_player['weight'] = int(float(player_weights[i]))\n",
    "    try:\n",
    "        ht = [int(_) for _ in player_heights[i].split('-')]\n",
    "        hgt = ht[0]*12 + ht[1]\n",
    "        #print(ht,hgt)\n",
    "        new_player['hgt'] = int(hgt)#int(3.7*(hgt-66))\n",
    "    except:\n",
    "        pass\n",
    "    gen_player.append(new_player)\n"
   ]
  },
  {
   "cell_type": "code",
   "execution_count": null,
   "metadata": {},
   "outputs": [],
   "source": []
  },
  {
   "cell_type": "code",
   "execution_count": null,
   "metadata": {},
   "outputs": [],
   "source": [
    "#gen_player"
   ]
  },
  {
   "cell_type": "code",
   "execution_count": null,
   "metadata": {},
   "outputs": [],
   "source": [
    "sum(['pos' in _['ratings'][0] for _ in gen_player]),len(gen_player)"
   ]
  },
  {
   "cell_type": "code",
   "execution_count": null,
   "metadata": {},
   "outputs": [],
   "source": [
    "base['players'] = gen_player\n",
    "with open('cfbm_roster_{}.json'.format(tyear[0]),'wt') as fp:\n",
    "    json.dump(base,fp, sort_keys=True)"
   ]
  },
  {
   "cell_type": "code",
   "execution_count": null,
   "metadata": {},
   "outputs": [],
   "source": [
    "len(ratings),len(ratings_f),len(ratings)+gen_FA\n",
    "gen_player"
   ]
  },
  {
   "cell_type": "code",
   "execution_count": null,
   "metadata": {},
   "outputs": [],
   "source": [
    "sorted(['S','DL'])"
   ]
  },
  {
   "cell_type": "code",
   "execution_count": null,
   "metadata": {},
   "outputs": [],
   "source": [
    "ppos = [_.upper() for _ in set(sum(player_pos,[])) if _ != '0.0']"
   ]
  },
  {
   "cell_type": "code",
   "execution_count": null,
   "metadata": {},
   "outputs": [],
   "source": [
    "pPos = []\n",
    "for p in list(ppos):\n",
    "    if '/' in p:\n",
    "        for pp in p.split('/'):\n",
    "            pPos.append(pp)\n",
    "    else:\n",
    "        pPos.append(p)\n",
    "pPos = list(set(pPos))"
   ]
  },
  {
   "cell_type": "code",
   "execution_count": null,
   "metadata": {},
   "outputs": [],
   "source": []
  },
  {
   "cell_type": "code",
   "execution_count": null,
   "metadata": {},
   "outputs": [],
   "source": [
    "df.Pos.unique()"
   ]
  },
  {
   "cell_type": "code",
   "execution_count": null,
   "metadata": {},
   "outputs": [],
   "source": []
  },
  {
   "cell_type": "code",
   "execution_count": null,
   "metadata": {},
   "outputs": [],
   "source": []
  },
  {
   "cell_type": "code",
   "execution_count": null,
   "metadata": {},
   "outputs": [],
   "source": []
  },
  {
   "cell_type": "code",
   "execution_count": null,
   "metadata": {},
   "outputs": [],
   "source": []
  }
 ],
 "metadata": {
  "kernelspec": {
   "display_name": "Python 3",
   "language": "python",
   "name": "python3"
  },
  "language_info": {
   "codemirror_mode": {
    "name": "ipython",
    "version": 3
   },
   "file_extension": ".py",
   "mimetype": "text/x-python",
   "name": "python",
   "nbconvert_exporter": "python",
   "pygments_lexer": "ipython3",
   "version": "3.6.8"
  }
 },
 "nbformat": 4,
 "nbformat_minor": 2
}
