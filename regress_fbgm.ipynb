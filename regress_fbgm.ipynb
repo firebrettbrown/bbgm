{
 "cells": [
  {
   "cell_type": "code",
   "execution_count": null,
   "metadata": {},
   "outputs": [],
   "source": [
    "import json\n",
    "import os\n",
    "import sys\n",
    "import fnmatch\n",
    "\n",
    "\n",
    "import numpy as np\n",
    "import pandas as pd\n",
    "import matplotlib.pyplot as plt\n",
    "from collections import defaultdict"
   ]
  },
  {
   "cell_type": "code",
   "execution_count": null,
   "metadata": {},
   "outputs": [],
   "source": [
    "df = pd.read_csv('big_fbgm_stats.csv')\n",
    "df = pd.read_csv('FBGM_League_1_all_seasons_Average_Stats(1).csv')\n",
    "df.shape\n",
    "#df = df.sample(10000)\n",
    "df"
   ]
  },
  {
   "cell_type": "code",
   "execution_count": null,
   "metadata": {},
   "outputs": [],
   "source": [
    "df.columns"
   ]
  },
  {
   "cell_type": "code",
   "execution_count": null,
   "metadata": {},
   "outputs": [],
   "source": [
    "y = df.iloc[:,105:]\n",
    "X = df.iloc[:,11:103]\n",
    "#y = y[(X['AST%'] >0) & (X['AST%'] < 100)]\n",
    "print(X.shape)\n",
    "#X = X[(X['AST%'] >0) & (X['AST%'] < 100)]\n",
    "print(X.shape)\n",
    "\n",
    "valid_col = [_ for _ in X.columns if not _ in ['Blk','FL', 'Pen', 'Yds.6','Lng.4', 'APY', 'AV']]\n",
    "X = X[valid_col]\n",
    "replacement_filter = (df.Salary >= 0.25) & (df.Salary < 1.0)\n",
    "replacement_player_mean_bs = X[replacement_filter].mean()\n",
    "replacement_player_std_bs = X[replacement_filter].std()\n",
    "replacement_player_cov_bs = X[replacement_filter].cov()\n",
    "\n",
    "replacement_player_mean_r = y[replacement_filter].mean()\n",
    "replacement_player_std_r = y[replacement_filter].std()\n",
    "replacement_player_cov_r = y[replacement_filter].cov()\n",
    "\n",
    "\n",
    "replacement_player_mean_r\n",
    "\n",
    "X.columns\n",
    "#valid_col"
   ]
  },
  {
   "cell_type": "code",
   "execution_count": null,
   "metadata": {},
   "outputs": [],
   "source": [
    "from sklearn import neural_network\n",
    "from sklearn import linear_model\n",
    "from sklearn import preprocessing\n",
    "from sklearn import feature_selection, model_selection\n",
    "from sklearn import  multioutput\n",
    "from sklearn import ensemble\n",
    "from sklearn import svm"
   ]
  },
  {
   "cell_type": "code",
   "execution_count": null,
   "metadata": {},
   "outputs": [],
   "source": [
    "def get_norms(X):\n",
    "    means = np.zeros(X.shape[1])\n",
    "    stds  = np.zeros(X.shape[1])\n",
    "    for col in range(X.shape[1]):\n",
    "        xv = np.array(X)[:,col]\n",
    "        #print(xv[np.where(xv !=0)].shape,X.columns[col])\n",
    "        means[col] = xv[np.where(xv !=0)].mean()\n",
    "        stds[col] = xv[np.where(xv !=0)].std()\n",
    "    rX = (np.array(X)-means)/stds\n",
    "    rX[np.where(X == 0)] = -10\n",
    "    return rX,means,stds"
   ]
  },
  {
   "cell_type": "code",
   "execution_count": null,
   "metadata": {},
   "outputs": [],
   "source": [
    "prescale_X,oms,oss = get_norms(X)\n"
   ]
  },
  {
   "cell_type": "code",
   "execution_count": null,
   "metadata": {},
   "outputs": [],
   "source": [
    "fexp = preprocessing.PolynomialFeatures(degree=1,interaction_only=False)\n",
    "scalerX = preprocessing.StandardScaler()\n",
    "scalery = preprocessing.StandardScaler()\n",
    "prescale_X,oms,oss = get_norms(X)\n",
    "prescale_X = scalerX.fit_transform(X)\n",
    "prescale_y = scalery.fit_transform(y)\n",
    "prescale_X = fexp.fit_transform(prescale_X)\n",
    "X_train, X_test, y_train, y_test = model_selection.train_test_split(prescale_X, prescale_y, test_size=0.25, random_state=42)"
   ]
  },
  {
   "cell_type": "code",
   "execution_count": null,
   "metadata": {},
   "outputs": [],
   "source": [
    "trials = 1\n",
    "clf2 = None\n",
    "ts = []\n",
    "for i in range(trials):\n",
    "    #clf = neural_network.MLPRegressor((36,5,24,36),'tanh',solver='adam',max_iter=1000)\n",
    "    #clf = neural_network.MLPRegressor((),'identity',solver='lbfgs',alpha=5e2,tol=1e-9)\n",
    "    #clf = multioutput.MultiOutputRegressor(linear_model.SGDRegressor(penalty='l2',alpha=5e2,eta0=1e-6,tol=1e-12,max_iter=50,verbose=True))\n",
    "    clf = multioutput.MultiOutputRegressor(linear_model.ElasticNet(alpha=1,l1_ratio=0.85))\n",
    "    #clf = ensemble.ExtraTreesRegressor(8,criterion='mae',max_depth=3,verbose=1)\n",
    "    #clf = multioutput.MultiOutputRegressor(svm.SVR())\n",
    "    #clf.fit(X_train,y_train)\n",
    "    #print(clf.score(X_train,y_train),clf.score(X_test,y_test))\n",
    "    clf.fit(prescale_X,prescale_y)\n",
    "    yt = scalery.inverse_transform(clf.predict(prescale_X))\n",
    "    err = np.linalg.norm(yt-y)\n",
    "    ts.append((err,clf))"
   ]
  },
  {
   "cell_type": "code",
   "execution_count": null,
   "metadata": {},
   "outputs": [],
   "source": [
    "ts = sorted(ts)[::1] # why not the biggest error\n",
    "print(ts[0][0])\n",
    "clf = ts[0][1]\n",
    "clf.score(prescale_X,prescale_y)"
   ]
  },
  {
   "cell_type": "code",
   "execution_count": null,
   "metadata": {},
   "outputs": [],
   "source": [
    "col_names = X.columns\n",
    "col_names = fexp.get_feature_names(X.columns)\n",
    "\n",
    "for i,c in enumerate(y.columns):\n",
    "    coeffs = clf.estimators_[i].coef_ \n",
    "    v = np.argsort(abs(coeffs))[::-1]\n",
    "    print(c)\n",
    "    coeffs2 = [(coeffs[i2],col_names[i2]) for i2 in v[:10]]\n",
    "    #for v,n in sorted(coeffs2,reverse=True):\n",
    "    #    print('{:.2f} * {} + '.format(v,n),end='')\n",
    "    print('| Variable | Coeff |')\n",
    "    print('|----------|-------|')\n",
    "    for v,n in sorted(coeffs2,reverse=True):\n",
    "        print('|{:25s}|{:.5f}|'.format(n,v))\n",
    "    #for v,n in sorted(coeffs2,reverse=True):\n",
    "    #    print('\\t{:25s}\\t{:.2f}'.format(n,v))\n"
   ]
  },
  {
   "cell_type": "code",
   "execution_count": null,
   "metadata": {},
   "outputs": [],
   "source": [
    "GEN_YEAR = 2018\n",
    "tyear = [GEN_YEAR]\n",
    "#if tyear[0] < 1980:\n",
    "#    print(\"MY PARSING OF THE TABLES IS WRONG WITHOUT the 2PA/3PA TRACKS\")\n",
    "#    raise\n",
    "\n",
    "CURRENT_YEAR = 2018\n",
    "all_tables = {}\n",
    "for ty in tyear: \n",
    "    all_tables[ty] = np.load('fb_tables_{}.pkl'.format(ty))\n",
    "teams = all_tables[tyear[0]].keys()\n"
   ]
  },
  {
   "cell_type": "code",
   "execution_count": null,
   "metadata": {},
   "outputs": [],
   "source": [
    "player_stats = {k:{} for k in tyear}\n",
    "table_columns = defaultdict(dict)\n",
    "for ty in tyear:\n",
    "    tables = all_tables[ty]\n",
    "    for team in tables:\n",
    "        team_tables =  tables[team]\n",
    "        for table_name in team_tables:\n",
    "            if table_name in ['draft-rights','team_and_opponent','conf','name','logo']:\n",
    "                continue\n",
    "            table = team_tables[table_name].fillna(0)\n",
    "\n",
    "            #print(table_name)\n",
    "            #print(table.index)\n",
    "            for row in table.itertuples():\n",
    "                name = row[0]\n",
    "                name = name.replace('\\xa0\\xa0',' ')\n",
    "                if name == 'Team Totals':\n",
    "                    continue\n",
    "                nsplit = name.split(' ')\n",
    "                if nsplit[-1] in ['Jr.','Sr.','I','II','III',\"IV\",'(TW)']:\n",
    "                    name = ' '.join(nsplit[:-1])\n",
    "\n",
    "                player_table = player_stats[ty].get(name,{})\n",
    "                player_row = player_table.get(table_name,[])\n",
    "                player_row = player_row + [row]\n",
    "\n",
    "                player_table[table_name] = player_row\n",
    "                player_table['team'] = team\n",
    "                player_stats[ty][name] = player_table\n",
    "                \n",
    "                #if name == 'Dennis Smith Jr.' or name == 'Luka Doncic':\n",
    "                #    print(player_stats[ty][name],team)\n",
    "            tcs = list(table.columns)\n",
    "            for i in range(len(tcs)):\n",
    "                while tcs.index(tcs[i]) != i:\n",
    "                    if '.' in tcs[i]:\n",
    "                        tsplit = tcs[i].split('.')\n",
    "                        tsplit[-1] = str(int(tsplit[-1]) + 1)\n",
    "                        tcs[i] = '.'.join(tsplit)\n",
    "                    else:\n",
    "                        tcs[i] += '.1'\n",
    "            table_columns[(ty,team)][table_name] = tcs"
   ]
  },
  {
   "cell_type": "code",
   "execution_count": null,
   "metadata": {},
   "outputs": [],
   "source": [
    "table_mask = defaultdict(dict)\n",
    "for key in table_columns:\n",
    "    for table in table_columns[key]:\n",
    "        table_mask[key][table] = [_.strip() !=''  for _ in table_columns[key][table] ]\n",
    "        table_columns[key][table] = [_ for _ in table_columns[key][table] if _.strip() != '']\n",
    "#for player in player_stats:\n",
    "#    for table_in in player_stats[player]:\n",
    "#        if 'on_off' in table_in or 'salaries' in table_in:\n",
    "#            continue\n",
    "#        if len(player_stats[player][table_in]) > 1:\n",
    "#            pass\n",
    "            #print(player,table_in,'MP' in player_stats[player][table_in][0]._fields)\n",
    "            #print(player_stats[player][table_in][0])"
   ]
  },
  {
   "cell_type": "code",
   "execution_count": null,
   "metadata": {},
   "outputs": [],
   "source": [
    "# add playoff data to normal data\n",
    "if False:\n",
    "    for ty in tyear:\n",
    "        for player in player_stats[ty]:\n",
    "            for table_in in player_stats[ty][player]:\n",
    "                tableN = table_in.split('_')\n",
    "                tableS = '_'.join(tableN[1:])\n",
    "                if 'playoffs'==tableN[0] and not table_in in ['playoffs_pbp']:\n",
    "                    #print(table_in)\n",
    "                    if tableS in player_stats[ty][player]:\n",
    "                        player_stats[ty][player][tableS] += player_stats[ty][player][table_in]"
   ]
  },
  {
   "cell_type": "code",
   "execution_count": null,
   "metadata": {},
   "outputs": [],
   "source": [
    "#player_stats[1968]['Bill Allen']\n",
    "#player_stats[1968]['Jim Burns']['per_game'], table_columns[(1968,'DLC')]['per_game'].index('MP')"
   ]
  },
  {
   "cell_type": "code",
   "execution_count": null,
   "metadata": {},
   "outputs": [],
   "source": [
    "for ty in tyear:\n",
    "    for player in player_stats[ty]:\n",
    "        team = player_stats[ty][player]['team']\n",
    "        for tt in player_stats[ty][player]:\n",
    "            if tt == 'team':\n",
    "                continue\n",
    "            new_rows = []\n",
    "            for tablet in player_stats[ty][player][tt]:\n",
    "                vector = [_ if _ != '' else '0.0' for _ in tablet[1:]]\n",
    "                vector = [(float(_.replace('%',''))/100 if type(_) == str and'%' in _ else _) for _ in vector]\n",
    "                if 'on_off' in tt:\n",
    "                    vector = vector[1:]\n",
    "                if 'contracts' in tt:\n",
    "                    vector = vector[1:-2]\n",
    "                if tt in ['salaries2','contracts']:\n",
    "                    vector = [_.replace(',','').replace('$','') for _ in vector]\n",
    "                try:\n",
    "                    v2 = np.array(vector).astype(np.float)\n",
    "                except:\n",
    "                    v2 = vector\n",
    "                new_rows.append(vector)\n",
    "            a = np.array(new_rows)\n",
    "\n",
    "\n",
    "            if tt in table_columns[(ty,team)]:\n",
    "                if 'MP' in table_columns[(ty,team)][tt] and not tt in ['pbp','on_off','on_off_p']:\n",
    "                    try:\n",
    "                        a = a.astype(np.float)\n",
    "                    except:\n",
    "                        a = list(a)\n",
    "                        a[0] = np.array([float(_) for _ in a[0]])\n",
    "                        a[1] = np.array([float(_) for _ in a[1]])\n",
    "                        a = np.array(a)\n",
    "                    try:\n",
    "                        mins = a[:,table_columns[(ty,team)][tt].index('MP')].reshape((-1,1))\n",
    "                        new_rows = ((a.T @ mins)/mins.sum()).T\n",
    "                        a = new_rows\n",
    "                    except:\n",
    "                        #print(tt,a.shape,player,a,mins)\n",
    "                        #print('.',end='')\n",
    "                        \n",
    "                        print(ty,team,player,tt)\n",
    "                        continue\n",
    "            player_stats[ty][player][tt] = a\n"
   ]
  },
  {
   "cell_type": "code",
   "execution_count": null,
   "metadata": {},
   "outputs": [],
   "source": [
    "player_stats"
   ]
  },
  {
   "cell_type": "code",
   "execution_count": null,
   "metadata": {},
   "outputs": [],
   "source": []
  },
  {
   "cell_type": "code",
   "execution_count": null,
   "metadata": {},
   "outputs": [],
   "source": [
    "len(X.columns)"
   ]
  },
  {
   "cell_type": "code",
   "execution_count": null,
   "metadata": {},
   "outputs": [],
   "source": [
    "\n",
    "\n"
   ]
  },
  {
   "cell_type": "code",
   "execution_count": null,
   "metadata": {},
   "outputs": [],
   "source": [
    "X.columns"
   ]
  },
  {
   "cell_type": "code",
   "execution_count": null,
   "metadata": {},
   "outputs": [],
   "source": [
    "#'returns', 'kicking'\n",
    "table_columns[(2018,'nwe')]['kicking']\n"
   ]
  },
  {
   "cell_type": "code",
   "execution_count": null,
   "metadata": {},
   "outputs": [],
   "source": [
    "lt = [\n",
    "      ('Cmp','passing'),('Att','passing'),('Pct','passing','Cmp%'),\n",
    "      ('Yds','passing'),('TD','passing'),('TD%','passing'),('Int','passing'),\n",
    "      ('Int%','passing'),('Lng','passing'),('Y/A','passing'),('AY/A','passing'),('QBRat','passing','Rate'),\n",
    "      ('Y/C','passing'),('Y/G','passing'),('Sk','passing'),('Yds.1','passing'),('NY/A','passing'),\n",
    "      ('ANY/A','passing'),('Sk%','passing'),('Rush','rushing_and_receiving','Att'),\n",
    "      ('Yds.2','rushing_and_receiving','Yds'),('TD.1','rushing_and_receiving','TD'),('Lng.1','rushing_and_receiving','Lng'),\n",
    "      ('Y/A.1','rushing_and_receiving','Y/A'),('Y/G.1','rushing_and_receiving','Y/G'),('A/G','rushing_and_receiving'),\n",
    "      ('Tgt','rushing_and_receiving'),('Rec','rushing_and_receiving'),('Yds.3','rushing_and_receiving','Yds.1'),\n",
    "      ('TD.2','rushing_and_receiving','TD.1'),('Lng.2','rushing_and_receiving','Lng.1'),('Y/R','rushing_and_receiving'),\n",
    "      ('R/G','rushing_and_receiving'),('Y/G.2','rushing_and_receiving','Y/G.1'),('Ctch%','rushing_and_receiving'),\n",
    "      ('Y/Tch','rushing_and_receiving'),('Y/Tgt','rushing_and_receiving'),('Tch','rushing_and_receiving','Touch'),\n",
    "      ('YScm','rushing_and_receiving'),('RRTD','rushing_and_receiving'),('Int.1','defense','Int'),\n",
    "      ('Yds.4','defense','Yds'),('TD.3','defense','TD'),('Lng.3','defense','Lng'),('PD','defense'),\n",
    "      ('FF','defense'),('FR','defense'),('Yds.5','defense','Yds.1'),('TD.4','defense','TD.1'),('Sk.1','defense','Sk'),\n",
    "      ('Tck','defense','Comb'),('Solo','defense'),('Ast','defense'),('TFL','defense'),('Sfty','defense'),('Fmb','defense'),\n",
    "      ('FG10','kicking','FGM'),('FGA10','kicking','FGA'),('FG20','kicking','FGM.1'),('FGA20','kicking','FGA.1'),\n",
    "      ('FG30','kicking','FGM.2'),('FGA30','kicking','FGA.2'),('FG40','kicking','FGM.3'),('FGA40','kicking','FGA.3'),\n",
    "      ('FG50','kicking','FGM.4'),('FGA50','kicking','FGA.4'),('FGM','kicking','FGM.5'),('FGA','kicking','FGA.5'),\n",
    "      ('Pct.1','kicking','FG%'),('XPM','kicking'),('XPA','kicking'),('Pct.2','kicking','XP%'),('Pnt','kicking'),\n",
    "      ('Yds.7','kicking','Yds'),('Lng.5','kicking','Lng'),('Blk','kicking','Blck'),('Y/A.2','kicking','Y/P'),\n",
    "      ('PR','returns','Ret'),('Yds.8','returns','Yds'),('TD.5','returns','TD'),('Lng.6','returns','Lng'),\n",
    "      ('Y/A.3','returns','Y/R'),('KR','returns','Rt'),('Yds.9','returns','Yds.1'),('TD.6','returns','TD.1'),\n",
    "      ('Lng.7','returns','Lng.1'),('Y/A.4','returns','Y/Rt')]\n",
    "\n",
    "locations = []\n",
    "for loc in lt:\n",
    "    if len(loc) == 2:\n",
    "        loc = list(loc)\n",
    "        loc.append(loc[0])\n",
    "    locations.append(loc)\n",
    "\n",
    "        \n",
    "locs = defaultdict(dict)\n",
    "for ty in tyear:\n",
    "    for team in all_tables[ty]:\n",
    "        for loc in locations:\n",
    "            try:\n",
    "                locs[(ty,team)][loc[0]] = (table_columns[(ty,team)][loc[1]].index(loc[2]),loc[1])\n",
    "            except Exception as e:\n",
    "                #print(e)\n",
    "                #print(team,ty)\n",
    "                print(e,loc)\n",
    "                pass#print(loc,table_columns[loc[1]])\n",
    "    #if 'shooting' in table_columns:\n",
    "    #    l = list(locs['LowPostFGP'])\n",
    "    #    l[0] +=2\n",
    "    #    locs['MidRangeFGP'] = l\n",
    "len(locs[(2018,'nwe')]),locs[(2018,'nwe')]"
   ]
  },
  {
   "cell_type": "code",
   "execution_count": null,
   "metadata": {},
   "outputs": [],
   "source": [
    "player_vectors = []\n",
    "player_names = []\n",
    "player_years = []\n",
    "player_scales = []\n",
    "player_heights = []\n",
    "player_ages = []\n",
    "player_teams = []\n",
    "player_pos = []\n",
    "for ty in tyear:\n",
    "    for name in player_stats[ty]:\n",
    "        try:\n",
    "            stats = player_stats[ty][name]\n",
    "            team = stats['team']\n",
    "\n",
    "            d = {}\n",
    "            for k,v in locs[(ty,team)].items():\n",
    "                SV  = 0\n",
    "                try:\n",
    "                    SV = float(stats[v[1]][0][v[0]])\n",
    "                except:\n",
    "                    pass\n",
    "                d[k] = 0 if SV == '' else SV\n",
    "            d['Pos'] = []\n",
    "            for t in ['passing','defense','returns','kicking','rushing_and_receiving']:\n",
    "                try:\n",
    "                    d['Age'] = int(float(stats[t][0][table_columns[(ty,team)][t].index('Age')]))\n",
    "                except:\n",
    "                    pass\n",
    "                try:\n",
    "                    d['Pos'].append(stats[t][0][table_columns[(ty,team)][t].index('Pos')])\n",
    "                except:\n",
    "                    pass\n",
    "            player_vectors.append([d[stat] for stat in X.columns])\n",
    "            player_names.append(name)\n",
    "            player_years.append(ty)\n",
    "            player_ages.append(d['Age'])\n",
    "            player_pos.append(d['Pos'])\n",
    "\n",
    "            player_teams.append(team)\n",
    "        except Exception as e:\n",
    "            print(name,team)\n",
    "            print(e)\n",
    "            print(d.keys())\n",
    "            #if name == 'Bill Bradley':\n",
    "            #    raise\n",
    "            raise\n",
    "X.columns"
   ]
  },
  {
   "cell_type": "code",
   "execution_count": null,
   "metadata": {},
   "outputs": [],
   "source": [
    "first_n = len([yr for yr in player_years if yr == tyear[0]])\n",
    "gen_FA = len(teams)*5 if CURRENT_YEAR!=GEN_YEAR else 0\n",
    "first_n,len(teams),gen_FA\n",
    "#player_names"
   ]
  },
  {
   "cell_type": "code",
   "execution_count": null,
   "metadata": {},
   "outputs": [],
   "source": [
    "Xn = np.nan_to_num(np.array(player_vectors))\n",
    "#Xn.shape,Xn_s.shape,prescale_X.shape,fexp.n_input_features_,X.shape"
   ]
  },
  {
   "cell_type": "code",
   "execution_count": null,
   "metadata": {},
   "outputs": [],
   "source": []
  },
  {
   "cell_type": "code",
   "execution_count": null,
   "metadata": {},
   "outputs": [],
   "source": [
    "#Xn = np.nan_to_num(np.array(player_vectors))\n",
    "# tuned this to get roughly 8-12 players at 70 or above. Which seemed like normal for a league\n",
    "scalerX2 = preprocessing.StandardScaler()#(quantile_range=(30.0, 70.0))\n",
    "#scalerX2.fit(Xn[:first_n])\n",
    "#scalerX2 = scalerX\n",
    "Xn_s,oms2,oss2 = get_norms(Xn)\n",
    "\n",
    "Xn_s =scalerX2.fit_transform(np.nan_to_num(Xn))\n",
    "Xn_fs = fexp.transform(np.nan_to_num(Xn_s))\n",
    "predict = clf.predict(Xn_fs)\n",
    "ratings = np.nan_to_num(scalery.inverse_transform(predict))\n"
   ]
  },
  {
   "cell_type": "code",
   "execution_count": null,
   "metadata": {},
   "outputs": [],
   "source": [
    "v = X.mean(0)-Xn.mean(0)\n",
    "v.sort_values()"
   ]
  },
  {
   "cell_type": "code",
   "execution_count": null,
   "metadata": {},
   "outputs": [],
   "source": [
    "all_tables[2018]['nwe'].keys()\n",
    "#'logo', 'name', 'conf'"
   ]
  },
  {
   "cell_type": "code",
   "execution_count": null,
   "metadata": {},
   "outputs": [],
   "source": [
    "confs = ['AFC','NFC']\n",
    "divs = list(set([all_tables[GEN_YEAR][t]['conf'][:-9] for t in teams]))\n",
    "divs"
   ]
  },
  {
   "cell_type": "code",
   "execution_count": null,
   "metadata": {},
   "outputs": [],
   "source": [
    "import random\n",
    "base = {}\n",
    "\n",
    "base['startingSeason'] = tyear[0]\n",
    "valid_tids = list(range(len(teams)))\n",
    "\n",
    "new_teams = []\n",
    "\n",
    "for i,t1 in enumerate(sorted(list(teams))):\n",
    "    t = {}\n",
    "    t['abbrev'] = t1.upper()\n",
    "    nsplit = all_tables[GEN_YEAR][t1]['name'].split(' ')\n",
    "    t['region'] = ' '.join(nsplit[:-1])\n",
    "    t['name'] = nsplit[-1]\n",
    "    t['imgURL'] = all_tables[GEN_YEAR][t1]['logo']\n",
    "    t['tid'] = i \n",
    "    t['did'] = divs.index(all_tables[GEN_YEAR][t1]['conf'][:9].rstrip())\n",
    "    t['cid'] = [c in all_tables[GEN_YEAR][t1]['conf'] for c in confs].index(True)\n",
    "    new_teams.append(t)\n",
    "print(new_teams)\n",
    "team_abbbrevs = list(teams)\n",
    "    \n",
    "base['teams'] = new_teams\n",
    "base['gameAttributes'] = []\n",
    "base['version'] = 33\n",
    "DIVS = []\n",
    "for div in divs:\n",
    "    cid = [c in div for c in confs].index(True)\n",
    "    did = divs.index(div)\n",
    "    DIVS.append({'did':did, 'cid':cid, 'name':div})\n",
    "print(DIVS)\n",
    "base['gameAttributes'].append({'key':'divs', 'value': DIVS})\n",
    "base['gameAttributes'].append({'key':'confs', 'value': [{'cid':i, 'name':n } for i,n in enumerate(confs)]})\n"
   ]
  },
  {
   "cell_type": "code",
   "execution_count": null,
   "metadata": {},
   "outputs": [],
   "source": [
    "confs"
   ]
  },
  {
   "cell_type": "code",
   "execution_count": null,
   "metadata": {},
   "outputs": [],
   "source": [
    "'QB', 'OL', 'TE', 'DL', 'S', 'CB', 'WR', 'LB', 'RB', 'P', 'K'\n",
    "pos_mapping = {\n",
    " 'LG':'OL',\n",
    " 'RG':'OL',\n",
    " 'CB':'CB',\n",
    " 'LOLB':'LB',\n",
    " 'RB':'RB',\n",
    " 'FB':'RB',\n",
    " 'K':'K',\n",
    " 'C':'OL',\n",
    " 'LCB':'CB',\n",
    " 'RCB':'CB',\n",
    " 'FS':'S',\n",
    " 'RDT':'DL',\n",
    " 'QB':'QB',\n",
    " 'DL':'DL',\n",
    " 'MLB':'LB',\n",
    " 'WR':'WR',\n",
    " 'S':'S',\n",
    " 'SS':'S',\n",
    " 'TE':'TE',\n",
    " 'DT':'DL',\n",
    " 'RILB':'LB',\n",
    " 'T':'OL',\n",
    " 'LDT':'DL',\n",
    " 'P':'P',\n",
    " 'LILB':'LB',\n",
    " 'ROLB':'LB',\n",
    " 'LB':'LB',\n",
    " 'DB':'S',\n",
    " 'DE':'DL',\n",
    " 'NT':'DL'\n",
    "}"
   ]
  },
  {
   "cell_type": "code",
   "execution_count": null,
   "metadata": {},
   "outputs": [],
   "source": [
    "if gen_FA > 0:\n",
    "    player_names_f = player_names + [\"Free Agent{}\".format(write_roman(i)) for i in range(gen_FA)]\n",
    "    player_years_f = player_years + [GEN_YEAR for i in range(gen_FA)]\n",
    "    # scale them down, we don't want a bunch of amazing replacements\n",
    "    MEAN_S = 0.95\n",
    "    STD_S = 0.25\n",
    "    rp_ratings = np.random.multivariate_normal(MEAN_S*replacement_player_mean_r,STD_S*replacement_player_cov_r,size=(gen_FA))\n",
    "    ratings_f = np.vstack([ratings,rp_ratings])\n",
    "else:\n",
    "    player_names_f = player_names\n",
    "    player_years_f = player_years\n",
    "    ratings_f = ratings"
   ]
  },
  {
   "cell_type": "code",
   "execution_count": null,
   "metadata": {},
   "outputs": [],
   "source": [
    "l2 = [_.lower() for _ in y.columns]\n",
    "l2[1] = 'stre'\n",
    "l2[3] = 'endu'\n",
    "l2[-7] = 'tck'"
   ]
  },
  {
   "cell_type": "code",
   "execution_count": null,
   "metadata": {},
   "outputs": [],
   "source": [
    "if clf2 is None:\n",
    "    valid_pos = df.Pos.unique()\n",
    "    clf2 = linear_model.LogisticRegression()\n",
    "    clf2.fit(X,df.Pos)\n",
    "    pred_pos = clf2.predict(Xn)\n",
    "    print(clf2.score(X,df.Pos))"
   ]
  },
  {
   "cell_type": "code",
   "execution_count": null,
   "metadata": {},
   "outputs": [],
   "source": [
    "import pprint\n",
    "import copy\n",
    "import random\n",
    "gen_player = []\n",
    "pp = pprint.PrettyPrinter()\n",
    "for i,name in enumerate(player_names_f):\n",
    "    py = player_years_f[i]\n",
    "    name = player_names_f[i].replace('*','').replace('+','')\n",
    "    if name in ['Team Total','Opp Total']:\n",
    "        continue\n",
    "    sname = name.split(' ')\n",
    "    new_player = {}\n",
    "    new_player['firstName'] = sname[0]\n",
    "    new_player['lastName'] = ' '.join(sname[1:])\n",
    "    \n",
    "     \n",
    "    r_vec = {k: ratings_f[i][i2] for i2,k in enumerate(l2)}\n",
    "    r_vec = {k: int(np.clip(v,0,100)) for k,v in r_vec.items()}\n",
    "    #for t in ['hgt', 'stre', 'spd', 'jmp', 'endu', 'ins', 'dnk', 'ft', 'fg', 'tp', 'diq', 'oiq', 'drb', 'pss', 'reb']:\n",
    "    #    if not t in r_vec:\n",
    "    #        r_vec[t] = 50\n",
    "    if True:\n",
    "        try:\n",
    "            possible_pos = [_.upper() for _ in player_pos[i] if _ != '0.0']\n",
    "            pposs = []\n",
    "            for pos in list(possible_pos):\n",
    "                if '/' in pos:\n",
    "                    pp = pos.split('/')\n",
    "                    for ppp in pp:\n",
    "                        pposs.append(ppp)\n",
    "                else:\n",
    "                    pposs.append(pos)\n",
    "            possible_pos = [pos_mapping[_] for _ in set(pposs)]\n",
    "            true_pos = list(set([_ for _ in possible_pos if _ in valid_pos]))\n",
    "            random.shuffle(true_pos)\n",
    "            r_vec['pos'] = true_pos[0]\n",
    "            new_player['pos'] =true_pos[0]\n",
    "            #print(set(true_pos))\n",
    "        except:\n",
    "            r_vec['pos'] = pred_pos[i]\n",
    "            new_player['pos'] = pred_pos[i]\n",
    "            #print(i,  player_pos[i])\n",
    "            pass\n",
    "\n",
    "    new_player['ratings'] = [r_vec]\n",
    "    age = player_ages[i]\n",
    "    new_player['born'] = {'year':2019-age,'loc':''}\n",
    "    new_player['tid'] = team_abbbrevs.index(player_teams[i])\n",
    "\n",
    "    \n",
    "    gen_player.append(new_player)\n"
   ]
  },
  {
   "cell_type": "code",
   "execution_count": null,
   "metadata": {},
   "outputs": [],
   "source": [
    "#gen_player"
   ]
  },
  {
   "cell_type": "code",
   "execution_count": null,
   "metadata": {},
   "outputs": [],
   "source": [
    "sum(['pos' in _['ratings'][0] for _ in gen_player]),len(gen_player)"
   ]
  },
  {
   "cell_type": "code",
   "execution_count": null,
   "metadata": {},
   "outputs": [],
   "source": [
    "base['players'] = gen_player\n",
    "with open('fbgm_roster_{}.json'.format(tyear[0]),'wt') as fp:\n",
    "    json.dump(base,fp, sort_keys=True)"
   ]
  },
  {
   "cell_type": "code",
   "execution_count": null,
   "metadata": {},
   "outputs": [],
   "source": [
    "len(ratings),len(ratings_f),len(ratings)+gen_FA\n",
    "gen_player"
   ]
  },
  {
   "cell_type": "code",
   "execution_count": null,
   "metadata": {},
   "outputs": [],
   "source": [
    "sorted(['S','DL'])"
   ]
  },
  {
   "cell_type": "code",
   "execution_count": null,
   "metadata": {},
   "outputs": [],
   "source": [
    "ppos = [_.upper() for _ in set(sum(player_pos,[])) if _ != '0.0']"
   ]
  },
  {
   "cell_type": "code",
   "execution_count": null,
   "metadata": {},
   "outputs": [],
   "source": [
    "pPos = []\n",
    "for p in list(ppos):\n",
    "    if '/' in p:\n",
    "        for pp in p.split('/'):\n",
    "            pPos.append(pp)\n",
    "    else:\n",
    "        pPos.append(p)\n",
    "pPos = list(set(pPos))"
   ]
  },
  {
   "cell_type": "code",
   "execution_count": null,
   "metadata": {},
   "outputs": [],
   "source": []
  },
  {
   "cell_type": "code",
   "execution_count": null,
   "metadata": {},
   "outputs": [],
   "source": [
    "df.Pos.unique()"
   ]
  },
  {
   "cell_type": "code",
   "execution_count": null,
   "metadata": {},
   "outputs": [],
   "source": []
  },
  {
   "cell_type": "code",
   "execution_count": null,
   "metadata": {},
   "outputs": [],
   "source": []
  },
  {
   "cell_type": "code",
   "execution_count": null,
   "metadata": {},
   "outputs": [],
   "source": []
  },
  {
   "cell_type": "code",
   "execution_count": null,
   "metadata": {},
   "outputs": [],
   "source": []
  }
 ],
 "metadata": {
  "kernelspec": {
   "display_name": "Python 3",
   "language": "python",
   "name": "python3"
  },
  "language_info": {
   "codemirror_mode": {
    "name": "ipython",
    "version": 3
   },
   "file_extension": ".py",
   "mimetype": "text/x-python",
   "name": "python",
   "nbconvert_exporter": "python",
   "pygments_lexer": "ipython3",
   "version": "3.6.8"
  }
 },
 "nbformat": 4,
 "nbformat_minor": 2
}
