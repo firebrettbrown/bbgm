{
 "cells": [
  {
   "cell_type": "code",
   "execution_count": null,
   "metadata": {},
   "outputs": [],
   "source": [
    "import json\n",
    "import os\n",
    "import sys\n",
    "import fnmatch\n",
    "\n",
    "\n",
    "import numpy as np\n",
    "import pandas as pd\n",
    "import matplotlib.pyplot as plt\n"
   ]
  },
  {
   "cell_type": "code",
   "execution_count": null,
   "metadata": {},
   "outputs": [],
   "source": [
    "def load_roster(filename):\n",
    "    base = json.load(open(filename,'rb'))\n",
    "\n",
    "    \n",
    "    for i in range(len(base['players'])):\n",
    "        player = base['players'][i]\n",
    "        if 'name' in player and player['name'] !='':\n",
    "            sname = base['players'][i]['name'].split()\n",
    "            base['players'][i]['firstName'] = sname[0]\n",
    "            base['players'][i]['lastName'] = ' '.join(sname[1:])\n",
    "            del base['players'][i]['name']\n",
    "    players = base['players']\n",
    "    #base['version'] = 32\n",
    "\n",
    "    return players,base"
   ]
  },
  {
   "cell_type": "code",
   "execution_count": null,
   "metadata": {},
   "outputs": [],
   "source": [
    "players,base = load_roster('nflrosters_2020_Madden_v1.json')\n",
    "len(players)"
   ]
  },
  {
   "cell_type": "code",
   "execution_count": null,
   "metadata": {},
   "outputs": [],
   "source": [
    "current_ratings =  [_['ratings'][0] for _ in players]\n",
    "current_ratings = pd.DataFrame(current_ratings)\n",
    "if 'ovr' in current_ratings.columns:\n",
    "    current_ratings = current_ratings.drop(['ovr'],1)\n"
   ]
  },
  {
   "cell_type": "code",
   "execution_count": null,
   "metadata": {},
   "outputs": [],
   "source": [
    "current_ratings.columns"
   ]
  },
  {
   "cell_type": "code",
   "execution_count": null,
   "metadata": {},
   "outputs": [],
   "source": [
    "old_ratings = pd.read_csv('FBGM_League_1_all_seasons_Average_Stats(1).csv')\n",
    "current_ratings.columns,old_ratings.columns[-20:]"
   ]
  },
  {
   "cell_type": "code",
   "execution_count": null,
   "metadata": {},
   "outputs": [],
   "source": [
    "old_ratings.columns = [_.lower() for _ in old_ratings.columns]\n",
    "old_ratings['stre'] = old_ratings.str\n",
    "old_ratings['endu'] = old_ratings.end"
   ]
  },
  {
   "cell_type": "code",
   "execution_count": null,
   "metadata": {},
   "outputs": [],
   "source": [
    "import scipy.stats\n",
    "stats_correct = {}\n",
    "\n",
    "\n",
    "for key in current_ratings.columns:\n",
    "    if key in ['pots','ovrs','pos','season','pot','ovr']:\n",
    "        continue\n",
    "    try:\n",
    "        #print(key)\n",
    "        orate,crate = old_ratings[key],current_ratings[key]\n",
    "        plt.figure()\n",
    "        plt.hist(crate,20,label='base',alpha=0.5,density=True)\n",
    "        plt.hist(orate,20,label='simulated',alpha=0.5,density=True)\n",
    "        stats_correct[key] = {'sim': (scipy.stats.tmean(orate),scipy.stats.tstd(orate)), 'base': (scipy.stats.tmean(crate),scipy.stats.tstd(crate))}\n",
    "\n",
    "        plt.legend()\n",
    "        plt.title(key)\n",
    "        \n",
    "    except KeyboardInterrupt:\n",
    "        raise\n",
    "    except:\n",
    "        print('\\t',key)"
   ]
  },
  {
   "cell_type": "code",
   "execution_count": null,
   "metadata": {},
   "outputs": [],
   "source": [
    "if False:\n",
    "    std_multi = 1.2\n",
    "    mean_multi = 0.9\n",
    "    for key in stats_correct:\n",
    "        stats_correct[key]['base'] = (stats_correct[key]['base'][0]*mean_multi,stats_correct[key]['base'][1])\n",
    "        stats_correct[key]['sim'] = (stats_correct[key]['sim'][0],stats_correct[key]['sim'][1]*std_multi)\n",
    "\n",
    "stats_correct"
   ]
  },
  {
   "cell_type": "code",
   "execution_count": null,
   "metadata": {},
   "outputs": [],
   "source": [
    "for player in base['players']:\n",
    "    for key in player['ratings'][0]:\n",
    "        if key in stats_correct:\n",
    "            cv = player['ratings'][0][key]\n",
    "            z = (cv-stats_correct[key]['base'][0])/stats_correct[key]['base'][1]\n",
    "            player['ratings'][0][key] = int(round(np.clip(z*stats_correct[key]['sim'][1] + stats_correct[key]['sim'][0],0,100)))"
   ]
  },
  {
   "cell_type": "code",
   "execution_count": null,
   "metadata": {},
   "outputs": [],
   "source": [
    "len(current_ratings.columns)"
   ]
  },
  {
   "cell_type": "code",
   "execution_count": null,
   "metadata": {},
   "outputs": [],
   "source": [
    "players_discard = [_ for _ in base['players']]\n",
    "current_ratings2 =  [_['ratings'][0] for _ in players]\n",
    "current_ratings2 = pd.DataFrame(current_ratings2)\n",
    "if 'ovr' in current_ratings2.columns:\n",
    "    current_ratings2 = current_ratings2.drop(['ovr'],1)\n",
    "plt.figure(figsize=(24,24))\n",
    "for idx,key in enumerate(current_ratings.columns):\n",
    "    if key in ['pots','ovrs','pos','season','pot','ovr']:\n",
    "        continue\n",
    "    orate,crate = old_ratings[key],current_ratings[key]\n",
    "    w,h = idx//10,idx%10\n",
    "    plt.subplot(10,8,(1+8*h+w))\n",
    "    plt.hist(orate,20,label='simulated',alpha=0.5,density=True)\n",
    "    plt.hist(crate,20,label='base',alpha=0.5,density=True)\n",
    "    \n",
    "    plt.legend()\n",
    "    plt.title(key)\n",
    "for idx,key in enumerate(current_ratings.columns):\n",
    "    if key in ['pots','ovrs','pos','season','pot','ovr']:\n",
    "        continue\n",
    "    orate,crate = old_ratings[key],current_ratings2[key]\n",
    "    w,h = idx//10,idx%10\n",
    "    plt.subplot(10,8,(1+8*h+w+10))\n",
    "    plt.hist(orate,20,label='simulated',alpha=0.5,density=True)\n",
    "    plt.hist(crate,20,label='corrected',alpha=0.5,density=True)\n",
    "\n",
    "    plt.legend()\n",
    "    plt.title(key)\n",
    "plt.tight_layout()\n",
    "plt.savefig('plot.png',edgecolor='w',facecolor='w')"
   ]
  },
  {
   "cell_type": "code",
   "execution_count": null,
   "metadata": {},
   "outputs": [],
   "source": [
    "with open('normed_new.json','wt') as fp:\n",
    "    json.dump(base,fp, indent=4, sort_keys=True)"
   ]
  },
  {
   "cell_type": "code",
   "execution_count": null,
   "metadata": {},
   "outputs": [],
   "source": [
    "[_ for _ in base['players'] if _['firstName'] == 'Zion']"
   ]
  },
  {
   "cell_type": "code",
   "execution_count": null,
   "metadata": {},
   "outputs": [],
   "source": [
    "[_ for _ in base['players'] if _['firstName'] == 'Zion']"
   ]
  },
  {
   "cell_type": "code",
   "execution_count": null,
   "metadata": {},
   "outputs": [],
   "source": []
  }
 ],
 "metadata": {
  "kernelspec": {
   "display_name": "Python 3",
   "language": "python",
   "name": "python3"
  },
  "language_info": {
   "codemirror_mode": {
    "name": "ipython",
    "version": 3
   },
   "file_extension": ".py",
   "mimetype": "text/x-python",
   "name": "python",
   "nbconvert_exporter": "python",
   "pygments_lexer": "ipython3",
   "version": "3.6.8"
  }
 },
 "nbformat": 4,
 "nbformat_minor": 2
}
