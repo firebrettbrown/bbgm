{
 "cells": [
  {
   "cell_type": "code",
   "execution_count": null,
   "metadata": {},
   "outputs": [],
   "source": [
    "import json\n",
    "import os\n",
    "import sys\n",
    "import fnmatch\n",
    "\n",
    "\n",
    "import numpy as np\n",
    "import pandas as pd\n",
    "import matplotlib.pyplot as plt\n"
   ]
  },
  {
   "cell_type": "code",
   "execution_count": null,
   "metadata": {},
   "outputs": [],
   "source": [
    "df = pd.read_csv('BBGM_League_2_all_seasons_Average_Stats.csv')"
   ]
  },
  {
   "cell_type": "code",
   "execution_count": null,
   "metadata": {},
   "outputs": [],
   "source": [
    "y = df.iloc[:,-15:]\n",
    "X = df.iloc[:,11:-17]\n",
    "y = y[(X['AST%'] >0) & (X['AST%'] < 100)]\n",
    "X = X[(X['AST%'] >0) & (X['AST%'] < 100)]\n",
    "X['MP'] = df.MP\n",
    "df.columns,X.shape"
   ]
  },
  {
   "cell_type": "code",
   "execution_count": null,
   "metadata": {},
   "outputs": [],
   "source": [
    "for name in ['FG','FGA','3P',\"3PA\",'FT','FTA',\\\n",
    "             'ORB','DRB','TRB','AST','TOV','STL',\"Blk\",\\\n",
    "             'PF',\"PTS\",'OWS','DWS']:\n",
    "    X[name + 'p36'] = 36* df[name]/np.maximum(1,df.MP)\n",
    "\n",
    "X = X[[_ for _ in X.columns if '%' in _ or 'r' in _ or 'FGP' in _ or \"+/-\" in _ or 'p36' in _ or _ in ['PER','MP']]]\n",
    "X.columns"
   ]
  },
  {
   "cell_type": "code",
   "execution_count": null,
   "metadata": {},
   "outputs": [],
   "source": [
    "from sklearn import neural_network\n",
    "from sklearn import linear_model\n",
    "from sklearn import preprocessing\n"
   ]
  },
  {
   "cell_type": "code",
   "execution_count": null,
   "metadata": {},
   "outputs": [],
   "source": [
    "fexp = preprocessing.PolynomialFeatures(degree=1,interaction_only=True)\n",
    "scalerX = preprocessing.StandardScaler(with_mean=True,with_std=True)\n",
    "scalery = preprocessing.StandardScaler(with_mean=True,with_std=True)\n",
    "prescale_X = scalerX.fit_transform(X)\n",
    "prescale_y = scalery.fit_transform(y)\n",
    "prescale_X = fexp.fit_transform(prescale_X)"
   ]
  },
  {
   "cell_type": "code",
   "execution_count": null,
   "metadata": {},
   "outputs": [],
   "source": [
    "clf = neural_network.MLPRegressor((10,5,10),'tanh',solver='adam',max_iter=1000)\n",
    "#clf = neural_network.MLPRegressor((),'identity',solver='lbfgs')\n",
    "\n",
    "clf.fit(prescale_X,prescale_y)"
   ]
  },
  {
   "cell_type": "code",
   "execution_count": null,
   "metadata": {},
   "outputs": [],
   "source": [
    "yt = scalery.inverse_transform(clf.predict(prescale_X))\n",
    "print(np.linalg.norm(yt-y))"
   ]
  },
  {
   "cell_type": "code",
   "execution_count": null,
   "metadata": {},
   "outputs": [],
   "source": [
    "col_names = X.columns\n",
    "col_names = fexp.get_feature_names(X.columns)\n",
    "\n",
    "for i,c in enumerate(df.columns[-15:]):\n",
    "    coeffs = clf.coefs_[-1][:,i]\n",
    "    v = np.argsort(coeffs)[::-1]\n",
    "    print(c)\n",
    "    for i2 in v:\n",
    "        if abs(coeffs[i2]) < 0.1:\n",
    "            continue\n",
    "        print('\\t{:25s}\\t{:.2f}'.format(col_names[i2],coeffs[i2]))\n"
   ]
  },
  {
   "cell_type": "code",
   "execution_count": null,
   "metadata": {},
   "outputs": [],
   "source": [
    "tables =np.load('tables_2019.pkl')\n",
    "teams = tables.keys()"
   ]
  },
  {
   "cell_type": "code",
   "execution_count": null,
   "metadata": {},
   "outputs": [],
   "source": [
    "player_stats = {}\n",
    "table_columns = {}\n",
    "for team in tables:\n",
    "    team_tables =  tables[team]\n",
    "    for table_name in team_tables:\n",
    "        if table_name in ['draft-rights','team_and_opponent']:\n",
    "            continue\n",
    "        table = team_tables[table_name]\n",
    "        #print(table_name)\n",
    "        #print(table.index)\n",
    "        for row in table.itertuples():\n",
    "            name = row[0]\n",
    "            if name == 'Team Totals':\n",
    "                continue\n",
    "            player_table = player_stats.get(name,{})\n",
    "            player_row = player_table.get(table_name,[])\n",
    "            player_row = player_row + [row]\n",
    "            \n",
    "            player_table[table_name] = player_row\n",
    "            player_stats[name] = player_table\n",
    "        table_columns[table_name] = table.columns\n"
   ]
  },
  {
   "cell_type": "code",
   "execution_count": null,
   "metadata": {},
   "outputs": [],
   "source": [
    "table_mask = {}\n",
    "for table in table_columns:\n",
    "    table_mask[table] = [_.strip() !=''  for _ in table_columns[table] ]\n",
    "    table_columns[table] = [_ for _ in table_columns[table] if _.strip() != '']\n",
    "for player in player_stats:\n",
    "    for table_in in player_stats[player]:\n",
    "        if 'on_off' in table_in or 'salaries' in table_in:\n",
    "            continue\n",
    "        if len(player_stats[player][table_in]) > 1:\n",
    "            pass\n",
    "            #print(player,table_in,'MP' in player_stats[player][table_in][0]._fields)\n",
    "            #print(player_stats[player][table_in][0])"
   ]
  },
  {
   "cell_type": "code",
   "execution_count": null,
   "metadata": {},
   "outputs": [],
   "source": [
    "for player in player_stats:\n",
    "    for tt in player_stats[player]:\n",
    "        new_rows = []\n",
    "        for tablet in player_stats[player][tt]:\n",
    "            vector = [_ if _ != '' else '0.5' for _ in tablet[1:]]\n",
    "            vector = [(float(_.replace('%',''))/100 if type(_) == str and'%' in _ else _) for _ in vector]\n",
    "            if 'on_off' in tt:\n",
    "                vector = vector[1:]\n",
    "            if 'contracts' in tt:\n",
    "                vector = vector[1:-2]\n",
    "            if tt in ['salaries2','contracts']:\n",
    "                vector = [_.replace(',','').replace('$','') for _ in vector]\n",
    "            try:\n",
    "                v2 = np.array(vector).astype(np.float)\n",
    "            except:\n",
    "                v2 = vector\n",
    "            new_rows.append(vector)\n",
    "        a = np.array(new_rows)\n",
    "        \n",
    "        if 'MP' in table_columns[tt] and not tt in ['pbp','on_off','on_off_p']:\n",
    "            a = a.astype(np.float)\n",
    "            try:\n",
    "                mins = a[:,table_columns[tt].index('MP')].reshape((-1,1))\n",
    "                new_rows = ((a.T @ mins)/mins.sum()).T\n",
    "                a = new_rows\n",
    "            except:\n",
    "                print(tt,a.shape,player,a,mins)\n",
    "                raise\n",
    "\n",
    "        player_stats[player][tt] = a\n"
   ]
  },
  {
   "cell_type": "code",
   "execution_count": null,
   "metadata": {},
   "outputs": [],
   "source": [
    "player_vectors = []\n",
    "player_names = []\n",
    "for name in player_stats:\n",
    "    #name = 'Jimmy Butler'\n",
    "    #name = 'Ben Simmons'\n",
    "    if not 'totals' in player_stats[name]:\n",
    "        continue\n",
    "    player_names.append(name)\n",
    "    #for stat in X.columns:\n",
    "    d=    {'FG%':player_stats[name]['totals'][0][6]*100,\n",
    "        '3P%':player_stats[name]['totals'][0][9]*100,\n",
    "        'MP':player_stats[name]['per_game'][0][3],\n",
    "        'FT%':player_stats[name]['totals'][0][16]*100,\n",
    "        'AtRimFGP':player_stats[name]['shooting'][0][11]*100,\n",
    "        'LowPostFGP':player_stats[name]['shooting'][0][12]*100,\n",
    "        'MidRangeFGP':player_stats[name]['shooting'][0][13]*100,\n",
    "        'TS%':player_stats[name]['advanced'][0][4]*100,\n",
    "        '3PAr':player_stats[name]['advanced'][0][5]*100,\n",
    "        'FTr':player_stats[name]['advanced'][0][6]*100,\n",
    "        'ORB%':player_stats[name]['advanced'][0][7],\n",
    "        'DRB%':player_stats[name]['advanced'][0][8],\n",
    "        'TRB%':player_stats[name]['advanced'][0][9],\n",
    "        'AST%':player_stats[name]['advanced'][0][10],\n",
    "        'STL%':player_stats[name]['advanced'][0][11],\n",
    "        'BLK%':player_stats[name]['advanced'][0][12],\n",
    "        'TOV%':player_stats[name]['advanced'][0][13],\n",
    "        'USG%':player_stats[name]['advanced'][0][14],\n",
    "        '+/-':player_stats[name]['advanced'][0][22],\n",
    "        'FGp36':player_stats[name]['per_minute'][0][4],\n",
    "        'FGAp36':player_stats[name]['per_minute'][0][5],\n",
    "        '3Pp36':player_stats[name]['per_minute'][0][6],\n",
    "        '3PAp36':player_stats[name]['per_minute'][0][7],\n",
    "        'FTp36':player_stats[name]['per_minute'][0][12],\n",
    "        'FTAp36':player_stats[name]['per_minute'][0][13],\n",
    "        'ORBp36':player_stats[name]['per_minute'][0][16],\n",
    "        'DRBp36':player_stats[name]['per_minute'][0][17],\n",
    "        'TRBp36':player_stats[name]['per_minute'][0][18],\n",
    "        'ASTp36':player_stats[name]['per_minute'][0][19],\n",
    "        'TOVp36':player_stats[name]['per_minute'][0][22],\n",
    "        'STLp36':player_stats[name]['per_minute'][0][20],\n",
    "        'Blkp36':player_stats[name]['per_minute'][0][21],\n",
    "        'PFp36':player_stats[name]['per_minute'][0][23],\n",
    "        'PTSp36':player_stats[name]['per_minute'][0][24],\n",
    "        'PER':player_stats[name]['advanced'][0][3],\n",
    "        'OWSp36':36*player_stats[name]['advanced'][0][16]/player_stats[name]['advanced'][0][2],\n",
    "        'DWSp36':36*player_stats[name]['advanced'][0][17]/player_stats[name]['advanced'][0][2]}\n",
    "    player_vectors.append([d[stat] for stat in X.columns])\n",
    "    if name == 'Ben Simmons':\n",
    "        print(player_vectors[-1])\n",
    "X.columns"
   ]
  },
  {
   "cell_type": "code",
   "execution_count": null,
   "metadata": {},
   "outputs": [],
   "source": [
    "#table_columns['per_minute']#,table_columns['advanced'].index('0-3')\n",
    "#for i,t in enumerate(player_stats[name]['advanced'][0]):\n",
    "#    print(i,t)\n"
   ]
  },
  {
   "cell_type": "code",
   "execution_count": null,
   "metadata": {},
   "outputs": [],
   "source": [
    "Xn = np.array(player_vectors)\n",
    "scalerX2 = preprocessing.StandardScaler(with_mean=True,with_std=True)\n",
    "ratings = scalery.inverse_transform(clf.predict(fexp.transform(scalerX2.fit_transform(Xn))))\n",
    "#ratings = scalery.inverse_transform(clf.predict(fexp.transform(scalerX.transform(Xn))))"
   ]
  },
  {
   "cell_type": "code",
   "execution_count": null,
   "metadata": {},
   "outputs": [],
   "source": [
    "player_vectors[player_names.index('Joel Embiid')][13],X.columns[13]"
   ]
  },
  {
   "cell_type": "code",
   "execution_count": null,
   "metadata": {},
   "outputs": [],
   "source": [
    "X.mean(0)"
   ]
  },
  {
   "cell_type": "code",
   "execution_count": null,
   "metadata": {},
   "outputs": [],
   "source": [
    "X.mean(0)-Xn.mean(0)"
   ]
  },
  {
   "cell_type": "code",
   "execution_count": null,
   "metadata": {},
   "outputs": [],
   "source": [
    "for n,v in zip(X.columns,Xn.min(0)):\n",
    "    print(n,v)"
   ]
  },
  {
   "cell_type": "code",
   "execution_count": null,
   "metadata": {},
   "outputs": [],
   "source": [
    "rosters = {}\n",
    "\n",
    "for team in tables:\n",
    "    for name in tables[team]['roster'].index:\n",
    "        rosters[name] = team\n",
    "    #print(team,)"
   ]
  },
  {
   "cell_type": "code",
   "execution_count": null,
   "metadata": {},
   "outputs": [],
   "source": [
    "def load_roster(filename):\n",
    "    base = json.load(open(filename,'rb'))\n",
    "\n",
    "    \n",
    "    for i in range(len(base['players'])):\n",
    "        player = base['players'][i]\n",
    "        if 'name' in player and player['name'] !='':\n",
    "            sname = base['players'][i]['name'].split()\n",
    "            base['players'][i]['firstName'] = sname[0]\n",
    "            base['players'][i]['lastName'] = ' '.join(sname[1:])\n",
    "            del base['players'][i]['name']\n",
    "    players = base['players']\n",
    "    base['version'] = 32\n",
    "\n",
    "    return players,base\n",
    "players,base = load_roster('normed.json')\n",
    "abbrev_to_tid = {_['abbrev']:_['tid']for _ in base['teams']}\n",
    "abbrev_to_tid['PHO'] = abbrev_to_tid['PHX']\n",
    "abbrev_to_tid['CHO'] = abbrev_to_tid['CHA']\n",
    "abbrev_to_tid['BRK'] = abbrev_to_tid['BKN']\n",
    "players_discard = [_ for _ in players if  _['tid'] > -3 ]\n",
    "players = [_ for _ in players if _['tid'] in set([-1,-2,-4,-5])]\n",
    "y_keys = [_.lower() for _ in y.columns]\n",
    "\n",
    "y_map = { 'hgt': 'hgt',\n",
    "   'stre': 'str',\n",
    "   'spd': 'spd',\n",
    "   'jmp': 'jmp',\n",
    "   'endu': 'end',\n",
    "   'ins': 'ins',\n",
    "   'dnk': 'dnk',\n",
    "   'ft': 'ft.1',\n",
    "   'fg': '2pt',\n",
    "   'tp': '3pt',\n",
    "   'diq': 'diq',\n",
    "   'oiq': 'oiq',\n",
    "   'drb': 'drb',\n",
    "   'pss': 'pss',\n",
    "   'reb': 'reb' }"
   ]
  },
  {
   "cell_type": "code",
   "execution_count": null,
   "metadata": {},
   "outputs": [],
   "source": [
    "import pprint\n",
    "pp = pprint.PrettyPrinter()\n",
    "for i,name in enumerate(player_names):\n",
    "    name = player_names[i]\n",
    "    sname = name.split(' ')\n",
    "    new_player = {}\n",
    "    new_player['firstName'] = sname[0]\n",
    "    new_player['lastName'] = ' '.join(sname[1:])\n",
    "\n",
    "    new_player['tid'] = abbrev_to_tid[rosters[name]] if name in rosters else -1\n",
    "    if name in rosters:\n",
    "        new_player['pos'] = player_stats[name]['roster'][0][0]\n",
    "        new_player['weight'] = int(player_stats[name]['roster'][0][2])\n",
    "        ht = [int(_) for _ in player_stats[name]['roster'][0][1].split('-')]\n",
    "        new_player['height'] = ht[0]*12 + ht[1]\n",
    "        new_player['born'] = {'year':int(player_stats[name]['roster'][0][3].split(',')[-1]),'loc':''}\n",
    "        if 'contracts' in player_stats[name]:\n",
    "            ctrct = [float(_) for _ in player_stats[name]['contracts'][0] if _ != '0.5']\n",
    "            if len(ctrct) > 0:\n",
    "                new_player['contract'] = {'amount':int(round(sum(ctrct)/(1000*len(ctrct)))),'exp':2019+len(ctrct)}\n",
    "    else:\n",
    "        continue\n",
    "\n",
    "    new_player['ratings'] = [{k: int(np.clip(ratings[i,y_keys.index(km)],0,100)) for k,km in y_map.items()}]\n",
    "    \n",
    "    players.append(new_player)\n",
    "    if name in ['LeBron James', \"Trevon Duval\"]:\n",
    "        pp.pprint(new_player)"
   ]
  },
  {
   "cell_type": "code",
   "execution_count": null,
   "metadata": {},
   "outputs": [],
   "source": [
    "if False:\n",
    "    ri = 0\n",
    "    _ = plt.hist(yt[:,ri],100,normed=True,alpha=0.5,label='predicted')\n",
    "    _ = plt.hist(y.iloc[:,ri],100,normed=True,alpha=0.5,label='labels')\n",
    "    _ = plt.hist(ratings[:,ri],100,normed=True,alpha=0.5,label='dataset')\n",
    "    plt.xlim(-100,100)\n",
    "    plt.legend()\n",
    "elif False:\n",
    "    plt.figure(figsize=(20,20))\n",
    "\n",
    "    for ri in range(len(X.columns)):\n",
    "        #ri = 13\n",
    "        plt.figure()\n",
    "        #plt.subplot(6,6,ri+1)\n",
    "\n",
    "        _ = plt.hist(Xn[:,ri],100,density=True,alpha=0.5,label='mine')\n",
    "        _ = plt.hist(X.iloc[:,ri],100,density=True,alpha=0.5,label='expected')\n",
    "        plt.legend()\n",
    "        plt.title(X.columns[ri] + ' ' + str(ri))\n",
    "        plt.tight_layout()\n",
    "        plt.xlim(-100,100)\n"
   ]
  },
  {
   "cell_type": "code",
   "execution_count": null,
   "metadata": {},
   "outputs": [],
   "source": [
    "#Xn[:,1]"
   ]
  },
  {
   "cell_type": "code",
   "execution_count": null,
   "metadata": {},
   "outputs": [],
   "source": [
    "players_discard[0]"
   ]
  },
  {
   "cell_type": "code",
   "execution_count": null,
   "metadata": {},
   "outputs": [],
   "source": [
    "base['players'] = players\n",
    "with open('auto_roster.json','wt') as fp:\n",
    "    json.dump(base,fp, indent=4, sort_keys=True)"
   ]
  },
  {
   "cell_type": "code",
   "execution_count": null,
   "metadata": {},
   "outputs": [],
   "source": []
  },
  {
   "cell_type": "code",
   "execution_count": null,
   "metadata": {},
   "outputs": [],
   "source": []
  }
 ],
 "metadata": {
  "kernelspec": {
   "display_name": "Python 3",
   "language": "python",
   "name": "python3"
  },
  "language_info": {
   "codemirror_mode": {
    "name": "ipython",
    "version": 3
   },
   "file_extension": ".py",
   "mimetype": "text/x-python",
   "name": "python",
   "nbconvert_exporter": "python",
   "pygments_lexer": "ipython3",
   "version": "3.6.8"
  }
 },
 "nbformat": 4,
 "nbformat_minor": 2
}
