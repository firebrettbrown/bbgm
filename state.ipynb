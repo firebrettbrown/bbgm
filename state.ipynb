{
 "cells": [
  {
   "cell_type": "code",
   "execution_count": null,
   "metadata": {},
   "outputs": [],
   "source": [
    "import pandas as pd\n",
    "import numpy as np\n",
    "import re"
   ]
  },
  {
   "cell_type": "code",
   "execution_count": null,
   "metadata": {},
   "outputs": [],
   "source": [
    "dfs = pd.read_html('state.html')"
   ]
  },
  {
   "cell_type": "code",
   "execution_count": null,
   "metadata": {},
   "outputs": [],
   "source": [
    "with open('flag_state.html','rt') as fp:\n",
    "    text = fp.read()"
   ]
  },
  {
   "cell_type": "code",
   "execution_count": null,
   "metadata": {},
   "outputs": [],
   "source": [
    "flag_urls = re.findall('src=\".*?\\.png\"',text)"
   ]
  },
  {
   "cell_type": "code",
   "execution_count": null,
   "metadata": {},
   "outputs": [],
   "source": [
    "flag_urls = ['https://' + _[7:-1] for _ in flag_urls if 'Flag_of_' in _ ]"
   ]
  },
  {
   "cell_type": "code",
   "execution_count": null,
   "metadata": {},
   "outputs": [],
   "source": [
    "flag_u = {}\n",
    "for f in flag_urls:\n",
    "    fp = re.findall('Flag_of_(.*?).svg',f)\n",
    "    if len(fp) > 0:\n",
    "        s = fp[0].replace('the_State_of_','').replace('_%28U.S._state%29','').replace('_designed_by_Andrew_Carlisle_Carson','')\n",
    "        s = s.replace('_',' ')\n",
    "        flag_u[s] = f\n",
    "        if len(flag_u) == 51:\n",
    "            break"
   ]
  },
  {
   "cell_type": "code",
   "execution_count": null,
   "metadata": {},
   "outputs": [],
   "source": [
    "flag_u.keys()"
   ]
  },
  {
   "cell_type": "code",
   "execution_count": null,
   "metadata": {},
   "outputs": [],
   "source": [
    "d = requests.get(flag_u['Pennsylvania']).content"
   ]
  },
  {
   "cell_type": "code",
   "execution_count": null,
   "metadata": {},
   "outputs": [],
   "source": [
    "import io\n",
    "from colorthief import ColorThief\n",
    "import requests"
   ]
  },
  {
   "cell_type": "code",
   "execution_count": null,
   "metadata": {},
   "outputs": [],
   "source": [
    "color_u = {k:ColorThief(io.BytesIO(requests.get(v).content)).get_palette(2) for k,v in flag_u.items()}"
   ]
  },
  {
   "cell_type": "code",
   "execution_count": null,
   "metadata": {},
   "outputs": [],
   "source": [
    "color_u2 = {k: ['#%02X%02X%02X' % v2 for v2 in v] for k,v in color_u.items()}"
   ]
  },
  {
   "cell_type": "code",
   "execution_count": null,
   "metadata": {},
   "outputs": [],
   "source": [
    "color_u2"
   ]
  },
  {
   "cell_type": "code",
   "execution_count": null,
   "metadata": {},
   "outputs": [],
   "source": [
    "df = dfs[0]\n",
    "df.columns = df.columns.get_level_values(0)"
   ]
  },
  {
   "cell_type": "code",
   "execution_count": null,
   "metadata": {},
   "outputs": [],
   "source": [
    "df['Established[C]'] = pd.to_datetime(df['Established[C]'])"
   ]
  },
  {
   "cell_type": "code",
   "execution_count": null,
   "metadata": {},
   "outputs": [],
   "source": [
    "         {\n",
    "             \"abbrev\": \"ATL\",\n",
    "             \"cid\": 0,\n",
    "             \"colors\": [\n",
    "                 \"#e03a3e\",\n",
    "                 \"#C1D32F\",\n",
    "                 \"#26282A\"\n",
    "             ],\n",
    "             \"did\": 2,\n",
    "             \"imgURL\": \"http://i.imgur.com/w4iqpAJ.png\",\n",
    "             \"name\": \"Hawks\",\n",
    "             \"pop\": 5.8,\n",
    "             \"region\": \"Atlanta\",\n",
    "             \"stadiumCapacity\": 18118,\n",
    "             \"strategy\": \"rebuilding\",\n",
    "             \"tid\": 0\n",
    "         },\n"
   ]
  },
  {
   "cell_type": "code",
   "execution_count": null,
   "metadata": {},
   "outputs": [],
   "source": [
    "for ab in "
   ]
  },
  {
   "cell_type": "code",
   "execution_count": null,
   "metadata": {},
   "outputs": [],
   "source": [
    "team_hax = {}\n",
    "\n",
    "for i,row in enumerate(df.sort_values('Established[C]').itertuples()):\n",
    "    name = row[1].replace('[E]','').replace('[F]','')\n",
    "    d = {}\n",
    "    d['abbrev'] = row[2]\n",
    "    d['imgURL'] = flag_u[name]\n",
    "    d['name'] = name\n",
    "    d['pop'] = round(row[6]/1e6,1)\n",
    "    d['region'] = row[3]\n",
    "    d['stadiumCapacity'] = row[9]\n",
    "    d['cid'] = int(i >= 25)\n",
    "    d['tid'] = row[0]\n",
    "    d['colors'] = color_u2[name]\n",
    "    d['did'] = i//9\n",
    "    team_hax[row[0]] = d"
   ]
  },
  {
   "cell_type": "code",
   "execution_count": null,
   "metadata": {},
   "outputs": [],
   "source": [
    "data = {}\n",
    "data['teams'] = [team_hax[i] for i in range(50)]"
   ]
  },
  {
   "cell_type": "code",
   "execution_count": null,
   "metadata": {},
   "outputs": [],
   "source": [
    "row"
   ]
  },
  {
   "cell_type": "code",
   "execution_count": null,
   "metadata": {},
   "outputs": [],
   "source": [
    "row[9]"
   ]
  },
  {
   "cell_type": "code",
   "execution_count": null,
   "metadata": {},
   "outputs": [],
   "source": [
    "d"
   ]
  },
  {
   "cell_type": "code",
   "execution_count": null,
   "metadata": {},
   "outputs": [],
   "source": [
    "data"
   ]
  },
  {
   "cell_type": "code",
   "execution_count": null,
   "metadata": {},
   "outputs": [],
   "source": [
    "import json\n",
    "data['version'] = 36\n",
    "with open('states.json','wt') as fp:\n",
    "    json.dump(data,fp, sort_keys=True)"
   ]
  },
  {
   "cell_type": "code",
   "execution_count": null,
   "metadata": {},
   "outputs": [],
   "source": []
  },
  {
   "cell_type": "code",
   "execution_count": null,
   "metadata": {},
   "outputs": [],
   "source": []
  },
  {
   "cell_type": "code",
   "execution_count": null,
   "metadata": {},
   "outputs": [],
   "source": []
  }
 ],
 "metadata": {
  "kernelspec": {
   "display_name": "Python 3",
   "language": "python",
   "name": "python3"
  },
  "language_info": {
   "codemirror_mode": {
    "name": "ipython",
    "version": 3
   },
   "file_extension": ".py",
   "mimetype": "text/x-python",
   "name": "python",
   "nbconvert_exporter": "python",
   "pygments_lexer": "ipython3",
   "version": "3.6.9"
  }
 },
 "nbformat": 4,
 "nbformat_minor": 2
}
