{
 "cells": [
  {
   "cell_type": "code",
   "execution_count": null,
   "metadata": {},
   "outputs": [],
   "source": [
    "import json\n",
    "import os\n",
    "import sys\n",
    "import fnmatch\n",
    "\n",
    "\n",
    "import numpy as np\n",
    "import pandas as pd\n",
    "import matplotlib.pyplot as plt\n",
    "teams = ['MIL','TOR','PHI','BOS','IND','BRK','ORL','DET','CHO','MIA',\\\n",
    "         'WAS','ATL','CHI','CLE','NYK','GSW','DEN','POR','HOU','UTA',\\\n",
    "         'OKC','SAS','LAC','SAC','LAL','MIN','MEM','NOP','DAL','PHO']"
   ]
  },
  {
   "cell_type": "code",
   "execution_count": null,
   "metadata": {},
   "outputs": [],
   "source": [
    "def load_roster(filename):\n",
    "    base = json.load(open(filename,'rb'))\n",
    "\n",
    "    \n",
    "    for i in range(len(base['players'])):\n",
    "        player = base['players'][i]\n",
    "        if 'name' in player and player['name'] !='':\n",
    "            sname = base['players'][i]['name'].split()\n",
    "            base['players'][i]['firstName'] = sname[0]\n",
    "            base['players'][i]['lastName'] = ' '.join(sname[1:])\n",
    "            del base['players'][i]['name']\n",
    "    players = base['players']\n",
    "    print(base['version'])\n",
    "    base['version'] = 33\n",
    "\n",
    "    return players,base"
   ]
  },
  {
   "cell_type": "code",
   "execution_count": null,
   "metadata": {},
   "outputs": [],
   "source": [
    "players,base = load_roster('alexnoob.json')\n",
    "abbrev_to_tid = {_['abbrev']:_['tid']for _ in base['teams']}\n",
    "abbrev_to_tid['PHO'] = abbrev_to_tid['PHX']\n",
    "abbrev_to_tid['CHO'] = abbrev_to_tid['CHA']\n",
    "abbrev_to_tid['BRK'] = abbrev_to_tid['BKN']\n",
    "len(players)"
   ]
  },
  {
   "cell_type": "code",
   "execution_count": null,
   "metadata": {},
   "outputs": [],
   "source": [
    "players_discard = [_ for _ in players if  _['tid'] > -3 ]\n",
    "players = [_ for _ in players if _['tid'] in set([-1,-2,-4,-5])]\n"
   ]
  },
  {
   "cell_type": "code",
   "execution_count": null,
   "metadata": {},
   "outputs": [],
   "source": [
    "current_ratings =  [_['ratings'][0] for _ in players_discard]\n",
    "for cr,p in zip(current_ratings,players_discard):\n",
    "    cr['age'] = base['startingSeason'] - p['born']['year']\n",
    "current_ratings = pd.DataFrame(current_ratings)\n",
    "if 'ovr' in current_ratings.columns:\n",
    "    current_ratings = current_ratings.drop(['ovr'],1)\n"
   ]
  },
  {
   "cell_type": "code",
   "execution_count": null,
   "metadata": {},
   "outputs": [],
   "source": [
    "old_ratings = pd.read_csv('big_stat.csv')"
   ]
  },
  {
   "cell_type": "code",
   "execution_count": null,
   "metadata": {},
   "outputs": [],
   "source": [
    "old_ratings.columns"
   ]
  },
  {
   "cell_type": "code",
   "execution_count": null,
   "metadata": {},
   "outputs": [],
   "source": [
    "for col in old_ratings.columns:\n",
    "    old_ratings[col.lower()] = old_ratings[col]\n",
    "old_ratings['endu'] = old_ratings['end']\n",
    "old_ratings['stre'] = old_ratings['str']\n",
    "old_ratings['tp'] = old_ratings['3pt']\n",
    "old_ratings['fg'] = old_ratings['2pt']\n",
    "old_ratings['ft'] = old_ratings['ft.1']\n",
    "\n",
    "\n",
    "#old"
   ]
  },
  {
   "cell_type": "code",
   "execution_count": null,
   "metadata": {},
   "outputs": [],
   "source": [
    "import scipy.stats\n",
    "stats_correct = {}\n",
    "print(len(players))\n",
    "# hack for 3pt\n",
    "xp = np.linspace(0,100,101)\n",
    "yp = np.exp(-(xp)**2/(15)**2)\n",
    "yp /= (yp[0]/8)\n",
    "yp = np.clip(yp,1,10000)\n",
    "plt.plot(yp)\n",
    "\n",
    "# remove tp fix for normal leagues\n",
    "#if len(players) > 100:\n",
    "#    yp = np.ones_like(yp)\n",
    "\n",
    "for key in current_ratings.columns:\n",
    "    orate,crate = old_ratings[key],current_ratings[key]\n",
    "    #print('o {:.2f}\\t{:.2f}\\t{:.2f}\\t{:.2f}'.format(orate.min(),orate.mean(),orate.median(),orate.std()))\n",
    "    #orate = orate[orate > orate.median()]\n",
    "    #crate = crate[crate > crate.median()]\n",
    "    #print('n {:.2f}\\t{:.2f}\\t{:.2f}\\t{:.2f}'.format(orate.min(),orate.mean(),orate.median(),orate.std()))\n",
    "\n",
    "    if key == 'tp':\n",
    "        crate = crate.apply(lambda x : (x+yp[x]/2)*yp[x])\n",
    "    plt.figure()\n",
    "    plt.hist(crate,20,label='base',alpha=0.5,density=True)\n",
    "    plt.hist(orate,20,label='simulated',alpha=0.5,density=True)\n",
    "    stats_correct[key] = {'sim': (scipy.stats.tmean(orate),scipy.stats.tstd(orate)), 'base': (scipy.stats.tmean(crate),scipy.stats.tstd(crate))}\n",
    "    #if key == 'tp':\n",
    "    #    stats_correct[key] = {'sim': (orate.mean(),orate.std()), 'base': (crate[crate >25].mean(),crate[crate >25].std())}\n",
    "\n",
    "    plt.legend()\n",
    "    plt.title(key)"
   ]
  },
  {
   "cell_type": "code",
   "execution_count": null,
   "metadata": {},
   "outputs": [],
   "source": [
    "if False:\n",
    "    std_multi = 1.2\n",
    "    mean_multi = 0.9\n",
    "    for key in stats_correct:\n",
    "        stats_correct[key]['base'] = (stats_correct[key]['base'][0]*mean_multi,stats_correct[key]['base'][1])\n",
    "        stats_correct[key]['sim'] = (stats_correct[key]['sim'][0],stats_correct[key]['sim'][1]*std_multi)\n",
    "\n",
    "if True:\n",
    "    stats_correct['tp']['sim'] = (stats_correct['tp']['sim'][0],stats_correct['tp']['sim'][1]*1.2)\n",
    "stats_correct"
   ]
  },
  {
   "cell_type": "code",
   "execution_count": null,
   "metadata": {},
   "outputs": [],
   "source": [
    "for player in base['players']:\n",
    "    for key in player['ratings'][0]:\n",
    "        if key in stats_correct:\n",
    "            cv = player['ratings'][0][key]\n",
    "            if key == 'tp':\n",
    "                cv = (cv+yp[cv]/2)*yp[cv]\n",
    "            z = (cv-stats_correct[key]['base'][0])/stats_correct[key]['base'][1]\n",
    "            player['ratings'][0][key] = int(round(np.clip(z*stats_correct[key]['sim'][1] + stats_correct[key]['sim'][0],0,100)))"
   ]
  },
  {
   "cell_type": "code",
   "execution_count": null,
   "metadata": {},
   "outputs": [],
   "source": [
    "players_discard = [_ for _ in base['players'] if  _['tid'] > -3 ]\n",
    "current_ratings2 =  [_['ratings'][0] for _ in players_discard]\n",
    "for cr,p in zip(current_ratings2,players_discard):\n",
    "    cr['age'] = base['startingSeason'] - p['born']['year']\n",
    "current_ratings2 = pd.DataFrame(current_ratings2)\n",
    "if 'ovr' in current_ratings2.columns:\n",
    "    current_ratings2 = current_ratings2.drop(['ovr'],1)\n",
    "plt.figure(figsize=(24,12))\n",
    "for idx,key in enumerate(current_ratings.columns):\n",
    "    orate,crate = old_ratings[key],current_ratings[key]\n",
    "    w,h = idx//4,idx%4\n",
    "    plt.subplot(4,8,(1+8*h+w))\n",
    "    plt.hist(orate,20,label='simulated',alpha=0.5,density=True)\n",
    "    plt.hist(crate,20,label='base',alpha=0.5,density=True)\n",
    "    \n",
    "    plt.legend()\n",
    "    plt.title(key)\n",
    "for idx,key in enumerate(current_ratings.columns):\n",
    "    orate,crate = old_ratings[key],current_ratings2[key]\n",
    "    w,h = idx//4,idx%4\n",
    "    plt.subplot(4,8,(1+8*h+w+4))\n",
    "    plt.hist(orate,20,label='simulated',alpha=0.5,density=True)\n",
    "    plt.hist(crate,20,label='corrected',alpha=0.5,density=True)\n",
    "\n",
    "    plt.legend()\n",
    "    plt.title(key)\n",
    "plt.tight_layout()\n",
    "plt.savefig('plot.png',edgecolor='w',facecolor='w')"
   ]
  },
  {
   "cell_type": "code",
   "execution_count": null,
   "metadata": {},
   "outputs": [],
   "source": [
    "with open('normed_new.json','wt') as fp:\n",
    "    json.dump(base,fp, indent=4, sort_keys=True)"
   ]
  },
  {
   "cell_type": "code",
   "execution_count": null,
   "metadata": {},
   "outputs": [],
   "source": [
    "[_ for _ in base['players'] if _['firstName'] == 'LeBron']"
   ]
  },
  {
   "cell_type": "code",
   "execution_count": null,
   "metadata": {},
   "outputs": [],
   "source": [
    "[_ for _ in base['players'] if _['firstName'] == 'LeBron']"
   ]
  },
  {
   "cell_type": "code",
   "execution_count": null,
   "metadata": {},
   "outputs": [],
   "source": []
  },
  {
   "cell_type": "code",
   "execution_count": null,
   "metadata": {},
   "outputs": [],
   "source": []
  },
  {
   "cell_type": "code",
   "execution_count": null,
   "metadata": {},
   "outputs": [],
   "source": []
  },
  {
   "cell_type": "code",
   "execution_count": null,
   "metadata": {},
   "outputs": [],
   "source": []
  },
  {
   "cell_type": "code",
   "execution_count": null,
   "metadata": {},
   "outputs": [],
   "source": []
  },
  {
   "cell_type": "code",
   "execution_count": null,
   "metadata": {},
   "outputs": [],
   "source": []
  },
  {
   "cell_type": "code",
   "execution_count": null,
   "metadata": {},
   "outputs": [],
   "source": []
  }
 ],
 "metadata": {
  "kernelspec": {
   "display_name": "Python 3",
   "language": "python",
   "name": "python3"
  },
  "language_info": {
   "codemirror_mode": {
    "name": "ipython",
    "version": 3
   },
   "file_extension": ".py",
   "mimetype": "text/x-python",
   "name": "python",
   "nbconvert_exporter": "python",
   "pygments_lexer": "ipython3",
   "version": "3.6.8"
  }
 },
 "nbformat": 4,
 "nbformat_minor": 2
}
