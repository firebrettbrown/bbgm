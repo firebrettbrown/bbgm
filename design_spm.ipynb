{
 "cells": [
  {
   "cell_type": "code",
   "execution_count": null,
   "metadata": {},
   "outputs": [],
   "source": [
    "import numpy as np\n",
    "import pandas as pd\n",
    "from collections import defaultdict\n",
    "import matplotlib.pyplot as plt"
   ]
  },
  {
   "cell_type": "code",
   "execution_count": null,
   "metadata": {},
   "outputs": [],
   "source": [
    "rapm = pd.read_csv('rapm97-14.csv').set_index('Name')\n",
    "#Ovr/100"
   ]
  },
  {
   "cell_type": "code",
   "execution_count": null,
   "metadata": {},
   "outputs": [],
   "source": [
    "WS_REAL = defaultdict(list)\n",
    "COLS = ['MP','FG','FGA','FT','FTA','TRB','AST','PF','PTS']\n",
    "for YR in range(1997,2014):\n",
    "    table = np.load('tables_{}.pkl'.format(YR))\n",
    "    for team in table:\n",
    "        stats = table[team]['per_minute'][COLS].replace('',0)\n",
    "        stats['PTS'] -= table[team]['per_minute']['3P'].replace('',0)\n",
    "        for item in stats.itertuples():\n",
    "            WS_REAL[item[0].lower()].append(item[1:])"
   ]
  },
  {
   "cell_type": "code",
   "execution_count": null,
   "metadata": {},
   "outputs": [],
   "source": [
    "for k,v in WS_REAL.items():\n",
    "    WS_REAL[k] = np.array([[0 if e == '' else e for e in _] for _ in v])#.mean(0)"
   ]
  },
  {
   "cell_type": "code",
   "execution_count": null,
   "metadata": {},
   "outputs": [],
   "source": [
    "valid_names = [_.lower() for _ in rapm.index if type(_) == str]"
   ]
  },
  {
   "cell_type": "code",
   "execution_count": null,
   "metadata": {},
   "outputs": [],
   "source": [
    "X = []\n",
    "y = []\n",
    "Xmean = []\n",
    "for row in rapm.itertuples():\n",
    "    if not type(row[0]) == str:\n",
    "        continue\n",
    "    name = row[0].lower()\n",
    "    if name in WS_REAL:\n",
    "        X.append(WS_REAL[name])\n",
    "        Xmean.append(WS_REAL[name].mean(0))\n",
    "        y.append([row[-1] for _ in range(len(WS_REAL[name]))])"
   ]
  },
  {
   "cell_type": "code",
   "execution_count": null,
   "metadata": {},
   "outputs": [],
   "source": [
    "X = np.vstack(X)\n",
    "y = np.hstack(y)\n",
    "X.shape,y.shape"
   ]
  },
  {
   "cell_type": "code",
   "execution_count": null,
   "metadata": {},
   "outputs": [],
   "source": [
    "from sklearn import neural_network\n",
    "from sklearn import linear_model\n",
    "from sklearn import preprocessing\n",
    "from sklearn import feature_selection, model_selection\n",
    "from sklearn import  multioutput\n",
    "from sklearn import ensemble\n",
    "from sklearn import svm"
   ]
  },
  {
   "cell_type": "code",
   "execution_count": null,
   "metadata": {},
   "outputs": [],
   "source": [
    "fexp = preprocessing.PolynomialFeatures(degree=1,interaction_only=False)\n",
    "scalerX = preprocessing.StandardScaler()\n",
    "scalery = preprocessing.StandardScaler()\n",
    "prescale_X = scalerX.fit_transform(X)\n",
    "#prescale_y = scalery.fit_transform(np.array(y).reshape((-1,1)))\n",
    "prescale_X = fexp.fit_transform(X)\n",
    "X_train, X_test, y_train, y_test = model_selection.train_test_split(prescale_X, y, test_size=0.25, random_state=42)"
   ]
  },
  {
   "cell_type": "code",
   "execution_count": null,
   "metadata": {},
   "outputs": [],
   "source": [
    "clf = linear_model.Ridge(1,fit_intercept=False)\n",
    "clf.fit(X_train,y_train)\n",
    "clf.score(X_train,y_train),clf.score(X_test,y_test)"
   ]
  },
  {
   "cell_type": "code",
   "execution_count": null,
   "metadata": {},
   "outputs": [],
   "source": [
    "col_names = fexp.get_feature_names(COLS)\n",
    "\n",
    "coeffs = clf.coef_ \n",
    "v = np.argsort(abs(coeffs))[::-1]\n",
    "coeffs2 = [(coeffs[i2],col_names[i2]) for i2 in v]\n",
    "#for v,n in sorted(coeffs2,reverse=True):\n",
    "#    print('{:.2f} * {} + '.format(v,n),end='')\n",
    "print('| Var      | Coeff |')\n",
    "print('|----------|-------|')\n",
    "for v,n in sorted(coeffs2,reverse=True):\n",
    "    print('|{:10s}|{:.2f}|'.format(n,v))\n",
    "#for v,n in sorted(coeffs2,reverse=True):\n",
    "#    print('\\t{:25s}\\t{:.2f}'.format(n,v))\n"
   ]
  },
  {
   "cell_type": "code",
   "execution_count": null,
   "metadata": {},
   "outputs": [],
   "source": [
    "coeffs2"
   ]
  },
  {
   "cell_type": "code",
   "execution_count": null,
   "metadata": {},
   "outputs": [],
   "source": [
    "plt.hist(y,30,density=True)\n",
    "plt.hist(clf.predict(prescale_X),30,density=True)"
   ]
  },
  {
   "cell_type": "code",
   "execution_count": null,
   "metadata": {},
   "outputs": [],
   "source": [
    "for i,v in enumerate(clf.predict(fexp.transform(Xmean))):\n",
    "    print('{:20s}\\t{:2f}\\t{:2f}'.format(rapm.index[i],v,rapm.iloc[i,-1]))"
   ]
  },
  {
   "cell_type": "code",
   "execution_count": null,
   "metadata": {},
   "outputs": [],
   "source": [
    "clf.score(prescale_X,y)"
   ]
  },
  {
   "cell_type": "code",
   "execution_count": null,
   "metadata": {},
   "outputs": [],
   "source": []
  },
  {
   "cell_type": "code",
   "execution_count": null,
   "metadata": {},
   "outputs": [],
   "source": []
  },
  {
   "cell_type": "code",
   "execution_count": null,
   "metadata": {},
   "outputs": [],
   "source": []
  }
 ],
 "metadata": {
  "kernelspec": {
   "display_name": "Python 3",
   "language": "python",
   "name": "python3"
  },
  "language_info": {
   "codemirror_mode": {
    "name": "ipython",
    "version": 3
   },
   "file_extension": ".py",
   "mimetype": "text/x-python",
   "name": "python",
   "nbconvert_exporter": "python",
   "pygments_lexer": "ipython3",
   "version": "3.6.8"
  }
 },
 "nbformat": 4,
 "nbformat_minor": 2
}
