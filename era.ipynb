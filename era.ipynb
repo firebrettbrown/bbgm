{
 "cells": [
  {
   "cell_type": "code",
   "execution_count": null,
   "metadata": {},
   "outputs": [],
   "source": [
    "import json\n",
    "import pickle\n",
    "from copy import deepcopy\n",
    "import numpy as np\n",
    "import pandas as pd"
   ]
  },
  {
   "cell_type": "code",
   "execution_count": null,
   "metadata": {},
   "outputs": [],
   "source": [
    "ls era_*.json"
   ]
  },
  {
   "cell_type": "code",
   "execution_count": null,
   "metadata": {},
   "outputs": [],
   "source": [
    "rosters = []\n",
    "START_YEAR = 1960\n",
    "for YEAR in range(START_YEAR,2020):\n",
    "    rosters.append(json.load(open('rosters/auto_roster_{}.json'.format(YEAR))))\n"
   ]
  },
  {
   "cell_type": "code",
   "execution_count": null,
   "metadata": {},
   "outputs": [],
   "source": [
    "base = deepcopy(rosters[-1])\n",
    "df = pd.read_csv('avg_stats.csv')\n",
    "y = df.iloc[:,-15:]\n",
    "y_keys = [_.lower() for _ in y.columns]\n",
    "\n",
    "y_map = { 'hgt': 'hgt',\n",
    "   'stre': 'str',\n",
    "   'spd': 'spd',\n",
    "   'jmp': 'jmp',\n",
    "   'endu': 'end',\n",
    "   'ins': 'ins',\n",
    "   'dnk': 'dnk',\n",
    "   'ft': 'ft.1',\n",
    "   'fg': '2pt',\n",
    "   'tp': '3pt',\n",
    "   'diq': 'diq',\n",
    "   'oiq': 'oiq',\n",
    "   'drb': 'drb',\n",
    "   'pss': 'pss',\n",
    "   'reb': 'reb' }"
   ]
  },
  {
   "cell_type": "code",
   "execution_count": null,
   "metadata": {},
   "outputs": [],
   "source": [
    "new_team = [\n",
    "            ('PHX','PHO'),\n",
    "            ('BKN','BRK'),\n",
    "            ('CHA','CHO'),\n",
    "            ('NOP','NOH'),\n",
    "            ('NOH','NOK'),\n",
    "            ('BRK','NJN'),\n",
    "            ('OKC','SEA'),\n",
    "            ('MEM','VAN'),\n",
    "            ('WAS','WSB'),\n",
    "            ('SAC','KCK'),\n",
    "            ('LAC','SDC'),\n",
    "            ('UTA','NOJ'),\n",
    "            ('SDC','BUF'),\n",
    "            ('NJN','NYN'),\n",
    "            ('NYN','NYA'),\n",
    "            ('NYA','NJA'),\n",
    "            ('GSW','SFW'),\n",
    "            ('SAS','DLC'),\n",
    "            ('DLC','TEX'),\n",
    "            ('HOU','SDR'),\n",
    "            ('CHA','CHH'),\n",
    "            ('SAS','SAA'),\n",
    "            ('SAA','TEX'),\n",
    "            ('DEN','DNA'),\n",
    "            ('DNA','DNR'),\n",
    "            ('WSB','CAP'),\n",
    "            ('CAP','BAL'),\n",
    "            ('BAL','CHZ'),\n",
    "            ('CHZ','CHP'),\n",
    "            ('NOH','KEN'),\n",
    "            ('MIN','SDS'),\n",
    "            ('SDS','SDA'),\n",
    "            ('MIA','FLO'),\n",
    "            ('FLO','MMF'),\n",
    "            ('MMF','MNM'),\n",
    "            ('SFW','PHW'),\n",
    "            ('LAL','MNL'),\n",
    "            ('UTA','UTS'),\n",
    "            ('UTS','LAS'),\n",
    "            ('LAS','ANA'),\n",
    "            ('CHH','SSL'),\n",
    "            ('SSL','CAR'),\n",
    "            ('CAR','HSM'),\n",
    "            ('DET','FTW'),\n",
    "            ('ATL','STL'),\n",
    "            ('STL','MLH'),\n",
    "            ('MLH','TRI'),\n",
    "            ('PHI','SYR'),\n",
    "            ('TOR','PTC'),\n",
    "            ('PTC','PTP'),\n",
    "            ('PTP','MNP'),\n",
    "            ('VAN','MMS'),\n",
    "            ('MMS','MMT'),\n",
    "            ('MMT','MMP'),\n",
    "            ('MMP','NOB'),\n",
    "            ('ORL','VIR'),\n",
    "            ('VIR','WSA'),\n",
    "            ('WSA','OAK'),\n",
    "            ('SAC','KCK'),\n",
    "            ('KCK','KCO'),\n",
    "            ('KCO','KCK'),\n",
    "            ('KCK','CIN'),\n",
    "            ('CIN','ROC'),\n",
    "            ('CHP','BLB'),\n",
    "            ('IND','INA'),\n",
    "            ('INA','INO')]\n",
    "st = set()\n",
    "for t in new_team:\n",
    "    st.add(t[0])\n",
    "    st.add(t[1])\n",
    "abbrev_to_tid = {_['abbrev']:_['tid'] for _ in base['teams']}\n",
    "\n",
    "for nt,ot in new_team:\n",
    "    try:\n",
    "        abbrev_to_tid[ot] = abbrev_to_tid[nt]\n",
    "    except:\n",
    "        print(nt,ot)"
   ]
  },
  {
   "cell_type": "code",
   "execution_count": null,
   "metadata": {},
   "outputs": [],
   "source": [
    "abbrev_to_tid"
   ]
  },
  {
   "cell_type": "code",
   "execution_count": null,
   "metadata": {},
   "outputs": [],
   "source": [
    "CURRENT_YEAR = 2019\n",
    "from collections import defaultdict\n",
    "player_years = defaultdict(list)\n",
    "nc2 = np.array([5,1,4,2,1,1,2,1,1,3,7,3,3,3,1])\n",
    "nc2 = nc2 /nc2.sum()\n",
    "\n",
    "\n",
    "for i,roster in enumerate(rosters):\n",
    "    for player in roster['players']:\n",
    "        name = player['firstName'] + ' ' + player['lastName']\n",
    "        ovr = sum(player['ratings'][0][k]*nc2[y_keys.index(km)] for k,km in y_map.items())\n",
    "        if player['tid'] != -1:\n",
    "            player_years[name].append((ovr,i+START_YEAR,[_ for _ in roster['teams'] if _['tid'] == player['tid']],player))"
   ]
  },
  {
   "cell_type": "code",
   "execution_count": null,
   "metadata": {},
   "outputs": [],
   "source": [
    "for player in player_years:\n",
    "    player_years[player] = sorted(player_years[player],reverse=True)[0]"
   ]
  },
  {
   "cell_type": "code",
   "execution_count": null,
   "metadata": {},
   "outputs": [],
   "source": [
    "player_years['Chris Paul']"
   ]
  },
  {
   "cell_type": "code",
   "execution_count": null,
   "metadata": {},
   "outputs": [],
   "source": [
    "optimal_teams = defaultdict(list)\n",
    "\n",
    "for name,player in player_years.items():\n",
    "    try:\n",
    "        optimal_teams[abbrev_to_tid[player_years[name][2][0]['abbrev']]].append((player[0],name))\n",
    "    except IndexError:\n",
    "        pass#print(name)\n",
    "    except:\n",
    "        raise"
   ]
  },
  {
   "cell_type": "code",
   "execution_count": null,
   "metadata": {},
   "outputs": [],
   "source": [
    "for team in optimal_teams:\n",
    "    optimal_teams[team] = sorted(optimal_teams[team],reverse=True)"
   ]
  },
  {
   "cell_type": "code",
   "execution_count": null,
   "metadata": {},
   "outputs": [],
   "source": [
    "players = []\n",
    "for team in optimal_teams:\n",
    "    for p in optimal_teams[team][:12]:\n",
    "        po, py, pt, pr = player = player_years[p[1]]\n",
    "        pr['tid'] = team\n",
    "        pr['born']['year'] = CURRENT_YEAR - (py-pr['born']['year'])\n",
    "        players.append(pr)\n",
    "    for p in optimal_teams[team][12:]:\n",
    "        po, py, pt, pr = player = player_years[p[1]]\n",
    "        pr['tid'] = -1\n",
    "        pr['born']['year'] = CURRENT_YEAR - (py-pr['born']['year'])\n",
    "        if po > 55:\n",
    "            players.append(pr)"
   ]
  },
  {
   "cell_type": "code",
   "execution_count": null,
   "metadata": {},
   "outputs": [],
   "source": [
    "base['players'] = players\n",
    "with open('era_{}.json'.format(START_YEAR),'wt') as fp:\n",
    "    json.dump(base,fp, sort_keys=True)\n",
    "len(players)"
   ]
  },
  {
   "cell_type": "code",
   "execution_count": null,
   "metadata": {},
   "outputs": [],
   "source": [
    "abbrev_to_tid[player_years['LeBron James'][2][0]['abbrev']]"
   ]
  },
  {
   "cell_type": "code",
   "execution_count": null,
   "metadata": {},
   "outputs": [],
   "source": [
    "player_years['LeBron James']\n",
    "base['gameAttributes']\n"
   ]
  },
  {
   "cell_type": "code",
   "execution_count": null,
   "metadata": {},
   "outputs": [],
   "source": [
    "players"
   ]
  },
  {
   "cell_type": "code",
   "execution_count": null,
   "metadata": {},
   "outputs": [],
   "source": [
    "player_years.keys()"
   ]
  },
  {
   "cell_type": "code",
   "execution_count": null,
   "metadata": {},
   "outputs": [],
   "source": []
  },
  {
   "cell_type": "code",
   "execution_count": null,
   "metadata": {},
   "outputs": [],
   "source": []
  },
  {
   "cell_type": "code",
   "execution_count": null,
   "metadata": {},
   "outputs": [],
   "source": []
  },
  {
   "cell_type": "code",
   "execution_count": null,
   "metadata": {},
   "outputs": [],
   "source": []
  },
  {
   "cell_type": "code",
   "execution_count": null,
   "metadata": {},
   "outputs": [],
   "source": []
  }
 ],
 "metadata": {
  "kernelspec": {
   "display_name": "Python 3",
   "language": "python",
   "name": "python3"
  },
  "language_info": {
   "codemirror_mode": {
    "name": "ipython",
    "version": 3
   },
   "file_extension": ".py",
   "mimetype": "text/x-python",
   "name": "python",
   "nbconvert_exporter": "python",
   "pygments_lexer": "ipython3",
   "version": "3.6.8"
  }
 },
 "nbformat": 4,
 "nbformat_minor": 2
}
