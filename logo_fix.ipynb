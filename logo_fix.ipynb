{
 "cells": [
  {
   "cell_type": "code",
   "execution_count": null,
   "metadata": {},
   "outputs": [],
   "source": [
    "import os\n",
    "import json\n",
    "import urllib.request"
   ]
  },
  {
   "cell_type": "code",
   "execution_count": null,
   "metadata": {},
   "outputs": [],
   "source": [
    "YEARS = [1952, 1960, 1967, 1968, 1969, 1977, 1980, 1981, 1984, 1989, 1990, 1992, 1996, 1998, 1999, 2000, 2001, 2002, 2003, 2004, 2005, 2006, 2007, 2008, 2012]\n",
    "\n",
    "to_fix = { ('Olympians') : 'https://i.imgur.com/vjW7r14.png',\n",
    "            ('Amigos') : 'https://i.imgur.com/lT1DBBi.png',\n",
    "          ('Stars') : 'https://i.imgur.com/v3Z4bvn.png'}"
   ]
  },
  {
   "cell_type": "code",
   "execution_count": null,
   "metadata": {},
   "outputs": [],
   "source": [
    "for yr in range(1952,2020):\n",
    "    with open('rosters/auto_roster_{}.json'.format(yr),'rt') as fp:\n",
    "        base = json.load(fp)\n",
    "    fixed = False\n",
    "\n",
    "    for t in base['teams']:\n",
    "        url = t['imgURL']\n",
    "        key = (t['name'])\n",
    "        if key in to_fix:\n",
    "            if t['imgURL'] != to_fix[key]:\n",
    "                t['imgURL'] = to_fix[key]\n",
    "                print('fixed',key)\n",
    "                fixed = True\n",
    "        #try:\n",
    "        #    resp = urllib.request.urlopen(url)\n",
    "        #except:\n",
    "        #    print(t['name'],yr)\n",
    "    if fixed:\n",
    "        with open('rosters/auto_roster_{}.json'.format(yr),'wt') as fp:\n",
    "            json.dump(base,fp, sort_keys=True)"
   ]
  },
  {
   "cell_type": "code",
   "execution_count": null,
   "metadata": {},
   "outputs": [],
   "source": [
    "base['teams'][0]['imgURL']"
   ]
  },
  {
   "cell_type": "code",
   "execution_count": null,
   "metadata": {},
   "outputs": [],
   "source": [
    "urllib.request.urlopen(url)"
   ]
  },
  {
   "cell_type": "code",
   "execution_count": null,
   "metadata": {},
   "outputs": [],
   "source": [
    "resp.length"
   ]
  },
  {
   "cell_type": "code",
   "execution_count": null,
   "metadata": {},
   "outputs": [],
   "source": []
  }
 ],
 "metadata": {
  "kernelspec": {
   "display_name": "Python 3",
   "language": "python",
   "name": "python3"
  },
  "language_info": {
   "codemirror_mode": {
    "name": "ipython",
    "version": 3
   },
   "file_extension": ".py",
   "mimetype": "text/x-python",
   "name": "python",
   "nbconvert_exporter": "python",
   "pygments_lexer": "ipython3",
   "version": "3.6.8"
  }
 },
 "nbformat": 4,
 "nbformat_minor": 2
}
