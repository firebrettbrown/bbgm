{
 "cells": [
  {
   "cell_type": "code",
   "execution_count": null,
   "metadata": {},
   "outputs": [],
   "source": [
    "import numpy as np\n",
    "import matplotlib.pyplot as plt\n",
    "import pandas as pd\n",
    "import seaborn as sns\n",
    "import statsmodels.api as sm\n",
    "\n",
    "from collections import defaultdict"
   ]
  },
  {
   "cell_type": "code",
   "execution_count": null,
   "metadata": {},
   "outputs": [],
   "source": [
    "avg = pd.read_csv(\"BBGM_TeamMOV_all_seasons_Average_Stats.csv\")\n",
    "game = pd.read_csv(\"BBGM_TeamMOV_all_seasons_Game_Stats.csv\")"
   ]
  },
  {
   "cell_type": "code",
   "execution_count": null,
   "metadata": {},
   "outputs": [],
   "source": [
    "#avg = avg.set_index(['pid','Season'])\n",
    "avg['fakeKey'] = avg['pid'].astype(str) + '_' + avg['Season'].astype(str)\n",
    "avg"
   ]
  },
  {
   "cell_type": "code",
   "execution_count": null,
   "metadata": {},
   "outputs": [],
   "source": [
    "game['fakeKey'] = game['pid'].astype(str) + '_' + game['Season'].astype(str)\n",
    "game"
   ]
  },
  {
   "cell_type": "code",
   "execution_count": null,
   "metadata": {},
   "outputs": [],
   "source": [
    "game_rate = game.merge(avg,on='fakeKey')\n",
    "game_rate"
   ]
  },
  {
   "cell_type": "code",
   "execution_count": null,
   "metadata": {},
   "outputs": [],
   "source": [
    "team_rating = defaultdict(lambda:np.zeros(17))\n",
    "team_score = {}\n",
    "team_minutes =defaultdict(float)\n",
    "\n",
    "real_gids = defaultdict(set)\n",
    "\n",
    "for row in game_rate.itertuples():\n",
    "    key = (row[1],row[5])\n",
    "    if row[5] == row[6]:\n",
    "        continue\n",
    "    MP = row[11]\n",
    "    rt = MP*np.array(row[92:])\n",
    "    ms,os = [int(_) for _ in row[7].split('-')]\n",
    "\n",
    "    team_rating[key] += rt\n",
    "    team_minutes[key] += MP\n",
    "    team_score[key] = ms-os\n",
    "    \n",
    "    real_gids[key[0]].add(key[1])\n",
    "    \n",
    "    "
   ]
  },
  {
   "cell_type": "code",
   "execution_count": null,
   "metadata": {},
   "outputs": [],
   "source": [
    "game_rate.head(5).to_csv('tmp.csv')"
   ]
  },
  {
   "cell_type": "code",
   "execution_count": null,
   "metadata": {},
   "outputs": [],
   "source": [
    "team_rating_n = {k: team_rating[k]/team_minutes[k] for k in team_rating}"
   ]
  },
  {
   "cell_type": "code",
   "execution_count": null,
   "metadata": {},
   "outputs": [],
   "source": [
    "team_rating_ovr = {k: v[0] for k,v in team_rating_n.items()}"
   ]
  },
  {
   "cell_type": "code",
   "execution_count": null,
   "metadata": {},
   "outputs": [],
   "source": [
    "set({'SAC','LAC'})"
   ]
  },
  {
   "cell_type": "code",
   "execution_count": null,
   "metadata": {},
   "outputs": [],
   "source": [
    "game_res = []\n",
    "for gid,teams in real_gids.items():\n",
    "    t = list(teams)\n",
    "    if len(t) != 2:\n",
    "        continue\n",
    "    game_res.append( ( team_rating_ovr[(gid,t[0])] - team_rating_ovr[(gid,t[1])], team_score[(gid,t[0])] ) )"
   ]
  },
  {
   "cell_type": "code",
   "execution_count": null,
   "metadata": {},
   "outputs": [],
   "source": [
    "game_res = np.array(game_res)"
   ]
  },
  {
   "cell_type": "code",
   "execution_count": null,
   "metadata": {},
   "outputs": [],
   "source": [
    "plt.style.use('fivethirtyeight')\n",
    "plt.scatter(game_res[:,0],game_res[:,1],s=8,alpha=0.1)\n",
    "plt.xlim(-12,12)\n",
    "plt.ylim(-50,50)\n",
    "plt.xlabel('minute-weighted OVR difference')\n",
    "plt.ylabel('MOV')\n",
    "plt.plot([-10,10],[-20.7,20.7],c='k',label='Best fit \\n(2.07 MOV for 1 OVR)')\n",
    "plt.legend()"
   ]
  },
  {
   "cell_type": "code",
   "execution_count": null,
   "metadata": {},
   "outputs": [],
   "source": [
    "sm.OLS(game_res[:,1],game_res[:,0]).fit().summary()"
   ]
  },
  {
   "cell_type": "code",
   "execution_count": null,
   "metadata": {},
   "outputs": [],
   "source": [
    "import gzip\n",
    "import json\n",
    "with gzip.GzipFile('BBGM_TeamMOV_2045_preseason.json.gz','r') as fp:\n",
    "    data = json.loads(fp.read())"
   ]
  },
  {
   "cell_type": "code",
   "execution_count": null,
   "metadata": {},
   "outputs": [],
   "source": [
    "tid_to_abbrev = {t['tid']: t['abbrev'] for t in data['teams']}\n",
    "tid_to_abbrev[-1] = 'AllStar'\n",
    "tid_to_abbrev[-2] = 'AllStar'"
   ]
  },
  {
   "cell_type": "code",
   "execution_count": null,
   "metadata": {},
   "outputs": [],
   "source": [
    "hm_crt ={}\n",
    "for game in data['games']:\n",
    "    tids1 = (game['teams'][0]['tid'],game['teams'][1]['tid'])\n",
    "    if tids1[0] < 0 or tids1[1] < 0:\n",
    "        continue\n",
    "    hm_crt[game['gid']] = [tid_to_abbrev[tid] for tid in tids1]"
   ]
  },
  {
   "cell_type": "code",
   "execution_count": null,
   "metadata": {},
   "outputs": [],
   "source": [
    "game_res = []\n",
    "gt = []\n",
    "for gid,teams in hm_crt.items():\n",
    "    t = list(teams)\n",
    "    game_res.append( list(team_rating_n[(gid,t[0])] - team_rating_n[(gid,t[1])]) + [team_score[(gid,t[0])]] )\n",
    "    gt.append(gid)"
   ]
  },
  {
   "cell_type": "code",
   "execution_count": null,
   "metadata": {},
   "outputs": [],
   "source": [
    "gt[20949]"
   ]
  },
  {
   "cell_type": "code",
   "execution_count": null,
   "metadata": {},
   "outputs": [],
   "source": [
    "diff_df = pd.DataFrame(np.array(game_res),columns=list(game_rate.columns[91:]) + ['MOV'])"
   ]
  },
  {
   "cell_type": "code",
   "execution_count": null,
   "metadata": {},
   "outputs": [],
   "source": [
    "diff_m = sm.OLS(diff_df['MOV'],sm.add_constant(diff_df.drop('MOV',axis=1))).fit()\n",
    "diff_m = sm.OLS(diff_df['MOV'],sm.add_constant(diff_df['Ovr'])).fit()\n",
    "#diff_m = sm.OLS(diff_df['MOV'],sm.add_constant(diff_df.drop(['MOV','Ovr','Pot'],axis=1))).fit()\n"
   ]
  },
  {
   "cell_type": "code",
   "execution_count": null,
   "metadata": {},
   "outputs": [],
   "source": [
    "diff_m.summary()"
   ]
  },
  {
   "cell_type": "code",
   "execution_count": null,
   "metadata": {},
   "outputs": [],
   "source": [
    "plt.scatter(diff_m.predict(),diff_df['MOV'],s=8,alpha=0.1)\n",
    "plt.xlabel('Predicted MOV (min-weighted OVR + HFA)')\n",
    "plt.ylabel('MOV')"
   ]
  },
  {
   "cell_type": "code",
   "execution_count": null,
   "metadata": {},
   "outputs": [],
   "source": [
    "tmp = []\n",
    "for pv, rv in zip(diff_m.predict(),diff_df['MOV']):\n",
    "    tmp.append(int((pv >0) != (rv >0)))\n",
    "np.array(tmp).mean()"
   ]
  },
  {
   "cell_type": "code",
   "execution_count": null,
   "metadata": {},
   "outputs": [],
   "source": [
    "tmp = []\n",
    "tmp2 = []\n",
    "for ovr,mov in zip(diff_df['Ovr'],diff_df['MOV']):\n",
    "    if ovr < 3:\n",
    "        continue\n",
    "    tmp.append(mov)\n",
    "    if mov < 0:\n",
    "        tmp2.append(1)"
   ]
  },
  {
   "cell_type": "code",
   "execution_count": null,
   "metadata": {},
   "outputs": [],
   "source": [
    "_ = plt.hist(tmp,20,density=True,alpha=0.6)\n",
    "plt.title('Home Court, Ovr {} > Opponent, Win {:.0f}%'.format(5,(100-100.0*len(tmp2)/len(tmp))))\n",
    "plt.xlabel('MOV')"
   ]
  },
  {
   "cell_type": "code",
   "execution_count": null,
   "metadata": {},
   "outputs": [],
   "source": [
    "_ = plt.hist(diff_df['Ovr'],20,density=True)\n",
    "plt.xlabel('mintute-weighted OVR difference')\n",
    "plt.title('Team Differences')"
   ]
  },
  {
   "cell_type": "code",
   "execution_count": null,
   "metadata": {},
   "outputs": [],
   "source": [
    "diff_df[(diff_df.MOV < -40) & (diff_df.Ovr > 5)]"
   ]
  },
  {
   "cell_type": "code",
   "execution_count": null,
   "metadata": {},
   "outputs": [],
   "source": [
    "pd.DataFrame(diff_df).iloc[18476]"
   ]
  },
  {
   "cell_type": "code",
   "execution_count": null,
   "metadata": {},
   "outputs": [],
   "source": [
    "hm_crt[18476]"
   ]
  },
  {
   "cell_type": "code",
   "execution_count": null,
   "metadata": {},
   "outputs": [],
   "source": [
    "game_rate[game_rate.gid == 18490].to_csv('test22.csv')"
   ]
  },
  {
   "cell_type": "code",
   "execution_count": null,
   "metadata": {},
   "outputs": [],
   "source": [
    "game_rate"
   ]
  },
  {
   "cell_type": "code",
   "execution_count": null,
   "metadata": {},
   "outputs": [],
   "source": [
    "game_rate"
   ]
  },
  {
   "cell_type": "code",
   "execution_count": null,
   "metadata": {},
   "outputs": [],
   "source": [
    "gid_pids = defaultdict(lambda:defaultdict(list))\n",
    "for g_p in game_rate.itertuples():\n",
    "    if g_p[11] > 0:\n",
    "        gid_pids[g_p[1]][g_p[5]].append(g_p[92])"
   ]
  },
  {
   "cell_type": "code",
   "execution_count": null,
   "metadata": {},
   "outputs": [],
   "source": [
    "g_p"
   ]
  },
  {
   "cell_type": "code",
   "execution_count": null,
   "metadata": {},
   "outputs": [],
   "source": [
    "g_p"
   ]
  },
  {
   "cell_type": "code",
   "execution_count": null,
   "metadata": {},
   "outputs": [],
   "source": [
    "g_p[1],g_p[5],g_p[92],g_p[11]"
   ]
  },
  {
   "cell_type": "code",
   "execution_count": null,
   "metadata": {},
   "outputs": [],
   "source": [
    "gid_pids[22]"
   ]
  },
  {
   "cell_type": "code",
   "execution_count": null,
   "metadata": {},
   "outputs": [],
   "source": [
    "dm_re = []\n",
    "dm_re2 = []\n",
    "ans = []\n",
    "for gm,teams in hm_crt.items():\n",
    "    dm_re2.append([h-a for h,a in zip(sorted(gid_pids[gm][teams[0]],reverse=True),sorted(gid_pids[gm][teams[1]],reverse=True))])\n",
    "    hmt = sum([0.4417 * np.exp(-0.1905 * i)*v for i,v in enumerate(sorted(gid_pids[gm][teams[0]],reverse=True)) if i < 10])\n",
    "    awt = sum([0.4417 * np.exp(-0.1905 * i)*v for i,v in enumerate(sorted(gid_pids[gm][teams[1]],reverse=True)) if i < 10])\n",
    "    dm_re.append(hmt-awt)\n",
    "    ans.append(team_score[(gm,teams[0])])"
   ]
  },
  {
   "cell_type": "code",
   "execution_count": null,
   "metadata": {},
   "outputs": [],
   "source": [
    "dm_re2 = np.array([(_ + 10 *[0])[:10] for _ in dm_re2])"
   ]
  },
  {
   "cell_type": "code",
   "execution_count": null,
   "metadata": {},
   "outputs": [],
   "source": [
    "dmr_clf = sm.OLS(ans,sm.add_constant(dm_re2)).fit()\n",
    "dmr_clf.summary()"
   ]
  },
  {
   "cell_type": "code",
   "execution_count": null,
   "metadata": {},
   "outputs": [],
   "source": [
    "plt.plot(dmr_clf.params[1:],label='best fit diffs')\n",
    "plt.plot([0.4417 * np.exp(-0.1905 * i) for i in range(10)],label='current formula')\n",
    "plt.xlabel('position')\n",
    "plt.ylabel('coeff')\n",
    "plt.title('Sorted Team OVR diff \\n for predicting team results')\n",
    "plt.legend()"
   ]
  },
  {
   "cell_type": "code",
   "execution_count": null,
   "metadata": {},
   "outputs": [],
   "source": [
    "dmr_clf.predict().shape"
   ]
  },
  {
   "cell_type": "code",
   "execution_count": null,
   "metadata": {},
   "outputs": [],
   "source": [
    "diff_m.predict().shape"
   ]
  },
  {
   "cell_type": "code",
   "execution_count": null,
   "metadata": {},
   "outputs": [],
   "source": [
    "plt.figure(figsize=(6,6))\n",
    "plt.scatter(dmr_clf.predict(),diff_m.predict(),s=8,alpha=0.4)\n",
    "plt.plot([-30,30],[-30,30],c='k')\n",
    "plt.xlim(-30,30)\n",
    "plt.ylim(-30,30)\n",
    "plt.xlabel('Team Rating Formula')\n",
    "plt.ylabel('Minute-Weighted OVR')"
   ]
  },
  {
   "cell_type": "code",
   "execution_count": null,
   "metadata": {},
   "outputs": [],
   "source": [
    "plt.figure(figsize=(12,6))\n",
    "\n",
    "plt.subplot(1,2,1)\n",
    "plt.scatter(dmr_clf.predict(),ans,s=8,alpha=0.1)\n",
    "tc = sm.OLS(ans,sm.add_constant(dmr_clf.predict())).fit()\n",
    "plt.xlabel('Predicted MOV (Team Rating Diff + HFA)')\n",
    "plt.ylabel('MOV')\n",
    "plt.plot([-30,30],[-30*tc.params[1]+tc.params[0],30*tc.params[1]+tc.params[0]],c='k')\n",
    "plt.title('r-sq: {:.3f}'.format(tc.rsquared))\n",
    "plt.xlim(-30,30)\n",
    "plt.ylim(-60,60)\n",
    "\n",
    "plt.subplot(1,2,2)\n",
    "plt.title('')\n",
    "plt.scatter(diff_m.predict(),ans,s=8,alpha=0.1)\n",
    "plt.xlabel('Predicted MOV (min-weighted OVR Diff + HFA)')\n",
    "plt.ylabel('MOV')\n",
    "tc = sm.OLS(ans,sm.add_constant(diff_m.predict())).fit()\n",
    "plt.plot([-30,30],[-30*tc.params[1]+tc.params[0],30*tc.params[1]+tc.params[0]],c='k')\n",
    "plt.title('r-sq: {:.3f}'.format(tc.rsquared))\n",
    "\n",
    "plt.xlim(-30,30)\n",
    "plt.ylim(-60,60)"
   ]
  },
  {
   "cell_type": "code",
   "execution_count": null,
   "metadata": {},
   "outputs": [],
   "source": []
  },
  {
   "cell_type": "code",
   "execution_count": null,
   "metadata": {},
   "outputs": [],
   "source": [
    "tc.summary()"
   ]
  },
  {
   "cell_type": "code",
   "execution_count": null,
   "metadata": {},
   "outputs": [],
   "source": [
    "tc.rsquared"
   ]
  },
  {
   "cell_type": "code",
   "execution_count": null,
   "metadata": {},
   "outputs": [],
   "source": [
    "tc.params[0]"
   ]
  },
  {
   "cell_type": "code",
   "execution_count": null,
   "metadata": {},
   "outputs": [],
   "source": []
  }
 ],
 "metadata": {
  "kernelspec": {
   "display_name": "Python 3",
   "language": "python",
   "name": "python3"
  },
  "language_info": {
   "codemirror_mode": {
    "name": "ipython",
    "version": 3
   },
   "file_extension": ".py",
   "mimetype": "text/x-python",
   "name": "python",
   "nbconvert_exporter": "python",
   "pygments_lexer": "ipython3",
   "version": "3.6.9"
  }
 },
 "nbformat": 4,
 "nbformat_minor": 2
}
