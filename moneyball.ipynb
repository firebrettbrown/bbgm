{
 "cells": [
  {
   "cell_type": "code",
   "execution_count": null,
   "metadata": {},
   "outputs": [],
   "source": [
    "import json\n",
    "import os\n",
    "import sys\n",
    "import fnmatch\n",
    "import scipy.stats as stats\n",
    "\n",
    "import numpy as np\n",
    "import pandas as pd\n",
    "import matplotlib.pyplot as plt\n",
    "from math import ceil\n",
    "import numpy as np\n",
    "from scipy import linalg\n",
    "\n",
    "def lowess(x, y, f=2. / 3., iter=3):\n",
    "    \"\"\"lowess(x, y, f=2./3., iter=3) -> yest\n",
    "    Lowess smoother: Robust locally weighted regression.\n",
    "    The lowess function fits a nonparametric regression curve to a scatterplot.\n",
    "    The arrays x and y contain an equal number of elements; each pair\n",
    "    (x[i], y[i]) defines a data point in the scatterplot. The function returns\n",
    "    the estimated (smooth) values of y.\n",
    "    The smoothing span is given by f. A larger value for f will result in a\n",
    "    smoother curve. The number of robustifying iterations is given by iter. The\n",
    "    function will run faster with a smaller number of iterations.\n",
    "    \"\"\"\n",
    "    n = len(x)\n",
    "    r = int(ceil(f * n))\n",
    "    h = [np.sort(np.abs(x - x[i]))[r] for i in range(n)]\n",
    "    w = np.clip(np.abs((x[:, None] - x[None, :]) / h), 0.0, 1.0)\n",
    "    w = (1 - w ** 3) ** 3\n",
    "    yest = np.zeros(n)\n",
    "    delta = np.ones(n)\n",
    "    for iteration in range(iter):\n",
    "        for i in range(n):\n",
    "            weights = delta * w[:, i]\n",
    "            b = np.array([np.sum(weights * y), np.sum(weights * y * x)])\n",
    "            A = np.array([[np.sum(weights), np.sum(weights * x)],\n",
    "                          [np.sum(weights * x), np.sum(weights * x * x)]])\n",
    "            beta = linalg.solve(A, b)\n",
    "            yest[i] = beta[0] + beta[1] * x[i]\n",
    "\n",
    "        residuals = y - yest\n",
    "        s = np.median(np.abs(residuals))\n",
    "        delta = np.clip(residuals / (6.0 * s), -1, 1)\n",
    "        delta = (1 - delta ** 2) ** 2\n",
    "\n",
    "    return yest\n",
    "from scipy import ndimage as nd\n",
    "\n",
    "def fill(data, invalid=None):\n",
    "    \"\"\"\n",
    "    Replace the value of invalid 'data' cells (indicated by 'invalid') \n",
    "    by the value of the nearest valid data cell\n",
    "\n",
    "    Input:\n",
    "        data:    numpy array of any dimension\n",
    "        invalid: a binary array of same shape as 'data'. True cells set where data\n",
    "                 value should be replaced.\n",
    "                 If None (default), use: invalid  = np.isnan(data)\n",
    "\n",
    "    Output: \n",
    "        Return a filled array. \n",
    "    \"\"\"\n",
    "    #import numpy as np\n",
    "    #import scipy.ndimage as nd\n",
    "\n",
    "    if invalid is None: invalid = np.isnan(data)\n",
    "\n",
    "    ind = nd.distance_transform_edt(invalid, return_distances=False, return_indices=True)\n",
    "    return data[tuple(ind)]"
   ]
  },
  {
   "cell_type": "code",
   "execution_count": null,
   "metadata": {},
   "outputs": [],
   "source": [
    "df = pd.read_csv('avg_stats.csv')\n",
    "df.shape"
   ]
  },
  {
   "cell_type": "code",
   "execution_count": null,
   "metadata": {},
   "outputs": [],
   "source": [
    "plt.figure(figsize=(3,3))\n",
    "plt.hexbin(df.Salary,df.Ovr,bins='log',gridsize=15)\n",
    "plt.ylabel('overall')\n",
    "plt.xlabel('salary')\n",
    "plt.tight_layout()\n",
    "plt.savefig('s-o.png')"
   ]
  },
  {
   "cell_type": "code",
   "execution_count": null,
   "metadata": {},
   "outputs": [],
   "source": [
    "plt.figure(figsize=(3,3))\n",
    "plt.hexbin(df.Salary,df.Pot,bins='log',gridsize=15)\n",
    "plt.ylabel('potential')\n",
    "plt.xlabel('salary')\n",
    "plt.tight_layout()\n",
    "plt.savefig('s-p.png')"
   ]
  },
  {
   "cell_type": "code",
   "execution_count": null,
   "metadata": {},
   "outputs": [],
   "source": [
    "from sklearn import preprocessing,linear_model"
   ]
  },
  {
   "cell_type": "code",
   "execution_count": null,
   "metadata": {},
   "outputs": [],
   "source": [
    "fexp = preprocessing.PolynomialFeatures(5)\n",
    "Xt = fexp.fit_transform(np.array(df.Ovr).reshape((-1,1)))\n",
    "clf = linear_model.Ridge()\n",
    "clf.fit(Xt,df.Salary)\n"
   ]
  },
  {
   "cell_type": "code",
   "execution_count": null,
   "metadata": {},
   "outputs": [],
   "source": [
    "x = np.linspace(0,100)\n",
    "y = clf.predict(fexp.transform(x.reshape((-1,1))))\n",
    "plt.plot(x,y)\n",
    "plt.ylim(0,50)"
   ]
  },
  {
   "cell_type": "code",
   "execution_count": null,
   "metadata": {},
   "outputs": [],
   "source": [
    "x = df.Ovr\n",
    "y = df.Pot\n",
    "data = df.Salary\n",
    "NX, NY = 10, 10\n",
    "statistic, xedges, yedges, binnumber = stats.binned_statistic_2d(\n",
    "    x, y, values=data, statistic='mean',bins=100)\n",
    "print(statistic)"
   ]
  },
  {
   "cell_type": "code",
   "execution_count": null,
   "metadata": {},
   "outputs": [],
   "source": [
    "IM = fill(statistic)\n",
    "ind = np.triu_indices(100)\n",
    "IM[ind] = 0\n",
    "#IM = nd.median_filter(IM,3)\n",
    "IM = nd.gaussian_filter(IM,2)\n",
    "\n",
    "IM[ind] = 0\n",
    "plt.xlim(0,95)\n",
    "plt.ylim(0,95)\n",
    "plt.imshow(IM,origin='lower')\n",
    "plt.colorbar()\n",
    "plt.xlabel('overall')\n",
    "plt.ylabel('potential')\n",
    "plt.title('Mean Salary for BBGM Rating')\n",
    "plt.tight_layout()\n",
    "plt.savefig('mean-color.png')"
   ]
  },
  {
   "cell_type": "code",
   "execution_count": null,
   "metadata": {},
   "outputs": [],
   "source": [
    "plt.style.use('default')\n",
    "plt.style.use('fivethirtyeight')\n",
    "plt.figure(figsize=(6,6))\n",
    "class nf(float):\n",
    "    def __repr__(self):\n",
    "        s = f'{self:.1f}'\n",
    "        return f'{self:.0f}' if s[-1] == '0' else s\n",
    "CS = plt.contour(IM,levels=10)\n",
    "# Recast levels to new class\n",
    "CS.levels = [nf(val) for val in CS.levels]\n",
    "\n",
    "# Label levels with specially formatted floats\n",
    "if plt.rcParams[\"text.usetex\"]:\n",
    "    fmt = r'%r \\%%'\n",
    "else:\n",
    "    fmt = '%r'\n",
    "\n",
    "plt.clabel(CS, CS.levels, inline=True, fmt=fmt, fontsize=16)\n",
    "plt.grid(True)\n",
    "plt.xlim(0,95)\n",
    "plt.ylim(0,95)\n",
    "plt.title('Mean Salary for BBGM Rating')\n",
    "plt.xlabel('overall')\n",
    "plt.ylabel('potential')\n",
    "plt.tight_layout()\n",
    "\n",
    "plt.savefig('mean-contour.png')"
   ]
  },
  {
   "cell_type": "code",
   "execution_count": null,
   "metadata": {},
   "outputs": [],
   "source": [
    "plt.figure(figsize=(6,6))\n",
    "df2 = df.sample(5000)\n",
    "plt.title('Overall v Salary')\n",
    "plt.scatter(df2.Ovr+0.1*np.random.randn(len(df2.Salary)),df2.Salary+0.1*np.random.randn(len(df2.Salary)),vmin=22,vmax=36,c=df2.Age,s=20,alpha=0.7)\n",
    "cbar = plt.colorbar()\n",
    "cbar.ax.set_ylabel('Age', rotation=0)\n",
    "plt.xlabel('overall')\n",
    "plt.ylabel('salary')\n",
    "plt.tight_layout()\n",
    "plt.savefig('s-o.png')"
   ]
  },
  {
   "cell_type": "code",
   "execution_count": null,
   "metadata": {},
   "outputs": [],
   "source": [
    "plt.figure(figsize=(6,6))\n",
    "df2 = df.sample(5000)\n",
    "plt.title('Potential v Salary')\n",
    "plt.scatter(df2.Pot+0.1*np.random.randn(len(df2.Salary)),df2.Salary+0.1*np.random.randn(len(df2.Salary)),vmin=22,vmax=36,c=df2.Age,s=20,alpha=0.7)\n",
    "cbar = plt.colorbar()\n",
    "cbar.ax.set_ylabel('Age', rotation=0)\n",
    "plt.xlabel('potential')\n",
    "plt.ylabel('salary')\n",
    "plt.tight_layout()\n",
    "plt.savefig('s-o2.png')"
   ]
  },
  {
   "cell_type": "code",
   "execution_count": null,
   "metadata": {},
   "outputs": [],
   "source": []
  }
 ],
 "metadata": {
  "kernelspec": {
   "display_name": "Python 3",
   "language": "python",
   "name": "python3"
  },
  "language_info": {
   "codemirror_mode": {
    "name": "ipython",
    "version": 3
   },
   "file_extension": ".py",
   "mimetype": "text/x-python",
   "name": "python",
   "nbconvert_exporter": "python",
   "pygments_lexer": "ipython3",
   "version": "3.6.8"
  }
 },
 "nbformat": 4,
 "nbformat_minor": 2
}
