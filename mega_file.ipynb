{
 "cells": [
  {
   "cell_type": "code",
   "execution_count": null,
   "metadata": {},
   "outputs": [],
   "source": [
    "import json\n",
    "import os\n",
    "import fnmatch"
   ]
  },
  {
   "cell_type": "code",
   "execution_count": null,
   "metadata": {},
   "outputs": [],
   "source": [
    "YEAR = 1967\n",
    "YEARS = [1952, 1960, 1967, 1968, 1969, 1977, 1980, 1981, 1984, 1989, 1990, 1992, 1995, 1996, 1998, 1999, 2000, 2001, 2002, 2003, 2004, 2005, 2006, 2007, 2008, 2012]\n",
    "for YEAR in YEARS:\n",
    "    rosters = []\n",
    "\n",
    "    for i in range(YEAR,2020):\n",
    "        rosters.append(json.load(open('rosters/auto_roster_{}.json'.format(i))))\n",
    "\n",
    "    base = rosters[0]\n",
    "    players = base['players']\n",
    "    players = [_ for _ in players if _['tid'] >= -2]\n",
    "\n",
    "    for i in range(1,len(rosters)):\n",
    "        new_players = [_ for _ in rosters[i]['players'] if 'draft' in _ and _['draft']['year'] == YEAR+i]\n",
    "        for player in new_players:\n",
    "            player['tid'] = -2\n",
    "            if player['firstName'] == 'LeBron':\n",
    "                print(i,player['draft']['year'])\n",
    "        players += new_players\n",
    "\n",
    "    base['players'] = players\n",
    "    base['version'] = 33\n",
    "\n",
    "    with open('mega_{}.json'.format(YEAR),'wt') as fp:\n",
    "        json.dump(base,fp, sort_keys=True)"
   ]
  },
  {
   "cell_type": "code",
   "execution_count": null,
   "metadata": {},
   "outputs": [],
   "source": [
    "players"
   ]
  },
  {
   "cell_type": "code",
   "execution_count": null,
   "metadata": {},
   "outputs": [],
   "source": [
    "t = 'mega_1952.json  mega_1980.json  mega_1995.json  mega_2002.json  mega_2008.json \\\n",
    "mega_1960.json  mega_1981.json  mega_1996.json  mega_2003.json  mega_2012.json \\\n",
    "mega_1967.json  mega_1984.json  mega_1998.json  mega_2004.json \\\n",
    "mega_1968.json  mega_1989.json  mega_1999.json  mega_2005.json \\\n",
    "mega_1969.json  mega_1990.json  mega_2000.json  mega_2006.json \\\n",
    "mega_1977.json  mega_1992.json  mega_2001.json  mega_2007.json'\n",
    "print(sorted([int(_[5:9]) for _ in t.split()]))"
   ]
  },
  {
   "cell_type": "code",
   "execution_count": null,
   "metadata": {},
   "outputs": [],
   "source": [
    "for p in players:\n",
    "    if p['firstName'] == 'Zion':\n",
    "        #print(p)\n",
    "        print(p['draft']['year'])"
   ]
  },
  {
   "cell_type": "code",
   "execution_count": null,
   "metadata": {},
   "outputs": [],
   "source": [
    "len(players)"
   ]
  },
  {
   "cell_type": "code",
   "execution_count": null,
   "metadata": {},
   "outputs": [],
   "source": []
  },
  {
   "cell_type": "code",
   "execution_count": null,
   "metadata": {},
   "outputs": [],
   "source": []
  }
 ],
 "metadata": {
  "kernelspec": {
   "display_name": "Python 3",
   "language": "python",
   "name": "python3"
  },
  "language_info": {
   "codemirror_mode": {
    "name": "ipython",
    "version": 3
   },
   "file_extension": ".py",
   "mimetype": "text/x-python",
   "name": "python",
   "nbconvert_exporter": "python",
   "pygments_lexer": "ipython3",
   "version": "3.6.8"
  }
 },
 "nbformat": 4,
 "nbformat_minor": 2
}
