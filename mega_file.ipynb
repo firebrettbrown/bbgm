{
 "cells": [
  {
   "cell_type": "code",
   "execution_count": 1,
   "metadata": {},
   "outputs": [],
   "source": [
    "import json\n",
    "import os\n",
    "import fnmatch"
   ]
  },
  {
   "cell_type": "code",
   "execution_count": 2,
   "metadata": {},
   "outputs": [],
   "source": [
    "YEAR = 1967\n",
    "for YEAR in [1952,1967,1968,1969,1977,1980,1984,1992,2005,2012]:\n",
    "    rosters = []\n",
    "\n",
    "    for i in range(YEAR,2020):\n",
    "        rosters.append(json.load(open('rosters/auto_roster_{}.json'.format(i))))\n",
    "\n",
    "    base = rosters[0]\n",
    "    players = base['players']\n",
    "    players = [_ for _ in players if _['tid'] >= -2]\n",
    "\n",
    "    for i in range(1,len(rosters)):\n",
    "        new_players = [_ for _ in rosters[i]['players'] if 'draft' in _ and _['draft']['year'] == YEAR+i]\n",
    "        for player in new_players:\n",
    "            player['tid'] = -2\n",
    "        players += new_players\n",
    "\n",
    "    base['players'] = players\n",
    "    base['version'] = 33\n",
    "\n",
    "    with open('mega_{}.json'.format(YEAR),'wt') as fp:\n",
    "        json.dump(base,fp, sort_keys=True)"
   ]
  },
  {
   "cell_type": "code",
   "execution_count": null,
   "metadata": {},
   "outputs": [],
   "source": [
    "players"
   ]
  },
  {
   "cell_type": "code",
   "execution_count": null,
   "metadata": {},
   "outputs": [],
   "source": [
    "mega_1952.json  mega_1969.json  mega_1984.json  mega_2012.json\n",
    "mega_1967.json  mega_1977.json  mega_1992.json  mega_file.ipynb\n",
    "mega_1968.json  mega_1980.json  mega_2005.json"
   ]
  },
  {
   "cell_type": "code",
   "execution_count": null,
   "metadata": {},
   "outputs": [],
   "source": []
  },
  {
   "cell_type": "code",
   "execution_count": null,
   "metadata": {},
   "outputs": [],
   "source": []
  },
  {
   "cell_type": "code",
   "execution_count": null,
   "metadata": {},
   "outputs": [],
   "source": []
  },
  {
   "cell_type": "code",
   "execution_count": null,
   "metadata": {},
   "outputs": [],
   "source": []
  }
 ],
 "metadata": {
  "kernelspec": {
   "display_name": "Python 3",
   "language": "python",
   "name": "python3"
  },
  "language_info": {
   "codemirror_mode": {
    "name": "ipython",
    "version": 3
   },
   "file_extension": ".py",
   "mimetype": "text/x-python",
   "name": "python",
   "nbconvert_exporter": "python",
   "pygments_lexer": "ipython3",
   "version": "3.6.8"
  }
 },
 "nbformat": 4,
 "nbformat_minor": 2
}
