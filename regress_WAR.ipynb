{
 "cells": [
  {
   "cell_type": "code",
   "execution_count": null,
   "metadata": {},
   "outputs": [],
   "source": [
    "import json\n",
    "import os\n",
    "import sys\n",
    "import fnmatch\n",
    "\n",
    "\n",
    "import numpy as np\n",
    "import pandas as pd\n",
    "import matplotlib.pyplot as plt\n",
    "from collections import defaultdict"
   ]
  },
  {
   "cell_type": "code",
   "execution_count": null,
   "metadata": {},
   "outputs": [],
   "source": [
    "df = pd.read_csv('big_stat.csv')#pd.read_csv('BBGM_League_7_all_seasons_Average_Stats.csv')\n",
    "df = df[(df.G*df.MP > 82)]\n",
    "df.shape\n"
   ]
  },
  {
   "cell_type": "code",
   "execution_count": null,
   "metadata": {},
   "outputs": [],
   "source": [
    "V = df[['Name','Ovr']].groupby('Name').max()"
   ]
  },
  {
   "cell_type": "code",
   "execution_count": null,
   "metadata": {},
   "outputs": [],
   "source": [
    "(V >= 90).sum()"
   ]
  },
  {
   "cell_type": "code",
   "execution_count": null,
   "metadata": {},
   "outputs": [],
   "source": [
    "vals = [76.9,63.9,56.2,50.8,46.6,43.2,40.3,37.8,35.6,33.6,31.8,30.2,28.7,27.3,26,24.8,23.6,22.6,21.5,20.6,19.7,18.8,18,17.2,16.4,15.6,14.9,14.3,13.6,13]\n",
    "#df = df[df.Season >= 2030]"
   ]
  },
  {
   "cell_type": "code",
   "execution_count": null,
   "metadata": {},
   "outputs": [],
   "source": [
    "vals2 = []\n",
    "for i in range(30):\n",
    "    agg = df[df['DraftPick'] == i+1].groupby('Name').sum()\n",
    "    agg = agg.mean()\n",
    "    #print(i,agg['WS'],agg['EWA'])\n",
    "    vals2.append(agg['WS'])\n",
    "#_ = plt.hist(['EWA'],20)\n",
    "plt.plot(np.arange(30)+1,vals,label='NBA')\n",
    "plt.plot(np.arange(30)+1,vals2,label='BBGM')\n",
    "plt.xlabel('draft pick')\n",
    "plt.xlim(1,30)\n",
    "plt.ylabel('Mean Career Win Shares')\n",
    "plt.legend()\n",
    "plt.gca().set_facecolor('w')\n",
    "#plt.gca().set_facecolor('w')\n",
    "plt.savefig('draft.png',transparent=False)"
   ]
  },
  {
   "cell_type": "code",
   "execution_count": null,
   "metadata": {},
   "outputs": [],
   "source": [
    "vals3 = []\n",
    "valid_ages = set(list(range(19,36)))\n",
    "for i in range(19,36):\n",
    "    agg = df[df['Age'] == i]#.groupby('Name').sum()\n",
    "    agg = agg.mean()\n",
    "    #print(i,agg['WS'],agg['EWA'])\n",
    "    vals3.append(agg['WS/48'])"
   ]
  },
  {
   "cell_type": "code",
   "execution_count": null,
   "metadata": {},
   "outputs": [],
   "source": [
    "WS_REAL = defaultdict(list)\n",
    "for YR in range(1980,2020):\n",
    "    table = np.load('tables_{}.pkl'.format(YR))\n",
    "    for team in table:\n",
    "        stats = table[team]['advanced'][['Age','WS/48']]\n",
    "        for item in stats.itertuples():\n",
    "            WS_REAL[int(item[1])].append(item[2])"
   ]
  },
  {
   "cell_type": "code",
   "execution_count": null,
   "metadata": {},
   "outputs": [],
   "source": [
    "vals4 = np.zeros(len(valid_ages))\n",
    "for k,v in WS_REAL.items():\n",
    "    if k in valid_ages:\n",
    "        try:\n",
    "            vals4[k-19] = np.array( [ _ for _ in v if type(_) == float ]).mean()\n",
    "        except:\n",
    "            print(np.array(v))"
   ]
  },
  {
   "cell_type": "code",
   "execution_count": null,
   "metadata": {},
   "outputs": [],
   "source": [
    "plt.plot(range(19,36),vals4,label='NBA')\n",
    "plt.plot(range(19,36),vals3,label='BBGM')\n",
    "plt.xlabel('age')\n",
    "plt.xlim(19,36)\n",
    "plt.ylabel('Mean WS/48')\n",
    "plt.legend()\n",
    "plt.gca().set_facecolor('w')\n",
    "#plt.gca().set_facecolor('w')\n",
    "plt.savefig('ws48.png',transparent=False)"
   ]
  },
  {
   "cell_type": "code",
   "execution_count": null,
   "metadata": {},
   "outputs": [],
   "source": [
    "dkeys = ['Hgt', 'Str', 'Spd', 'Jmp', 'End', 'Ins', 'Dnk', 'FT', '2Pt', '3Pt',\n",
    "       'oIQ', 'dIQ', 'Drb', 'Pss', 'Reb']\n",
    "new_ovr = []\n",
    "nc = np.array([5,1,4,2,1,1,2,1,1,3,7,3,3,3,1])\n",
    "\n",
    "new_ovr = np.array(df.iloc[:,-15:]) @ (nc/nc.sum())\n",
    "#for row in df.iterrows():\n",
    "#    new_ovr.append(sum([row[1][k]*v for k,v in zip(dkeys,nc)])/nc.sum())\n",
    "#    break\n",
    "\n",
    "plt.hist(new_ovr,100)\n",
    "print(np.array(new_ovr).mean())\n",
    "df.columns[-15:]"
   ]
  },
  {
   "cell_type": "code",
   "execution_count": null,
   "metadata": {},
   "outputs": [],
   "source": [
    "df[df['+/-'] < -20]['Ovr']"
   ]
  },
  {
   "cell_type": "code",
   "execution_count": null,
   "metadata": {},
   "outputs": [],
   "source": [
    "y = df.iloc[:,-18:-17] #45\n",
    "#y.iloc[:,0] += (df.iloc[:,45]-0.074737)*50 #45\n",
    "#y /=2 \n",
    "\n",
    "X = df.iloc[:,-15:] # -17:-16\n",
    "#X = X[[_ for _ in X.columns if _ != '+/-' ]]\n",
    "X.columns,y.columns,y.shape"
   ]
  },
  {
   "cell_type": "code",
   "execution_count": null,
   "metadata": {},
   "outputs": [],
   "source": [
    "_ = plt.hist(y.iloc[:,0],20)"
   ]
  },
  {
   "cell_type": "code",
   "execution_count": null,
   "metadata": {},
   "outputs": [],
   "source": [
    "from sklearn import neural_network\n",
    "from sklearn import linear_model\n",
    "from sklearn import preprocessing\n",
    "from sklearn import feature_selection\n",
    "from sklearn import  multioutput\n",
    "from sklearn import ensemble\n",
    "from sklearn import svm"
   ]
  },
  {
   "cell_type": "code",
   "execution_count": null,
   "metadata": {},
   "outputs": [],
   "source": [
    "fexp = preprocessing.PolynomialFeatures(degree=1,interaction_only=True)\n",
    "scalerX = preprocessing.RobustScaler()\n",
    "scalery = preprocessing.StandardScaler()\n",
    "prescale_X = scalerX.fit_transform(X)\n",
    "prescale_y = scalery.fit_transform(y)\n",
    "#prescale_X = fexp.fit_transform(prescale_X)"
   ]
  },
  {
   "cell_type": "code",
   "execution_count": null,
   "metadata": {},
   "outputs": [],
   "source": [
    "trials = 1\n",
    "ts = []\n",
    "prescale_X = (X-round(X.mean(0)))/round(X.std(0))\n",
    "for i in range(trials):\n",
    "    #clf = neural_network.MLPRegressor((36,5,24,36),'tanh',solver='adam',max_iter=1000)\n",
    "    #clf = neural_network.MLPRegressor((32,4),'identity',solver='lbfgs',alpha=5e2,tol=1e-9)\n",
    "    #clf = multioutput.MultiOutputRegressor(linear_model.SGDRegressor(penalty='l2',alpha=5e2,eta0=1e-6,tol=1e-12,max_iter=50,verbose=True))\n",
    "    clf = multioutput.MultiOutputRegressor(linear_model.ElasticNetCV(cv=5,positive=True,fit_intercept=False))\n",
    "    #clf = ensemble.ExtraTreesRegressor(8,criterion='mae',max_depth=3,verbose=1)\n",
    "    #clf = multioutput.MultiOutputRegressor(svm.SVR())\n",
    "    W = df.MP*df.G\n",
    "    W /= W.mean()\n",
    "    clf.fit(prescale_X,prescale_y)\n",
    "    yt = scalery.inverse_transform(clf.predict(prescale_X))\n",
    "    err = np.linalg.norm(yt-y)\n",
    "    ts.append((err,clf))"
   ]
  },
  {
   "cell_type": "code",
   "execution_count": null,
   "metadata": {},
   "outputs": [],
   "source": [
    "ts = sorted(ts)[::1] # why not the biggest error\n",
    "print(ts[0][0])\n",
    "clf = ts[0][1]"
   ]
  },
  {
   "cell_type": "code",
   "execution_count": null,
   "metadata": {},
   "outputs": [],
   "source": [
    "round(df.iloc[:,-15:].mean()),round(df.iloc[:,-15:].std())"
   ]
  },
  {
   "cell_type": "code",
   "execution_count": null,
   "metadata": {},
   "outputs": [],
   "source": [
    "col_names = X.columns\n",
    "#col_names = fexp.get_feature_names(X.columns)\n",
    "\n",
    "for i,c in enumerate(y.columns):\n",
    "    coeffs = clf.estimators_[i].coef_ \n",
    "    v = np.argsort(abs(coeffs))[::-1]\n",
    "    print(c)\n",
    "    coeffs2 = [(coeffs[i2],col_names[i2]) for i2 in v]\n",
    "    #for v,n in sorted(coeffs2,reverse=True):\n",
    "    #    print('{:.2f} * {} + '.format(v,n),end='')\n",
    "    print('| Var      | Coeff |')\n",
    "    print('|----------|-------|')\n",
    "    for v,n in sorted(coeffs2,reverse=True):\n",
    "        print('|{:10s}|{:.2f}|'.format(n,100*v/coeffs.sum()))\n",
    "    #for v,n in sorted(coeffs2,reverse=True):\n",
    "    #    print('\\t{:25s}\\t{:.2f}'.format(n,v))\n"
   ]
  },
  {
   "cell_type": "code",
   "execution_count": null,
   "metadata": {},
   "outputs": [],
   "source": [
    "nc_M = []\n",
    "for n,w in zip(col_names,clf.estimators_[0].coef_):\n",
    "    if n == '1':\n",
    "        continue\n",
    "    w /= (clf.estimators_[0].coef_.sum())*0.01\n",
    "    w = int(round(w))\n",
    "    print(w,end=', ')\n",
    "    nc_M.append(w)\n",
    "nc_M = np.array(nc_M)"
   ]
  },
  {
   "cell_type": "code",
   "execution_count": null,
   "metadata": {},
   "outputs": [],
   "source": [
    "round(X.std(0))"
   ]
  },
  {
   "cell_type": "code",
   "execution_count": null,
   "metadata": {},
   "outputs": [],
   "source": []
  },
  {
   "cell_type": "code",
   "execution_count": null,
   "metadata": {},
   "outputs": [],
   "source": [
    "coeff = clf.estimators_[i].coef_ \n",
    "coeff = np.round(coeff,2)\n",
    "coeff[np.where(coeff <= 0)] = 0.01\n",
    "\n",
    "pred = (X-round(X.mean(0)))/round(X.std(0)) @ coeff\n",
    "MM = new_ovr.mean()\n",
    "SS = new_ovr.std()/pred.std()\n",
    "print(MM,SS)\n",
    "\n",
    "new_ovr = np.array(new_ovr)\n",
    "plt.hist(new_ovr,100)\n",
    "plt.hist(pred*SS+MM,100,alpha=0.5)\n",
    "plt.ylim(0,50)\n",
    "new_ovr.mean(),new_ovr.std(),coeff"
   ]
  },
  {
   "cell_type": "code",
   "execution_count": null,
   "metadata": {},
   "outputs": [],
   "source": [
    "GEN_YEAR = 1988\n",
    "with open('rosters/auto_roster_{}.json'.format(GEN_YEAR),'r') as fp:\n",
    "    base = json.load(fp)\n",
    "players = base['players']"
   ]
  },
  {
   "cell_type": "code",
   "execution_count": null,
   "metadata": {},
   "outputs": [],
   "source": [
    "dkeys = [_.lower() for _ in ['Hgt', 'Stre', 'Spd', 'Jmp', 'Endu', 'Ins', 'Dnk', 'FT', 'fg', 'tp',\n",
    "       'oIQ', 'dIQ', 'Drb', 'Pss', 'Reb']]\n",
    "nc = np.array([5,1,4,2,1,1,2,1,1,3,7,3,3,3,1])\n",
    "xm = round(X.mean(0))\n",
    "xs = round(X.std(0))"
   ]
  },
  {
   "cell_type": "code",
   "execution_count": null,
   "metadata": {},
   "outputs": [],
   "source": [
    "player_df = []\n",
    "for p in players:\n",
    "    if not 'name' in p:\n",
    "        p['name'] = p['firstName'] + ' ' + p['lastName']\n",
    "    d = {'name':p['name']}\n",
    "    d.update(p['ratings'][0])\n",
    "    d['ovr_og'] = sum([d[k]*v for k,v in zip(dkeys,nc)])/nc.sum()\n",
    "    d['ovr_mn'] = sum([(d[k]-m)*v/s for k,v,m,s in zip(dkeys,coeff,xm,xs)])*SS + MM\n",
    "    #d['ovr_mnr'] = sum([d[k]*v for k,v in zip(dkeys,nc)])/np.maximum(0,nc3).sum()\n",
    "\n",
    "    player_df.append(d)"
   ]
  },
  {
   "cell_type": "code",
   "execution_count": null,
   "metadata": {},
   "outputs": [],
   "source": [
    "pdf = pd.DataFrame(player_df).set_index('name')\n",
    "pdf['diff'] = pdf['ovr_mn'] - pdf['ovr_og']\n",
    "#pdf['diffr'] = pdf['ovr_mnr'] - pdf['ovr_og']\n"
   ]
  },
  {
   "cell_type": "code",
   "execution_count": null,
   "metadata": {},
   "outputs": [],
   "source": [
    "pdf.sort_values(['ovr_og'],0,False)\n"
   ]
  },
  {
   "cell_type": "code",
   "execution_count": null,
   "metadata": {},
   "outputs": [],
   "source": [
    "pdf.sort_values(['ovr_mn'],0,False)\n"
   ]
  },
  {
   "cell_type": "code",
   "execution_count": null,
   "metadata": {},
   "outputs": [],
   "source": [
    "pdf.sort_values(['diff'],0,False)\n"
   ]
  },
  {
   "cell_type": "code",
   "execution_count": null,
   "metadata": {},
   "outputs": [],
   "source": [
    "_ = plt.hist(pdf['diff'],40)"
   ]
  },
  {
   "cell_type": "code",
   "execution_count": null,
   "metadata": {},
   "outputs": [],
   "source": [
    "pdf['diff'].mean(),pdf['diff'].std()"
   ]
  },
  {
   "cell_type": "code",
   "execution_count": null,
   "metadata": {},
   "outputs": [],
   "source": [
    "plt.figure(figsize=(10,10))\n",
    "#plt.scatter(pdf['ovr_og'],pdf['ovr_mn'],s=11,alpha=0.7)\n",
    "plt.scatter(new_ovr,pred*(SS)+MM+0.5,s=3,alpha=0.1)\n",
    "\n",
    "\n",
    "plt.xlim(30,75)\n",
    "plt.ylim(30,75)\n",
    "plt.plot([30,75],[30,75],c='k')\n",
    "plt.grid(True)"
   ]
  },
  {
   "cell_type": "code",
   "execution_count": null,
   "metadata": {},
   "outputs": [],
   "source": []
  },
  {
   "cell_type": "code",
   "execution_count": null,
   "metadata": {},
   "outputs": [],
   "source": []
  }
 ],
 "metadata": {
  "kernelspec": {
   "display_name": "Python 3",
   "language": "python",
   "name": "python3"
  },
  "language_info": {
   "codemirror_mode": {
    "name": "ipython",
    "version": 3
   },
   "file_extension": ".py",
   "mimetype": "text/x-python",
   "name": "python",
   "nbconvert_exporter": "python",
   "pygments_lexer": "ipython3",
   "version": "3.6.8"
  }
 },
 "nbformat": 4,
 "nbformat_minor": 2
}
