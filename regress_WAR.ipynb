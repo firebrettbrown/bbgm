{
 "cells": [
  {
   "cell_type": "code",
   "execution_count": null,
   "metadata": {},
   "outputs": [],
   "source": [
    "import json\n",
    "import os\n",
    "import sys\n",
    "import fnmatch\n",
    "\n",
    "\n",
    "import numpy as np\n",
    "import pandas as pd\n",
    "import matplotlib.pyplot as plt\n",
    "from collections import defaultdict"
   ]
  },
  {
   "cell_type": "code",
   "execution_count": null,
   "metadata": {},
   "outputs": [],
   "source": [
    "df = pd.read_csv('avg_stats.csv')#pd.read_csv('BBGM_League_7_all_seasons_Average_Stats.csv')\n",
    "df = df[(df.G*df.MP > 48)]\n",
    "df.shape"
   ]
  },
  {
   "cell_type": "code",
   "execution_count": null,
   "metadata": {},
   "outputs": [],
   "source": [
    "y = df.iloc[:,-18:-17] #45\n",
    "y = df.iloc[:,45:46] #45\n",
    "\n",
    "X = df.iloc[:,-15:] # -17:-16\n",
    "X = X[[_ for _ in X.columns if _ != '+/-' ]]\n",
    "X.columns,y.columns\n",
    "#df.columns[4"
   ]
  },
  {
   "cell_type": "code",
   "execution_count": null,
   "metadata": {},
   "outputs": [],
   "source": [
    "_ = plt.hist(y.iloc[:,0],20)"
   ]
  },
  {
   "cell_type": "code",
   "execution_count": null,
   "metadata": {},
   "outputs": [],
   "source": [
    "from sklearn import neural_network\n",
    "from sklearn import linear_model\n",
    "from sklearn import preprocessing\n",
    "from sklearn import feature_selection\n",
    "from sklearn import  multioutput\n",
    "from sklearn import ensemble\n",
    "from sklearn import svm"
   ]
  },
  {
   "cell_type": "code",
   "execution_count": null,
   "metadata": {},
   "outputs": [],
   "source": [
    "fexp = preprocessing.PolynomialFeatures(degree=1,interaction_only=True)\n",
    "scalerX = preprocessing.RobustScaler()\n",
    "scalery = preprocessing.StandardScaler()\n",
    "prescale_X = scalerX.fit_transform(X)\n",
    "prescale_y = scalery.fit_transform(y)\n",
    "prescale_X = fexp.fit_transform(prescale_X)"
   ]
  },
  {
   "cell_type": "code",
   "execution_count": null,
   "metadata": {},
   "outputs": [],
   "source": [
    "trials = 1\n",
    "ts = []\n",
    "for i in range(trials):\n",
    "    #clf = neural_network.MLPRegressor((36,5,24,36),'tanh',solver='adam',max_iter=1000)\n",
    "    #clf = neural_network.MLPRegressor((),'identity',solver='lbfgs',alpha=5e2,tol=1e-9)\n",
    "    #clf = multioutput.MultiOutputRegressor(linear_model.SGDRegressor(penalty='l2',alpha=5e2,eta0=1e-6,tol=1e-12,max_iter=50,verbose=True))\n",
    "    clf = multioutput.MultiOutputRegressor(linear_model.ElasticNet(alpha=5e-3,fit_intercept=False))\n",
    "    #clf = ensemble.ExtraTreesRegressor(8,criterion='mae',max_depth=3,verbose=1)\n",
    "    #clf = multioutput.MultiOutputRegressor(svm.SVR())\n",
    "    clf.fit(prescale_X,prescale_y)\n",
    "    yt = scalery.inverse_transform(clf.predict(prescale_X))\n",
    "    err = np.linalg.norm(yt-y)\n",
    "    ts.append((err,clf))"
   ]
  },
  {
   "cell_type": "code",
   "execution_count": null,
   "metadata": {},
   "outputs": [],
   "source": [
    "ts = sorted(ts)[::1] # why not the biggest error\n",
    "print(ts[0][0])\n",
    "clf = ts[0][1]"
   ]
  },
  {
   "cell_type": "code",
   "execution_count": null,
   "metadata": {},
   "outputs": [],
   "source": [
    "col_names = X.columns\n",
    "col_names = fexp.get_feature_names(X.columns)\n",
    "\n",
    "for i,c in enumerate(y.columns):\n",
    "    coeffs = clf.estimators_[i].coef_ \n",
    "    v = np.argsort(abs(coeffs))[::-1]\n",
    "    print(c)\n",
    "    coeffs2 = [(coeffs[i2],col_names[i2]) for i2 in v]\n",
    "    #for v,n in sorted(coeffs2,reverse=True):\n",
    "    #    print('{:.2f} * {} + '.format(v,n),end='')\n",
    "    print('| Var      | Coeff |')\n",
    "    print('|----------|-------|')\n",
    "    for v,n in sorted(coeffs2,reverse=True):\n",
    "        print('|{:10s}|{:.2f}|'.format(n,v/coeffs.max()))\n",
    "    #for v,n in sorted(coeffs2,reverse=True):\n",
    "    #    print('\\t{:25s}\\t{:.2f}'.format(n,v))\n"
   ]
  },
  {
   "cell_type": "code",
   "execution_count": null,
   "metadata": {},
   "outputs": [],
   "source": [
    "nc_M = []\n",
    "for n,w in zip(col_names,clf.estimators_[0].coef_):\n",
    "    if n == '1':\n",
    "        continue\n",
    "    w /= (clf.estimators_[0].coef_.sum())*0.01\n",
    "    w = int(round(w))\n",
    "    print(w,end=', ')\n",
    "    nc_M.append(w)\n",
    "nc_M = np.array(nc_M)"
   ]
  },
  {
   "cell_type": "code",
   "execution_count": null,
   "metadata": {},
   "outputs": [],
   "source": [
    "GEN_YEAR = 2019\n",
    "with open('auto_roster_{}.json'.format(GEN_YEAR),'r') as fp:\n",
    "    base = json.load(fp)\n",
    "players = base['players']"
   ]
  },
  {
   "cell_type": "code",
   "execution_count": null,
   "metadata": {},
   "outputs": [],
   "source": [
    "dkeys = [_.lower() for _ in ['Hgt', 'Stre', 'Spd', 'Jmp', 'Endu', 'Ins', 'Dnk', 'FT', 'fg', 'tp',\n",
    "       'oIQ', 'dIQ', 'Drb', 'Pss', 'Reb']]\n",
    "nc = np.array([7,1,6,1,1,1,2,1,1,1,9,3,6,2,1])"
   ]
  },
  {
   "cell_type": "code",
   "execution_count": null,
   "metadata": {},
   "outputs": [],
   "source": [
    "player_df = []\n",
    "for p in players:\n",
    "    if not 'name' in p:\n",
    "        p['name'] = p['firstName'] + ' ' + p['lastName']\n",
    "    d = {'name':p['name']}\n",
    "    d.update(p['ratings'][0])\n",
    "    d['ovr_og'] = sum([d[k]*v for k,v in zip(dkeys,nc)])/nc.sum()\n",
    "    d['ovr_mn'] = sum([d[k]*v for k,v in zip(dkeys,nc_M)])/nc_M.sum()\n",
    "    #d['ovr_mnr'] = sum([d[k]*v for k,v in zip(dkeys,nc)])/np.maximum(0,nc3).sum()\n",
    "\n",
    "    player_df.append(d)"
   ]
  },
  {
   "cell_type": "code",
   "execution_count": null,
   "metadata": {},
   "outputs": [],
   "source": [
    "pdf = pd.DataFrame(player_df).set_index('name')\n",
    "pdf['diff'] = pdf['ovr_mn'] - pdf['ovr_og']\n",
    "#pdf['diffr'] = pdf['ovr_mnr'] - pdf['ovr_og']\n"
   ]
  },
  {
   "cell_type": "code",
   "execution_count": null,
   "metadata": {},
   "outputs": [],
   "source": [
    "pdf.sort_values(['ovr_og'],0,False)\n"
   ]
  },
  {
   "cell_type": "code",
   "execution_count": null,
   "metadata": {},
   "outputs": [],
   "source": [
    "pdf.sort_values(['ovr_mn'],0,False)\n"
   ]
  },
  {
   "cell_type": "code",
   "execution_count": null,
   "metadata": {},
   "outputs": [],
   "source": [
    "pdf.sort_values(['diff'],0,False)\n"
   ]
  },
  {
   "cell_type": "code",
   "execution_count": null,
   "metadata": {},
   "outputs": [],
   "source": [
    "_ = plt.hist(pdf['diff'],40)"
   ]
  },
  {
   "cell_type": "code",
   "execution_count": null,
   "metadata": {},
   "outputs": [],
   "source": []
  },
  {
   "cell_type": "code",
   "execution_count": null,
   "metadata": {},
   "outputs": [],
   "source": []
  },
  {
   "cell_type": "code",
   "execution_count": null,
   "metadata": {},
   "outputs": [],
   "source": []
  },
  {
   "cell_type": "code",
   "execution_count": null,
   "metadata": {},
   "outputs": [],
   "source": []
  }
 ],
 "metadata": {
  "kernelspec": {
   "display_name": "Python 3",
   "language": "python",
   "name": "python3"
  },
  "language_info": {
   "codemirror_mode": {
    "name": "ipython",
    "version": 3
   },
   "file_extension": ".py",
   "mimetype": "text/x-python",
   "name": "python",
   "nbconvert_exporter": "python",
   "pygments_lexer": "ipython3",
   "version": "3.6.8"
  }
 },
 "nbformat": 4,
 "nbformat_minor": 2
}
