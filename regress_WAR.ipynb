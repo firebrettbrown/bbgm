{
 "cells": [
  {
   "cell_type": "markdown",
   "metadata": {},
   "source": [
    "Previous\n",
    "| Var      | Coeff |\n",
    "|----------|-------|\n",
    "|Hgt       |18.43|\n",
    "|Spd       |17.48|\n",
    "|dIQ       |11.92|\n",
    "|oIQ       |9.27|\n",
    "|Str       |8.05|\n",
    "|Jmp       |7.17|\n",
    "|3Pt       |6.58|\n",
    "|Pss       |6.38|\n",
    "|Drb       |5.94|\n",
    "|End       |3.40|\n",
    "|Dnk       |3.35|\n",
    "|Reb       |0.88|\n",
    "|FT.1      |0.60|\n",
    "|Ins       |0.55|\n",
    "|2Pt       |0.00|\n",
    "\n",
    "\n",
    "Beta\n",
    "| Var      | Coeff |\n",
    "|----------|-------|\n",
    "|Hgt       |19.88|\n",
    "|Spd       |18.53|\n",
    "|Jmp       |9.44|\n",
    "|dIQ       |9.32|\n",
    "|Str       |7.91|\n",
    "|Drb       |7.63|\n",
    "|oIQ       |6.64|\n",
    "|3Pt       |6.61|\n",
    "|Pss       |5.86|\n",
    "|Ins       |2.22|\n",
    "|Reb       |2.19|\n",
    "|Dnk       |2.05|\n",
    "|End       |1.70|\n",
    "|FT.1      |0.00|\n",
    "|2Pt       |0.00|\n",
    "\n"
   ]
  },
  {
   "cell_type": "code",
   "execution_count": null,
   "metadata": {},
   "outputs": [],
   "source": [
    "import json\n",
    "import os\n",
    "import sys\n",
    "import fnmatch\n",
    "\n",
    "\n",
    "import numpy as np\n",
    "import pandas as pd\n",
    "import matplotlib.pyplot as plt\n",
    "from collections import defaultdict"
   ]
  },
  {
   "cell_type": "code",
   "execution_count": null,
   "metadata": {},
   "outputs": [],
   "source": [
    "df = pd.read_csv('beta_stats.csv')#big_stat\n",
    "df = df[(df.G*df.MP > 82)]\n",
    "time_weight = (1/np.array(df['MP']))\n",
    "#df['DRE'] = (df['PTS'] + .2*df['TRB'] + 1.7*df['STL'] + .535*df['Blk'] + .5*df['AST'] - .9*df['FGA'] -.35*df['FTA'] - 1.4*df['TOV'])*time_weight*36\n",
    "df['DRE'] = (-0.552*df['3PA']-0.719*(df['FGA']-df['3PA'])+0.79231*df['PTS'] + 0.1348*df['ORB'] +0.4*df['DRB'] + 1.68*df['STL'] + 0.7639*df['Blk'] + 0.544*df['AST'] - .16*df['FTA'] - 1.36*df['TOV'] -0.1084*df['PF'])*time_weight*48-8.4236\n",
    "df.shape\n",
    "_ = plt.hist(df.DRE,100)\n",
    "plt.title('{}'.format(df.DRE.mean()))"
   ]
  },
  {
   "cell_type": "code",
   "execution_count": null,
   "metadata": {},
   "outputs": [],
   "source": [
    "V = df[['Name','Ovr']].groupby('Name').max()"
   ]
  },
  {
   "cell_type": "code",
   "execution_count": null,
   "metadata": {},
   "outputs": [],
   "source": [
    "#df = pd.read_csv('avg_stats.csv')\n",
    "#groups = df.groupby(['pid','Season']).mean()"
   ]
  },
  {
   "cell_type": "code",
   "execution_count": null,
   "metadata": {},
   "outputs": [],
   "source": [
    "list(df.columns).index('WS')"
   ]
  },
  {
   "cell_type": "code",
   "execution_count": null,
   "metadata": {},
   "outputs": [],
   "source": [
    "(V >= 90).sum()"
   ]
  },
  {
   "cell_type": "code",
   "execution_count": null,
   "metadata": {},
   "outputs": [],
   "source": [
    "vals = [76.9,63.9,56.2,50.8,46.6,43.2,40.3,37.8,35.6,33.6,31.8,30.2,28.7,27.3,26,24.8,23.6,22.6,21.5,20.6,19.7,18.8,18,17.2,16.4,15.6,14.9,14.3,13.6,13]\n",
    "#df = df[df.Season >= 2030]"
   ]
  },
  {
   "cell_type": "code",
   "execution_count": null,
   "metadata": {},
   "outputs": [],
   "source": [
    "vals2 = []\n",
    "for i in range(30):\n",
    "    agg = df[df['DraftPick'] == i+1].groupby('Name').sum()\n",
    "    agg = agg.mean()\n",
    "    #print(i,agg['WS'],agg['EWA'])\n",
    "    vals2.append(agg['WS'])\n",
    "#_ = plt.hist(['EWA'],20)\n",
    "plt.plot(np.arange(30)+1,vals,label='NBA')\n",
    "plt.plot(np.arange(30)+1,vals2,label='BBGM')\n",
    "plt.xlabel('draft pick')\n",
    "plt.xlim(1,30)\n",
    "plt.ylabel('Mean Career Win Shares')\n",
    "plt.legend()\n",
    "plt.gca().set_facecolor('w')\n",
    "#plt.gca().set_facecolor('w')\n",
    "plt.savefig('draft.png',transparent=False)"
   ]
  },
  {
   "cell_type": "code",
   "execution_count": null,
   "metadata": {},
   "outputs": [],
   "source": [
    "vals3 = []\n",
    "valid_ages = set(list(range(19,36)))\n",
    "for i in range(19,36):\n",
    "    agg = df[df['Age'] == i]#.groupby('Name').sum()\n",
    "    agg = agg.mean()\n",
    "    #print(i,agg['WS'],agg['EWA'])\n",
    "    vals3.append(agg['WS/48'])"
   ]
  },
  {
   "cell_type": "code",
   "execution_count": null,
   "metadata": {},
   "outputs": [],
   "source": [
    "WS_REAL = defaultdict(list)\n",
    "for YR in range(1980,2020):\n",
    "    table = np.load('tables_{}.pkl'.format(YR))\n",
    "    for team in table:\n",
    "        stats = table[team]['advanced'][['Age','WS/48']]\n",
    "        for item in stats.itertuples():\n",
    "            WS_REAL[int(item[1])].append(item[2])"
   ]
  },
  {
   "cell_type": "code",
   "execution_count": null,
   "metadata": {},
   "outputs": [],
   "source": [
    "vals4 = np.zeros(len(valid_ages))\n",
    "for k,v in WS_REAL.items():\n",
    "    if k in valid_ages:\n",
    "        try:\n",
    "            vals4[k-19] = np.array( [ _ for _ in v if type(_) == float ]).mean()\n",
    "        except:\n",
    "            print(np.array(v))"
   ]
  },
  {
   "cell_type": "code",
   "execution_count": null,
   "metadata": {},
   "outputs": [],
   "source": [
    "plt.plot(range(19,36),vals4,label='NBA')\n",
    "plt.plot(range(19,36),vals3,label='BBGM')\n",
    "plt.xlabel('age')\n",
    "plt.xlim(19,36)\n",
    "plt.ylabel('Mean WS/48')\n",
    "plt.legend()\n",
    "plt.gca().set_facecolor('w')\n",
    "#plt.gca().set_facecolor('w')\n",
    "plt.savefig('ws48.png',transparent=False)"
   ]
  },
  {
   "cell_type": "code",
   "execution_count": null,
   "metadata": {},
   "outputs": [],
   "source": [
    "dkeys = ['Hgt', 'Str', 'Spd', 'Jmp', 'End', 'Ins', 'Dnk', 'FT', '2Pt', '3Pt',\n",
    "       'oIQ', 'dIQ', 'Drb', 'Pss', 'Reb']\n",
    "new_ovr = []\n",
    "nc = np.array([5,1,4,2,1,1,2,1,1,3,7,3,3,3,1])\n",
    "\n",
    "new_ovr = np.array(df.iloc[:,-16:-1]) @ (nc/nc.sum())\n",
    "#for row in df.iterrows():\n",
    "#    new_ovr.append(sum([row[1][k]*v for k,v in zip(dkeys,nc)])/nc.sum())\n",
    "#    break\n",
    "\n",
    "plt.hist(new_ovr,100)\n",
    "print(np.array(new_ovr).mean())\n",
    "df.columns[-16:-1]"
   ]
  },
  {
   "cell_type": "code",
   "execution_count": null,
   "metadata": {},
   "outputs": [],
   "source": [
    "plt.hist(df[df['+/-'] < -12]['Ovr'],15,density=True,label='Below -10',alpha=0.9)\n",
    "plt.hist(df[df['+/-'] > +12]['Ovr'],15,density=True,label='Above +10',alpha=0.9)\n",
    "plt.legend()"
   ]
  },
  {
   "cell_type": "code",
   "execution_count": null,
   "metadata": {},
   "outputs": [],
   "source": [
    "nf = lambda x: (x-x.mean())/x.std()\n",
    "y = np.sqrt(df['PER'] * np.maximum(1e-3,df['WS/48']))#df['+/-'] * time_weight * 36#45\n",
    "y =  nf(df['WS/48'])\n",
    "y = np.nan_to_num(y)\n",
    "\n",
    "#y = df['+/-'] * time_weight * 36#45\n",
    "#y.iloc[:,0] += (df.iloc[:,45]-0.074737)*50 #45\n",
    "#y /=2 \n",
    "\n",
    "X = df.iloc[:,-16:-1] # -17:-16\n",
    "#X = X[[_ for _ in X.columns if _ != '+/-' ]]\n",
    "#X.columns,y.columns,y.shape"
   ]
  },
  {
   "cell_type": "code",
   "execution_count": null,
   "metadata": {},
   "outputs": [],
   "source": [
    "_ = plt.hist(y,50)"
   ]
  },
  {
   "cell_type": "code",
   "execution_count": null,
   "metadata": {},
   "outputs": [],
   "source": [
    "y=pd.DataFrame(y)"
   ]
  },
  {
   "cell_type": "code",
   "execution_count": null,
   "metadata": {},
   "outputs": [],
   "source": [
    "from sklearn import neural_network\n",
    "from sklearn import linear_model\n",
    "from sklearn import preprocessing\n",
    "from sklearn import feature_selection\n",
    "from sklearn import  multioutput\n",
    "from sklearn import ensemble\n",
    "from sklearn import svm"
   ]
  },
  {
   "cell_type": "code",
   "execution_count": null,
   "metadata": {},
   "outputs": [],
   "source": [
    "fexp = preprocessing.PolynomialFeatures(degree=1,interaction_only=True)\n",
    "scalerX = preprocessing.RobustScaler()\n",
    "scalery = preprocessing.StandardScaler()\n",
    "prescale_X = scalerX.fit_transform(X)\n",
    "prescale_y = scalery.fit_transform(y)\n",
    "#prescale_X = fexp.fit_transform(prescale_X)"
   ]
  },
  {
   "cell_type": "code",
   "execution_count": null,
   "metadata": {},
   "outputs": [],
   "source": [
    "trials = 1\n",
    "ts = []\n",
    "prescale_X = (X-round(X.mean(0)))/round(X.std(0))\n",
    "for i in range(trials):\n",
    "    #clf = neural_network.MLPRegressor((36,5,24,36),'tanh',solver='adam',max_iter=1000)\n",
    "    #clf = neural_network.MLPRegressor((32,4),'identity',solver='lbfgs',alpha=5e2,tol=1e-9)\n",
    "    #clf = multioutput.MultiOutputRegressor(linear_model.SGDRegressor(penalty='l2',alpha=5e2,eta0=1e-6,tol=1e-12,max_iter=50,verbose=True))\n",
    "    clf = multioutput.MultiOutputRegressor(linear_model.ElasticNetCV(cv=25,positive=True,fit_intercept=False))\n",
    "    #clf = ensemble.ExtraTreesRegressor(8,criterion='mae',max_depth=3,verbose=1)\n",
    "    #clf = multioutput.MultiOutputRegressor(svm.SVR())\n",
    "    W = df.MP*df.G\n",
    "    W /= W.mean()\n",
    "    clf.fit(prescale_X,prescale_y)\n",
    "    yt = scalery.inverse_transform(clf.predict(prescale_X))\n",
    "    err = np.linalg.norm(yt-y)\n",
    "    ts.append((err,clf))"
   ]
  },
  {
   "cell_type": "code",
   "execution_count": null,
   "metadata": {},
   "outputs": [],
   "source": [
    "if False:\n",
    "    import statsmodels.api as sm\n",
    "    clf_sm = sm.RLM(np.array(y['+/-']),prescale_X.astype(np.float),weights=W)\n",
    "    res = clf_sm.fit()\n",
    "    yt = scalery.inverse_transform(res.predict(prescale_X))\n",
    "    err = np.linalg.norm(yt-y['+/-'])\n",
    "    print(err)\n",
    "    res.summary()"
   ]
  },
  {
   "cell_type": "code",
   "execution_count": null,
   "metadata": {},
   "outputs": [],
   "source": [
    "ts = sorted(ts)[::1] # why not the biggest error\n",
    "print(ts[0][0])\n",
    "clf = ts[0][1]"
   ]
  },
  {
   "cell_type": "code",
   "execution_count": null,
   "metadata": {},
   "outputs": [],
   "source": [
    "round(df.iloc[:,-16:-1].mean()),round(df.iloc[:,-16:-1].std())"
   ]
  },
  {
   "cell_type": "code",
   "execution_count": null,
   "metadata": {},
   "outputs": [],
   "source": [
    "col_names = X.columns\n",
    "#col_names = fexp.get_feature_names(X.columns)\n",
    "\n",
    "for i,c in enumerate(y.columns):\n",
    "    coeffs = clf.estimators_[i].coef_ \n",
    "    v = np.argsort(abs(coeffs))[::-1]\n",
    "    print(c)\n",
    "    coeffs2 = [(coeffs[i2],col_names[i2]) for i2 in v]\n",
    "    #for v,n in sorted(coeffs2,reverse=True):\n",
    "    #    print('{:.2f} * {} + '.format(v,n),end='')\n",
    "    print('| Var      | Coeff |')\n",
    "    print('|----------|-------|')\n",
    "    for v,n in sorted(coeffs2,reverse=True):\n",
    "        print('|{:10s}|{:.2f}|'.format(n,100*v/coeffs.sum()))\n",
    "    #for v,n in sorted(coeffs2,reverse=True):\n",
    "    #    print('\\t{:25s}\\t{:.2f}'.format(n,v))\n"
   ]
  },
  {
   "cell_type": "code",
   "execution_count": null,
   "metadata": {},
   "outputs": [],
   "source": [
    "nc_M = []\n",
    "for n,w in zip(col_names,clf.estimators_[0].coef_):\n",
    "    if n == '1':\n",
    "        continue\n",
    "    w /= (clf.estimators_[0].coef_.sum())*0.01\n",
    "    w = int(round(w))\n",
    "    print(w,end=', ')\n",
    "    nc_M.append(w)\n",
    "nc_M = np.array(nc_M)"
   ]
  },
  {
   "cell_type": "code",
   "execution_count": null,
   "metadata": {},
   "outputs": [],
   "source": [
    "round(X.std(0))"
   ]
  },
  {
   "cell_type": "code",
   "execution_count": null,
   "metadata": {},
   "outputs": [],
   "source": [
    "coeff = clf.estimators_[i].coef_ \n",
    "coeff = np.round(coeff,2)\n",
    "coeff[np.where(coeff <= 0)] = 0.01\n",
    "\n",
    "pred = (X-round(X.mean(0)))/round(X.std(0)) @ coeff\n",
    "MM = new_ovr.mean()\n",
    "SS = new_ovr.std()/pred.std()\n",
    "print(MM,SS)\n",
    "\n",
    "new_ovr = np.array(new_ovr)\n",
    "plt.hist(new_ovr,100)\n",
    "plt.hist(pred*SS+MM,100,alpha=0.5)\n",
    "#plt.ylim(0,50)\n",
    "new_ovr.mean(),new_ovr.std(),coeff"
   ]
  },
  {
   "cell_type": "code",
   "execution_count": null,
   "metadata": {},
   "outputs": [],
   "source": [
    "GEN_YEAR = 2019\n",
    "with open('rosters/auto_roster_{}.json'.format(GEN_YEAR),'r') as fp:\n",
    "    base = json.load(fp)\n",
    "players = base['players']"
   ]
  },
  {
   "cell_type": "code",
   "execution_count": null,
   "metadata": {},
   "outputs": [],
   "source": [
    "dkeys = [_.lower() for _ in ['Hgt', 'Stre', 'Spd', 'Jmp', 'Endu', 'Ins', 'Dnk', 'FT', 'fg', 'tp',\n",
    "       'oIQ', 'dIQ', 'Drb', 'Pss', 'Reb']]\n",
    "nc = np.array([5,1,4,2,1,1,2,1,1,3,7,3,3,3,1])\n",
    "xm = round(X.mean(0))\n",
    "xs = round(X.std(0))"
   ]
  },
  {
   "cell_type": "code",
   "execution_count": null,
   "metadata": {},
   "outputs": [],
   "source": [
    "player_df = []\n",
    "for p in players:\n",
    "    if not 'name' in p:\n",
    "        p['name'] = p['firstName'] + ' ' + p['lastName']\n",
    "    d = {'name':p['name']}\n",
    "    d.update(p['ratings'][0])\n",
    "    d['ovr_og'] = sum([d[k]*v for k,v in zip(dkeys,nc)])/nc.sum()\n",
    "    d['ovr_mn'] = sum([(d[k]-m)*v/s for k,v,m,s in zip(dkeys,coeff,xm,xs)])*SS + MM\n",
    "    #d['ovr_mnr'] = sum([d[k]*v for k,v in zip(dkeys,nc)])/np.maximum(0,nc3).sum()\n",
    "\n",
    "    player_df.append(d)"
   ]
  },
  {
   "cell_type": "code",
   "execution_count": null,
   "metadata": {},
   "outputs": [],
   "source": [
    "pdf = pd.DataFrame(player_df).set_index('name')\n",
    "pdf['diff'] = pdf['ovr_mn'] - pdf['ovr_og']\n",
    "#pdf['diffr'] = pdf['ovr_mnr'] - pdf['ovr_og']\n"
   ]
  },
  {
   "cell_type": "code",
   "execution_count": null,
   "metadata": {},
   "outputs": [],
   "source": [
    "pdf.sort_values(['ovr_og'],0,False)\n"
   ]
  },
  {
   "cell_type": "code",
   "execution_count": null,
   "metadata": {},
   "outputs": [],
   "source": [
    "pdf.sort_values(['ovr_mn'],0,False)\n"
   ]
  },
  {
   "cell_type": "code",
   "execution_count": null,
   "metadata": {},
   "outputs": [],
   "source": [
    "pdf.sort_values(['diff'],0,False)\n",
    "#pdf.loc['Draymond Green']"
   ]
  },
  {
   "cell_type": "code",
   "execution_count": null,
   "metadata": {},
   "outputs": [],
   "source": [
    "_ = plt.hist(pdf['diff'],40)"
   ]
  },
  {
   "cell_type": "code",
   "execution_count": null,
   "metadata": {},
   "outputs": [],
   "source": [
    "pdf['diff'].mean(),pdf['diff'].std()"
   ]
  },
  {
   "cell_type": "code",
   "execution_count": null,
   "metadata": {},
   "outputs": [],
   "source": [
    "plt.figure(figsize=(6,6),facecolor='w',edgecolor='w')\n",
    "plt.scatter(pdf['ovr_og'],pdf['ovr_mn'],s=11,alpha=0.7)\n",
    "#plt.scatter(new_ovr,pred*(SS)+MM+0.5,s=3,alpha=0.1)\n",
    "\n",
    "\n",
    "plt.xlim(30,75)\n",
    "plt.ylim(30,75)\n",
    "plt.xlabel('old rating')\n",
    "plt.ylabel('new rating')\n",
    "plt.title(\"Rating change on nicidob 18-19 NBA Roster data\")\n",
    "plt.plot([30,75],[30,75],c='k')\n",
    "plt.grid(True)"
   ]
  },
  {
   "cell_type": "code",
   "execution_count": null,
   "metadata": {},
   "outputs": [],
   "source": [
    "df.columns"
   ]
  },
  {
   "cell_type": "code",
   "execution_count": null,
   "metadata": {},
   "outputs": [],
   "source": [
    "df['GmBPM2'] = (-0.55*df['FGA'] + 2.43*df['3P']+ 1.39*(df['FGA']-df['3P']) + 0.79*df['FT'] -0.25*df['FTA'] \\\n",
    "                + 0.17*df['ORB'] - 0.27*df['DRB'] + 0.43*df['AST'] + 1.34*df['STL'] + 0.64*df['Blk']-0.95*df['TOV']-0.34*df['PF'])*time_weight*48"
   ]
  },
  {
   "cell_type": "code",
   "execution_count": null,
   "metadata": {},
   "outputs": [],
   "source": [
    "_ = plt.hist(df['GmBPM2'],100)"
   ]
  },
  {
   "cell_type": "code",
   "execution_count": null,
   "metadata": {},
   "outputs": [],
   "source": [
    "clf_bpm = linear_model.ElasticNetCV(cv=10,fit_intercept=True)"
   ]
  },
  {
   "cell_type": "code",
   "execution_count": null,
   "metadata": {},
   "outputs": [],
   "source": [
    "clf_bpm"
   ]
  },
  {
   "cell_type": "code",
   "execution_count": null,
   "metadata": {},
   "outputs": [],
   "source": [
    "df['+/-_min'] = df['+/-'] * time_weight * 48"
   ]
  },
  {
   "cell_type": "code",
   "execution_count": null,
   "metadata": {},
   "outputs": [],
   "source": [
    "Xbpm = df.iloc[:,10:58]\n",
    "Xbpm['2PA'] = Xbpm['FGA']-Xbpm['3PA']\n",
    "Xbpm['2P'] = Xbpm['FG']-Xbpm['3P']\n",
    "\n",
    "Ybpm = df['+/-_min']\n",
    "#Xbpm = Xbpm[[_ for _ in Xbpm.columns if _ not in ['DRtg','ORtg','FG','LowPostFGA','AtRimFGA','TOV%', 'FG%','EWA', 'MidRangeFGP', '3PAr', 'AtRimFGP', 'LowPostFGP', '3P%', 'FT%', 'ORB%', 'FTr','WS','OWS','DWS','WS/48','PER', 'USG%', 'TRB%', 'TRB', 'TOV', 'STL', 'PF', 'ORB', 'MidRangeFGA', 'MidRangeFG', 'MP', 'LowPostFG', 'FT', 'DRB', 'Blk', 'BA', 'AtRimFG', '3PA', '3P',]]]\n",
    "#Xbpm = Xbpm[[_ for _ in Xbpm.columns if _ not in ['DRtg','ORtg','PER','DWS','OWS','WS','WS/48','EWA', 'MidRangeFGA', 'MidRangeFG', 'AtRimFG','AtRimFGA','LowPostFGA', 'MP', '3PAr', 'LowPostFG', 'LowPostFGP', 'AtRimFGP', 'FTr', 'MidRangeFGP','FT%','TRB']]]\n",
    "#Xbpm = Xbpm[[_ for _ in Xbpm.columns if _ not in  ['TRB%','ORB%','DRB%','TS%', 'FG', 'BLK%', 'BA', 'FGA', 'FG%', 'Blk', '3P', '3P%', 'FTA', 'FT', 'PF']]]\n",
    "Xbpm = Xbpm[[_ for _ in Xbpm.columns if _ not in  ['DRtg','ORtg','2PA','2P','PF','Blk','3PA','3P%','FT','TS%','TRB','USG%','STL%','AST%','TRB%','ORB%','DRB%','BLK%', 'FG%','LowPostFGA','AtRimFGA','TOV%', '3P','FTr','FG%','EWA', 'MidRangeFGP', '3PAr', 'AtRimFGP', 'LowPostFGP', 'AtRimFG','MP', 'FT%', 'ORB%','WS','OWS','DWS','WS/48','PER', 'USG%', 'TRB%','LowPostFG','MidRangeFG','MidRangeFGA']]]"
   ]
  },
  {
   "cell_type": "code",
   "execution_count": null,
   "metadata": {},
   "outputs": [],
   "source": [
    "for col in ['FGA','FTA','AST','PTS','TRB','ORB','DRB','TOV','STL','PF','FT','Blk','BA','3PA','3P','2PA','2P']:\n",
    "    if col in Xbpm:\n",
    "        Xbpm[col] = 48*Xbpm[col] * time_weight"
   ]
  },
  {
   "cell_type": "code",
   "execution_count": null,
   "metadata": {},
   "outputs": [],
   "source": [
    "clf_bpm.fit(Xbpm,Ybpm)"
   ]
  },
  {
   "cell_type": "code",
   "execution_count": null,
   "metadata": {},
   "outputs": [],
   "source": [
    "clf_bpm.intercept_"
   ]
  },
  {
   "cell_type": "code",
   "execution_count": null,
   "metadata": {},
   "outputs": [],
   "source": [
    "clf_bpm.score(Xbpm,Ybpm)"
   ]
  },
  {
   "cell_type": "code",
   "execution_count": null,
   "metadata": {},
   "outputs": [],
   "source": [
    "Ybpm_pred = clf_bpm.predict(Xbpm)"
   ]
  },
  {
   "cell_type": "code",
   "execution_count": null,
   "metadata": {},
   "outputs": [],
   "source": [
    "plt.scatter(Ybpm,Ybpm_pred,s=3,alpha=0.5)\n",
    "plt.figure()\n",
    "plt.scatter(df['Ovr'],Ybpm_pred,s=3,alpha=0.5)\n",
    "plt.figure()\n",
    "plt.scatter(df['Ovr'],Ybpm,s=3,alpha=0.5)"
   ]
  },
  {
   "cell_type": "code",
   "execution_count": null,
   "metadata": {},
   "outputs": [],
   "source": [
    "col_names = Xbpm.columns\n",
    "#col_names = fexp.get_feature_names(X.columns)\n",
    "\n",
    "coeffs = clf_bpm.coef_ \n",
    "v = np.argsort(abs(coeffs))[::-1]\n",
    "print(c)\n",
    "coeffs2 = [(coeffs[i2],col_names[i2]) for i2 in v]\n",
    "#for v,n in sorted(coeffs2,reverse=True):\n",
    "#    print('{:.2f} * {} + '.format(v,n),end='')\n",
    "print('| Var      | Coeff |')\n",
    "print('|----------|-------|')\n",
    "for v,n in sorted(coeffs2,reverse=True):\n",
    "    if abs(v)< 0.2:\n",
    "        print(\" '{}',\".format(n),end='')\n",
    "    print('{}, {:.2f}'.format(n,v))\n",
    "    #print('|{:10s}|{:.2f}|'.format(n,100*v/coeffs.sum()))\n",
    "\n",
    "#for v,n in sorted(coeffs2,reverse=True):\n",
    "#    print('\\t{:25s}\\t{:.2f}'.format(n,v))\n",
    "print('{}, {:.2f}'.format('Intercept',clf_bpm.intercept_))\n",
    "print(Xbpm.shape[0])"
   ]
  },
  {
   "cell_type": "code",
   "execution_count": null,
   "metadata": {},
   "outputs": [],
   "source": [
    "df['Ybpm_pred'] = Ybpm_pred"
   ]
  },
  {
   "cell_type": "code",
   "execution_count": null,
   "metadata": {},
   "outputs": [],
   "source": [
    "df[['Ovr','+/-','Ybpm_pred','PER','EWA','WS/48','+/-_min','DRE']].corr()"
   ]
  },
  {
   "cell_type": "code",
   "execution_count": null,
   "metadata": {},
   "outputs": [],
   "source": [
    "df"
   ]
  },
  {
   "cell_type": "code",
   "execution_count": null,
   "metadata": {},
   "outputs": [],
   "source": [
    "import statsmodels.api as sm\n"
   ]
  },
  {
   "cell_type": "code",
   "execution_count": null,
   "metadata": {},
   "outputs": [],
   "source": [
    "spector_data = Xbpm\n",
    "spector_data = sm.add_constant(spector_data, prepend=False)\n",
    "\n",
    "# Fit and summarize OLS model\n",
    "mod = sm.OLS(Ybpm,spector_data)\n",
    "\n",
    "res = mod.fit()\n",
    "\n",
    "res.summary()"
   ]
  },
  {
   "cell_type": "code",
   "execution_count": null,
   "metadata": {},
   "outputs": [],
   "source": [
    "Ybm_pres2 = res.predict(spector_data)"
   ]
  },
  {
   "cell_type": "code",
   "execution_count": null,
   "metadata": {},
   "outputs": [],
   "source": [
    "df['Ybm_pres2'] = Ybm_pres2"
   ]
  },
  {
   "cell_type": "code",
   "execution_count": null,
   "metadata": {},
   "outputs": [],
   "source": [
    "df[['Ovr','+/-','Ybpm_pred','Ybm_pres2','PER','EWA','WS/48','+/-_min','DRE','GmBPM2']].corr()"
   ]
  },
  {
   "cell_type": "code",
   "execution_count": null,
   "metadata": {},
   "outputs": [],
   "source": [
    "plt.scatter(df['Ovr'],Ybm_pres2,s=3,alpha=0.5)"
   ]
  },
  {
   "cell_type": "code",
   "execution_count": null,
   "metadata": {},
   "outputs": [],
   "source": [
    "plt.scatter(df['Ovr'],df['DRE'],s=3,alpha=0.5)\n",
    "plt.figure()\n",
    "plt.scatter(df['Ovr'],df['GmBPM2'],s=3,alpha=0.5)\n",
    "plt.figure()\n",
    "plt.scatter(df['Ybpm_pred'],df['DRE'],s=3,alpha=0.5)\n",
    "plt.figure()\n",
    "plt.scatter(df['Ybm_pres2'],df['DRE'],s=3,alpha=0.5)"
   ]
  },
  {
   "cell_type": "code",
   "execution_count": null,
   "metadata": {},
   "outputs": [],
   "source": [
    "plt.scatter(Ybpm_pred,Ybm_pres2,s=3,alpha=0.5)"
   ]
  },
  {
   "cell_type": "code",
   "execution_count": null,
   "metadata": {},
   "outputs": [],
   "source": [
    "Xbpm.corr().style.background_gradient()"
   ]
  },
  {
   "cell_type": "code",
   "execution_count": null,
   "metadata": {},
   "outputs": [],
   "source": [
    "groups = df.groupby(['pid','Season'],as_index=False).mean()"
   ]
  },
  {
   "cell_type": "code",
   "execution_count": null,
   "metadata": {},
   "outputs": [],
   "source": [
    "df[(df.pid == 0) & (df.Age > 30)][['Ovr','G','MP','Age','+/-_min','Ybpm_pred','Ybm_pres2','EWA','PER','WS/48',\"DRE\",'GmBPM2']]"
   ]
  },
  {
   "cell_type": "code",
   "execution_count": null,
   "metadata": {},
   "outputs": [],
   "source": [
    "pd.options.display.float_format = '{:,.2f}'.format"
   ]
  },
  {
   "cell_type": "code",
   "execution_count": null,
   "metadata": {},
   "outputs": [],
   "source": [
    "df[(df.pid == 11329) & (df.Age > 24)  & (df.Age < 90) ][['Ovr','Age','+/-_min','Ybpm_pred','Ybm_pres2','EWA','PER','WS/48','DRE','GmBPM2']]"
   ]
  },
  {
   "cell_type": "code",
   "execution_count": null,
   "metadata": {},
   "outputs": [],
   "source": [
    "df3 = df.groupby(['pid']).std()\n",
    "df3[(df3.Ovr > 10) & ( df3.Season > 5)]"
   ]
  },
  {
   "cell_type": "code",
   "execution_count": null,
   "metadata": {},
   "outputs": [],
   "source": [
    "df2 = groups._get_numeric_data().diff()\n",
    "\n",
    "df3 = abs(df2[df2.pid == 0])\n",
    "df3[ ['Ovr','Age','+/-_min','Ybpm_pred','Ybm_pres2','EWA','PER','DRE','GmBPM2']].mean()\n"
   ]
  },
  {
   "cell_type": "code",
   "execution_count": null,
   "metadata": {},
   "outputs": [],
   "source": [
    "df"
   ]
  },
  {
   "cell_type": "code",
   "execution_count": null,
   "metadata": {},
   "outputs": [],
   "source": [
    "groups"
   ]
  },
  {
   "cell_type": "code",
   "execution_count": null,
   "metadata": {},
   "outputs": [],
   "source": [
    "df.groupby('pid').std().mean()"
   ]
  },
  {
   "cell_type": "code",
   "execution_count": null,
   "metadata": {},
   "outputs": [],
   "source": [
    "df.std()"
   ]
  },
  {
   "cell_type": "code",
   "execution_count": null,
   "metadata": {},
   "outputs": [],
   "source": [
    "len(df.pid.unique())"
   ]
  },
  {
   "cell_type": "code",
   "execution_count": null,
   "metadata": {},
   "outputs": [],
   "source": [
    "df[df.Ovr >=90].shape"
   ]
  },
  {
   "cell_type": "code",
   "execution_count": null,
   "metadata": {},
   "outputs": [],
   "source": []
  },
  {
   "cell_type": "code",
   "execution_count": null,
   "metadata": {},
   "outputs": [],
   "source": []
  },
  {
   "cell_type": "code",
   "execution_count": null,
   "metadata": {},
   "outputs": [],
   "source": []
  },
  {
   "cell_type": "code",
   "execution_count": null,
   "metadata": {},
   "outputs": [],
   "source": []
  },
  {
   "cell_type": "code",
   "execution_count": null,
   "metadata": {},
   "outputs": [],
   "source": []
  },
  {
   "cell_type": "code",
   "execution_count": null,
   "metadata": {},
   "outputs": [],
   "source": []
  },
  {
   "cell_type": "code",
   "execution_count": null,
   "metadata": {},
   "outputs": [],
   "source": []
  }
 ],
 "metadata": {
  "kernelspec": {
   "display_name": "Python 3",
   "language": "python",
   "name": "python3"
  },
  "language_info": {
   "codemirror_mode": {
    "name": "ipython",
    "version": 3
   },
   "file_extension": ".py",
   "mimetype": "text/x-python",
   "name": "python",
   "nbconvert_exporter": "python",
   "pygments_lexer": "ipython3",
   "version": "3.6.8"
  }
 },
 "nbformat": 4,
 "nbformat_minor": 2
}
