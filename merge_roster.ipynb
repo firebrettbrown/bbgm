{
 "cells": [
  {
   "cell_type": "code",
   "execution_count": null,
   "metadata": {},
   "outputs": [],
   "source": [
    "import json\n",
    "from unidecode import unidecode"
   ]
  },
  {
   "cell_type": "code",
   "execution_count": null,
   "metadata": {},
   "outputs": [],
   "source": [
    "base_roster = 'normed_new.json'\n",
    "settings_roster = 'auto_roster_2020.json'\n",
    "settings_roster_old = 'auto_roster_2019.json'\n"
   ]
  },
  {
   "cell_type": "code",
   "execution_count": null,
   "metadata": {},
   "outputs": [],
   "source": [
    "with open(base_roster) as fp:\n",
    "    base = json.load(fp)\n",
    "with open(settings_roster) as fp:\n",
    "    settings = json.load(fp)\n",
    "with open(settings_roster_old) as fp:\n",
    "    settings_old = json.load(fp)\n",
    "base['version']  = 36\n"
   ]
  },
  {
   "cell_type": "code",
   "execution_count": null,
   "metadata": {},
   "outputs": [],
   "source": [
    "born_new = {}"
   ]
  },
  {
   "cell_type": "code",
   "execution_count": null,
   "metadata": {},
   "outputs": [],
   "source": [
    "new_settings = {}\n",
    "for p in settings['players']:\n",
    "    name = p['firstName'] + ' ' + p['lastName']\n",
    "    nsplit = unidecode(name).split(' ')\n",
    "    if nsplit[-1] in ['Jr','Sr','III','II','Jr.','Sr.']:\n",
    "        name = ' '.join(nsplit[:-1])\n",
    "    p['name'] = unidecode(name).replace('.','')\n",
    "    born_new[p['name'].lower()] = p['born']['year']\n",
    "    if p['name'] in new_settings:\n",
    "        print(new_settings[p['name']])\n",
    "        print(p)\n",
    "        print()\n",
    "    new_settings[p['name'].lower()] = p"
   ]
  },
  {
   "cell_type": "code",
   "execution_count": null,
   "metadata": {},
   "outputs": [],
   "source": [
    "new_settings['stephen curry']\n",
    "for p in settings_old['players']:\n",
    "    name = p['firstName'] + ' ' + p['lastName']\n",
    "    nsplit = unidecode(name).split(' ')\n",
    "    if nsplit[-1] in ['Jr','Sr','III','II','Jr.','Sr.']:\n",
    "        name = ' '.join(nsplit[:-1])\n",
    "    p['name'] = unidecode(name).replace('.','')\n",
    "    #print(name)\n",
    "    if p['name'].lower() == 'stephen curry':\n",
    "        new_settings[p['name'].lower()]['ratings'] = p['ratings']\n",
    "        print(p['ratings'])\n",
    "new_settings['stephen curry']\n"
   ]
  },
  {
   "cell_type": "code",
   "execution_count": null,
   "metadata": {},
   "outputs": [],
   "source": [
    "for p in base['players']:\n",
    "    \n",
    "    if not 'name' in p:\n",
    "        p['name'] = p['firstName'] + ' ' + p['lastName']\n",
    "    #del p['pos']\n",
    "    name = unidecode(p['name']).rstrip().strip().replace('.','')\n",
    "    nsplit = name.split(' ')\n",
    "    if nsplit[-1] in ['Jr','Sr','III','II','Jr.','Sr.']:\n",
    "        name = ' '.join(nsplit[:-1])\n",
    "    if name.lower() in new_settings and abs(born_new.get(name.lower(),0)-p['born']['year']) < 3:\n",
    "        if  new_settings[name.lower()]['tid'] < -1:\n",
    "            #print('skipped',name)\n",
    "            #print(p['ratings'])\n",
    "            continue\n",
    "        p['ratings'] = new_settings[name.lower()]['ratings']\n",
    "    else:\n",
    "        print(name,name.lower() in new_settings,p['name'])"
   ]
  },
  {
   "cell_type": "code",
   "execution_count": null,
   "metadata": {},
   "outputs": [],
   "source": [
    "with open('updated_roster.json','wt') as fp:\n",
    "    json.dump(base,fp)"
   ]
  },
  {
   "cell_type": "code",
   "execution_count": null,
   "metadata": {},
   "outputs": [],
   "source": [
    "new_settings.keys()"
   ]
  },
  {
   "cell_type": "code",
   "execution_count": null,
   "metadata": {},
   "outputs": [],
   "source": []
  },
  {
   "cell_type": "code",
   "execution_count": null,
   "metadata": {},
   "outputs": [],
   "source": []
  },
  {
   "cell_type": "code",
   "execution_count": null,
   "metadata": {},
   "outputs": [],
   "source": []
  },
  {
   "cell_type": "code",
   "execution_count": null,
   "metadata": {},
   "outputs": [],
   "source": []
  },
  {
   "cell_type": "code",
   "execution_count": null,
   "metadata": {},
   "outputs": [],
   "source": []
  },
  {
   "cell_type": "code",
   "execution_count": null,
   "metadata": {},
   "outputs": [],
   "source": []
  }
 ],
 "metadata": {
  "kernelspec": {
   "display_name": "Python 3",
   "language": "python",
   "name": "python3"
  },
  "language_info": {
   "codemirror_mode": {
    "name": "ipython",
    "version": 3
   },
   "file_extension": ".py",
   "mimetype": "text/x-python",
   "name": "python",
   "nbconvert_exporter": "python",
   "pygments_lexer": "ipython3",
   "version": "3.6.9"
  }
 },
 "nbformat": 4,
 "nbformat_minor": 2
}
