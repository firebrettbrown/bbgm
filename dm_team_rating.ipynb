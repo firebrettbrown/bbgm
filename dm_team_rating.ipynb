{
 "cells": [
  {
   "cell_type": "code",
   "execution_count": null,
   "metadata": {},
   "outputs": [],
   "source": [
    "import json\n",
    "import gzip\n",
    "\n",
    "import matplotlib.pyplot as plt  \n",
    "import pandas as pd\n",
    "from sklearn.linear_model import LinearRegression\n",
    "from sklearn.metrics import r2_score\n",
    "import statsmodels.api as sm\n",
    "import numpy as np\n"
   ]
  },
  {
   "cell_type": "code",
   "execution_count": null,
   "metadata": {},
   "outputs": [],
   "source": [
    "\n",
    "def get_cols():\n",
    "    cols = {\n",
    "        \"ovr0\": [],\n",
    "        \"ovr1\": [],\n",
    "        \"ovr2\": [],\n",
    "        \"ovr3\": [],\n",
    "        \"ovr4\": [],\n",
    "        \"ovr5\": [],\n",
    "        \"ovr6\": [],\n",
    "        \"ovr7\": [],\n",
    "        \"ovr8\": [],\n",
    "        \"ovr9\": [],\n",
    "        \"mov\": [],\n",
    "    }\n",
    "\n",
    "    with gzip.GzipFile(\"data.json.gz\", \"r\") as read_file:\n",
    "        data = json.loads(read_file.read())\n",
    "\n",
    "    def get_ovrs(tid, season):\n",
    "        ovrs = []\n",
    "\n",
    "        for p in data['players']:\n",
    "            if tid in p['statsTids']:\n",
    "                for ps in p['stats']:\n",
    "                    if ps['season'] == season and ps['tid'] == tid:\n",
    "                        found_ratings = False\n",
    "                        for pr in p['ratings']:\n",
    "                            if pr['season'] == season:\n",
    "                                found_ratings = True\n",
    "                                ovrs.append(pr['ovr'])\n",
    "                                break\n",
    "                        if not found_ratings:\n",
    "                            raise Exception(\"No ratings found\")\n",
    "                        break\n",
    "                    elif ps['season'] > season:\n",
    "                        break\n",
    "\n",
    "        ovrs.sort(reverse=True)\n",
    "\n",
    "        return ovrs\n",
    "\n",
    "    for t in data['teams']:\n",
    "        tid = t['tid']\n",
    "        for ts in t['stats']:\n",
    "            if not ts['playoffs'] and ts['gp'] > 0:\n",
    "                season = ts['season']\n",
    "                mov = (ts['pts'] - ts['oppPts']) / ts['gp'];\n",
    "                cols['mov'].append(mov)\n",
    "\n",
    "                ovrs = get_ovrs(tid, season)\n",
    "                cols['ovr0'].append(ovrs[0])\n",
    "                cols['ovr1'].append(ovrs[1])\n",
    "                cols['ovr2'].append(ovrs[2])\n",
    "                cols['ovr3'].append(ovrs[3])\n",
    "                cols['ovr4'].append(ovrs[4])\n",
    "                cols['ovr5'].append(ovrs[5])\n",
    "                cols['ovr6'].append(ovrs[6])\n",
    "                cols['ovr7'].append(ovrs[7])\n",
    "                cols['ovr8'].append(ovrs[8])\n",
    "                cols['ovr9'].append(ovrs[9])\n",
    "\n",
    "    return cols\n",
    "\n",
    "cols = get_cols()\n"
   ]
  },
  {
   "cell_type": "code",
   "execution_count": null,
   "metadata": {},
   "outputs": [],
   "source": [
    "dataX"
   ]
  },
  {
   "cell_type": "code",
   "execution_count": null,
   "metadata": {},
   "outputs": [],
   "source": [
    "\n",
    "dataset = pd.DataFrame(cols)\n",
    "\n",
    "dataX = dataset[fit_cols]\n",
    "#dataX = np.tile(np.arange(dataset[fit_cols].shape[1]),(dataset.shape[0],1))\n",
    "\n",
    "fit_cols = ['ovr0', 'ovr1', 'ovr2', 'ovr3', 'ovr4', 'ovr5', 'ovr6', 'ovr7', 'ovr8', 'ovr9']\n",
    "reg = sm.OLS(dataset['mov'],sm.add_constant(dataX))\n",
    "res = reg.fit()\n",
    "\n",
    "dataset['mov_predicted'] = res.predict()\n",
    "\n",
    "#print('Intercept: \\n', reg.params['const'])\n",
    "#print('Coefficients: \\n', reg.coef_)\n",
    "print('r2: ', r2_score(dataset['mov'], dataset['mov_predicted']))\n",
    "\n",
    "print(dataset)\n",
    "\n",
    "\n",
    "# dataset.plot.hexbin(x='mov', y='mov_predicted', gridsize=20)\n",
    "dataset.plot.scatter(x='mov', y='mov_predicted', alpha=0.2)\n",
    "plt.xlabel('Actual MOV')  \n",
    "plt.ylabel('Predicted MOV')  \n",
    "\n",
    "plt.plot([-20, 20], [-20, 20])\n",
    "\n",
    "plt.show()\n",
    "res.summary()"
   ]
  },
  {
   "cell_type": "code",
   "execution_count": null,
   "metadata": {},
   "outputs": [],
   "source": [
    "plt.plot(np.array(res.params[1:]))"
   ]
  },
  {
   "cell_type": "code",
   "execution_count": null,
   "metadata": {},
   "outputs": [],
   "source": [
    "a,b = np.polyfit(np.arange(10),np.log(np.array(res.params[1:])),1)\n",
    "plt.plot(np.array(res.params[1:]))\n",
    "plt.plot(np.exp(np.arange(10)*a)*np.exp(b))\n",
    "print(np.exp(b),a)"
   ]
  },
  {
   "cell_type": "code",
   "execution_count": null,
   "metadata": {},
   "outputs": [],
   "source": [
    "np.log(dataset['mov'])"
   ]
  },
  {
   "cell_type": "code",
   "execution_count": null,
   "metadata": {},
   "outputs": [],
   "source": [
    "np.array(dataX)"
   ]
  },
  {
   "cell_type": "code",
   "execution_count": null,
   "metadata": {},
   "outputs": [],
   "source": [
    "import scipy.optimize as opt\n",
    "from scipy.stats import pearsonr"
   ]
  },
  {
   "cell_type": "code",
   "execution_count": null,
   "metadata": {},
   "outputs": [],
   "source": [
    "def best_fit_func_exp(x):\n",
    "    return np.linalg.norm(dataX @ np.exp(x[0]*np.arange(10))*x[1]-x[2] - dataset['mov'])\n",
    "def best_fit_func_lin(x):\n",
    "    return np.linalg.norm(dataX @ (np.arange(10))*x[0]-x[1] - dataset['mov'])\n",
    "def best_fit_func_quad(x):\n",
    "    return np.linalg.norm(dataX @ ((np.arange(10)**2)*x[0] + np.arange(10) * x[1] + x[2]) - dataset['mov'])\n",
    "best_fit_func_exp([a,np.exp(b),-res.params['const']])"
   ]
  },
  {
   "cell_type": "code",
   "execution_count": null,
   "metadata": {},
   "outputs": [],
   "source": [
    "res2 = opt.minimize(best_fit_func_exp,[1,1,-100])\n",
    "res2"
   ]
  },
  {
   "cell_type": "code",
   "execution_count": null,
   "metadata": {},
   "outputs": [],
   "source": [
    "plt.plot(np.array(res.params[1:]))\n",
    "plt.plot(np.exp(np.arange(10)*a)*np.exp(b))\n",
    "plt.plot(np.exp(res2.x[0]*np.arange(10))*res2.x[1])"
   ]
  },
  {
   "cell_type": "code",
   "execution_count": null,
   "metadata": {},
   "outputs": [],
   "source": [
    "from IPython.display import display, Math\n",
    "display(Math('{:.2f} e^{{ {:.2f} x }}  + {:.2f}'.format(res2.x[1],res2.x[0],res2.x[2])))"
   ]
  },
  {
   "cell_type": "code",
   "execution_count": null,
   "metadata": {},
   "outputs": [],
   "source": []
  },
  {
   "cell_type": "code",
   "execution_count": null,
   "metadata": {},
   "outputs": [],
   "source": []
  }
 ],
 "metadata": {
  "kernelspec": {
   "display_name": "Python 3",
   "language": "python",
   "name": "python3"
  },
  "language_info": {
   "codemirror_mode": {
    "name": "ipython",
    "version": 3
   },
   "file_extension": ".py",
   "mimetype": "text/x-python",
   "name": "python",
   "nbconvert_exporter": "python",
   "pygments_lexer": "ipython3",
   "version": "3.6.9"
  }
 },
 "nbformat": 4,
 "nbformat_minor": 2
}
