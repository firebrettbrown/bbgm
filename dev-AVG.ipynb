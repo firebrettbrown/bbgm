{
 "cells": [
  {
   "cell_type": "code",
   "execution_count": null,
   "metadata": {},
   "outputs": [],
   "source": [
    "import json\n",
    "import pickle\n",
    "from copy import deepcopy\n",
    "import numpy as np\n",
    "import matplotlib.pyplot as plt\n",
    "import pandas as pd"
   ]
  },
  {
   "cell_type": "code",
   "execution_count": null,
   "metadata": {},
   "outputs": [],
   "source": [
    "df = pd.read_csv('avg_stats.csv')"
   ]
  },
  {
   "cell_type": "code",
   "execution_count": null,
   "metadata": {},
   "outputs": [],
   "source": [
    "rosters = []\n",
    "START_YEAR = 1980\n",
    "for YEAR in range(START_YEAR,2020):\n",
    "    rosters.append(json.load(open('rosters/auto_roster_{}.json'.format(YEAR))))\n"
   ]
  },
  {
   "cell_type": "code",
   "execution_count": null,
   "metadata": {},
   "outputs": [],
   "source": [
    "\n",
    "y_map = { 'hgt': 'hgt',\n",
    "   'stre': 'str',\n",
    "   'spd': 'spd',\n",
    "   'jmp': 'jmp',\n",
    "   'endu': 'end',\n",
    "   'ins': 'ins',\n",
    "   'dnk': 'dnk',\n",
    "   'ft': 'ft.1',\n",
    "   'fg': '2pt',\n",
    "   'tp': '3pt',\n",
    "   'diq': 'diq',\n",
    "   'oiq': 'oiq',\n",
    "   'drb': 'drb',\n",
    "   'pss': 'pss',\n",
    "   'reb': 'reb' }\n",
    "avgs = {}\n",
    "for k in y_map:\n",
    "    avgs[k + 'c'] = np.zeros(100)\n",
    "    avgs[k + 'n'] = np.zeros(100)\n",
    "    avgs[k + 's'] = np.zeros(100)\n",
    "    avgs[k + 'sn'] = np.zeros(100)\n"
   ]
  },
  {
   "cell_type": "code",
   "execution_count": null,
   "metadata": {},
   "outputs": [],
   "source": [
    "CURRENT_YEAR = 2019\n",
    "from collections import defaultdict\n",
    "player_years = defaultdict(list)\n",
    "player_age_full = defaultdict(dict) # player 3\n",
    "\n",
    "nc2 = np.array([5,1,4,2,1,1,2,1,1,3,7,3,3,3,1])\n",
    "nc2 = nc2 /nc2.sum()\n",
    "\n",
    "\n",
    "for i,roster in enumerate(rosters):\n",
    "    for player in roster['players']:\n",
    "        if player['tid'] <= -1:\n",
    "            continue\n",
    "        name = player['firstName'] + ' ' + player['lastName']\n",
    "\n",
    "        vals = []\n",
    "        age = (START_YEAR+i)-player['born']['year']\n",
    "        for k,km in y_map.items():\n",
    "            avgs[k + 'c'][age] += player['ratings'][0][k]\n",
    "            avgs[k + 'n'][age] += 1#player['ratings'][0][k]\n",
    "            vals.append(player['ratings'][0][k])\n",
    "        player_age_full[name][age] = np.array(vals)\n",
    "\n",
    "        #ovr = sum(player['ratings'][0][k]*nc2[y_keys.index(km)] for k,km in y_map.items())\n",
    "        #if player['tid'] != -1:\n",
    "        #    player_years[name].append((ovr,i+START_YEAR,[_ for _ in roster['teams'] if _['tid'] == player['tid']],player))"
   ]
  },
  {
   "cell_type": "code",
   "execution_count": null,
   "metadata": {},
   "outputs": [],
   "source": [
    "for i,k in enumerate(y_map):\n",
    "    avgs[k + 'DN'] = {}\n",
    "\n",
    "for name, year_d in player_age_full.items():\n",
    "    start,stop = min(year_d),max(year_d)\n",
    "    for age in range(start,stop-1):\n",
    "        for i,k in enumerate(y_map):\n",
    "            try:\n",
    "                avgs[k + 'DN'][age] = avgs[k + 'DN'].get(age,[]) + [year_d[age+1][i]-year_d[age][i]]\n",
    "            except:\n",
    "                pass\n",
    "player_age_full['LeBron James']"
   ]
  },
  {
   "cell_type": "code",
   "execution_count": null,
   "metadata": {},
   "outputs": [],
   "source": []
  },
  {
   "cell_type": "code",
   "execution_count": null,
   "metadata": {},
   "outputs": [],
   "source": [
    "for k in y_map:\n",
    "    avgs[k + 'm'] = avgs[k + 'c']/np.maximum(1,avgs[k + 'n'])"
   ]
  },
  {
   "cell_type": "code",
   "execution_count": null,
   "metadata": {},
   "outputs": [],
   "source": [
    "for i,roster in enumerate(rosters):\n",
    "    for player in roster['players']:\n",
    "        if player['tid'] <= -1:\n",
    "            continue\n",
    "        name = player['firstName'] + ' ' + player['lastName']\n",
    "\n",
    "        age = (START_YEAR+i)-player['born']['year']\n",
    "        for k,km in y_map.items():\n",
    "            avgs[k + 's'][age] += (player['ratings'][0][k]-avgs[k + 'm'][age])**2\n",
    "            avgs[k + 'sn'][age] += 1#player['ratings'][0][k]"
   ]
  },
  {
   "cell_type": "code",
   "execution_count": null,
   "metadata": {},
   "outputs": [],
   "source": [
    "for k in y_map:\n",
    "    avgs[k + 'ss'] = np.sqrt(avgs[k + 's']/np.maximum(1,avgs[k + 'sn']))\n",
    "    #print(k,avgs[k + 'ss'])"
   ]
  },
  {
   "cell_type": "code",
   "execution_count": null,
   "metadata": {},
   "outputs": [],
   "source": [
    "bbm = np.zeros((100,15))\n",
    "bbs = np.zeros((100,15))\n",
    "\n",
    "for a in range(100):\n",
    "    try:\n",
    "        bbm[a] = df[df.Age==a].mean()[-15:]\n",
    "        bbs[a] = df[df.Age==a].std()[-15:]\n",
    "    except Exception as e:\n",
    "        print(a,e)"
   ]
  },
  {
   "cell_type": "code",
   "execution_count": null,
   "metadata": {},
   "outputs": [],
   "source": [
    "yidx = list(y_map.keys())"
   ]
  },
  {
   "cell_type": "code",
   "execution_count": null,
   "metadata": {},
   "outputs": [],
   "source": [
    "plt.figure(figsize=(10,10))\n",
    "for i, k in enumerate(y_map):\n",
    "    plt.subplot(5,3,i+1)\n",
    "    plt.plot(avgs[k + 'm'],lw=3,label='nba auto')\n",
    "    plt.plot(bbm[:,yidx.index(k)],lw=3,label='bbgm')\n",
    "\n",
    "    V = 0.0\n",
    "    #plt.fill_between(np.arange(100),avgs[k + 'm']-V*avgs[k + 'ss'],avgs[k + 'm']+V*avgs[k + 'ss'],alpha=0.3)\n",
    "    ms = (avgs[k + 'm']-V*avgs[k + 'ss'])\n",
    "    ms = min(bbm[25:40,yidx.index(k)].min(),ms[np.where(ms > 0)].min())\n",
    "    mxs = (avgs[k + 'm']+V*avgs[k + 'ss'])\n",
    "    mxs = max(bbm[25:40,yidx.index(k)].max(),mxs.max())\n",
    "    plt.title(k)\n",
    "    plt.legend()\n",
    "    plt.xlim(19,40)\n",
    "    plt.ylim(ms,mxs)\n",
    "plt.tight_layout()\n",
    "plt.savefig('dev-comp.png',facecolor='w',edgecolor='w')"
   ]
  },
  {
   "cell_type": "code",
   "execution_count": null,
   "metadata": {},
   "outputs": [],
   "source": [
    "for i,k in enumerate(y_map):\n",
    "    avgs[k + 'DB'] = {}\n",
    "\n",
    "for pid in df.pid.unique():\n",
    "    mdf = df[df.pid == pid]\n",
    "    v = np.array(df[df.pid == pid].sort_values('Age'))[:,-15:]\n",
    "    v2 = np.diff(v,axis=0)\n",
    "    start,stop = mdf.Age.min(), mdf.Age.max()\n",
    "    for age in range(start,stop-1):\n",
    "        for i,k in enumerate(y_map):\n",
    "            try:\n",
    "                avgs[k + 'DB'][age] = avgs[k + 'DB'].get(age,[]) + [v2[age-start][i]]\n",
    "            except:\n",
    "                pass\n",
    "    #print(name)\n",
    "for k in y_map:\n",
    "    avgs[k + 'DBm'] = np.zeros(100)\n",
    "    avgs[k + 'DBs'] = np.zeros(100)\n",
    "\n",
    "    for age in range(100):\n",
    "        if age in avgs[k + 'DB']:\n",
    "            avgs[k + 'DBm'][age] = np.array(avgs[k + 'DB'][age]).mean()\n",
    "            avgs[k + 'DBs'][age] = np.array(avgs[k + 'DB'][age]).std()"
   ]
  },
  {
   "cell_type": "code",
   "execution_count": null,
   "metadata": {},
   "outputs": [],
   "source": [
    "for k in y_map:\n",
    "    avgs[k + 'DNm'] = np.zeros(100)\n",
    "    avgs[k + 'DNs'] = np.zeros(100)\n",
    "\n",
    "    for age in range(100):\n",
    "        if age in avgs[k + 'DN']:\n",
    "            avgs[k + 'DNm'][age] = np.array(avgs[k + 'DN'][age]).mean()\n",
    "            avgs[k + 'DNs'][age] = np.array(avgs[k + 'DN'][age]).std()"
   ]
  },
  {
   "cell_type": "code",
   "execution_count": null,
   "metadata": {},
   "outputs": [],
   "source": []
  },
  {
   "cell_type": "code",
   "execution_count": null,
   "metadata": {},
   "outputs": [],
   "source": [
    "plt.figure(figsize=(10,10))\n",
    "for i, k in enumerate(y_map):\n",
    "    plt.subplot(5,3,i+1)\n",
    "    plt.plot(avgs[k + 'DNm'],lw=2,label='nba auto')\n",
    "    plt.plot(avgs[k + 'DBm'],lw=2,label='BBGM')\n",
    "\n",
    "    #plt.plot(bbm[:,yidx.index(k)],lw=3,label='bbgm')\n",
    "\n",
    "    V = 0.5\n",
    "    plt.fill_between(np.arange(100),avgs[k + 'DNm']-V*avgs[k + 'DNs'],avgs[k + 'DNm']+V*avgs[k + 'DNs'],alpha=0.3)\n",
    "    plt.fill_between(np.arange(100),avgs[k + 'DBm']-V*avgs[k + 'DBs'],avgs[k + 'DBm']+V*avgs[k + 'DBs'],alpha=0.3)\n",
    "\n",
    "    ms = (avgs[k + 'm']-V*avgs[k + 'ss'])\n",
    "    ms = min(bbm[25:40,yidx.index(k)].min(),ms[np.where(ms > 0)].min())\n",
    "    mxs = (avgs[k + 'm']+V*avgs[k + 'ss'])\n",
    "    mxs = max(bbm[25:40,yidx.index(k)].max(),mxs.max())\n",
    "    plt.title(k)\n",
    "    plt.legend()\n",
    "    plt.plot([0,100],[0,0],c='k',lw=2)\n",
    "    plt.xlim(18,36)\n",
    "    #plt.ylim(ms,mxs)\n",
    "plt.tight_layout()\n",
    "plt.savefig('dev-comp-AI4.png',facecolor='w',edgecolor='w')"
   ]
  },
  {
   "cell_type": "code",
   "execution_count": null,
   "metadata": {},
   "outputs": [],
   "source": []
  },
  {
   "cell_type": "code",
   "execution_count": null,
   "metadata": {},
   "outputs": [],
   "source": []
  }
 ],
 "metadata": {
  "kernelspec": {
   "display_name": "Python 3",
   "language": "python",
   "name": "python3"
  },
  "language_info": {
   "codemirror_mode": {
    "name": "ipython",
    "version": 3
   },
   "file_extension": ".py",
   "mimetype": "text/x-python",
   "name": "python",
   "nbconvert_exporter": "python",
   "pygments_lexer": "ipython3",
   "version": "3.6.8"
  }
 },
 "nbformat": 4,
 "nbformat_minor": 2
}
