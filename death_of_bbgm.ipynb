{
 "cells": [
  {
   "cell_type": "code",
   "execution_count": null,
   "metadata": {},
   "outputs": [],
   "source": [
    "import json\n",
    "import os\n",
    "import numpy as np\n",
    "import fnmatch\n",
    "from collections import OrderedDict\n",
    "y_map = { 'hgt': 'hgt',\n",
    "   'stre': 'str',\n",
    "   'spd': 'spd',\n",
    "   'jmp': 'jmp',\n",
    "   'endu': 'end',\n",
    "   'ins': 'ins',\n",
    "   'dnk': 'dnk',\n",
    "   'ft': 'ft.1',\n",
    "   'fg': '2pt',\n",
    "   'tp': '3pt',\n",
    "   'diq': 'diq',\n",
    "   'oiq': 'oiq',\n",
    "   'drb': 'drb',\n",
    "   'pss': 'pss',\n",
    "   'reb': 'reb' }\n",
    "\n",
    "def write_roman(num):\n",
    "\n",
    "    roman = OrderedDict()\n",
    "    roman[1000] = \"M\"\n",
    "    roman[900] = \"CM\"\n",
    "    roman[500] = \"D\"\n",
    "    roman[400] = \"CD\"\n",
    "    roman[100] = \"C\"\n",
    "    roman[90] = \"XC\"\n",
    "    roman[50] = \"L\"\n",
    "    roman[40] = \"XL\"\n",
    "    roman[10] = \"X\"\n",
    "    roman[9] = \"IX\"\n",
    "    roman[5] = \"V\"\n",
    "    roman[4] = \"IV\"\n",
    "    roman[1] = \"I\"\n",
    "\n",
    "    def roman_num(num):\n",
    "        for r in roman.keys():\n",
    "            x, y = divmod(num, r)\n",
    "            yield roman[r] * x\n",
    "            num -= (r * x)\n",
    "            if num <= 0:\n",
    "                break\n",
    "\n",
    "    return \"\".join([a for a in roman_num(num)])"
   ]
  },
  {
   "cell_type": "code",
   "execution_count": null,
   "metadata": {},
   "outputs": [],
   "source": [
    "import random\n",
    "\n",
    "random_years = list(range(2040,2140))\n",
    "random.shuffle(random_years)\n",
    "random_years = sorted([2043,2060,2085,2110,2035])\n",
    "random_years"
   ]
  },
  {
   "cell_type": "code",
   "execution_count": null,
   "metadata": {},
   "outputs": [],
   "source": [
    "base = json.load(open('updated_roster.json'))\n",
    "base['version'] = 33\n",
    "\n",
    "players = base['players']\n",
    "players = [_ for _ in players if _['tid'] >= -1]\n",
    "plist =  ['PG','G','SG','SF','F','PF','FC','C']\n",
    "\n",
    "cntr = 1\n",
    "\n",
    "for yr in range(2019,2150):\n",
    "    if len(random_years) >0 and (yr- random_years[0]) >= 0:\n",
    "        if yr == random_years[0] +5:\n",
    "            del random_years[0]\n",
    "        continue\n",
    "    #print(yr)\n",
    "    for i in range(70):\n",
    "        new_player = {}\n",
    "        new_player['name'] = '{} Doomsday'.format(write_roman(cntr))#.format(int(yr,i)\n",
    "        cntr+=1\n",
    "        new_player['tid'] = int(-2)\n",
    "        new_player['weight'] = int(np.random.normal(220,20))\n",
    "        new_player['hgt'] = int(np.random.normal(6*12+6,3))\n",
    "        age = np.random.randint(25,27)\n",
    "        new_player['born'] = {'year':int(yr-age),'loc':''}\n",
    "        new_player['draft'] = {'year':int(yr)}\n",
    "        new_player['pos'] = plist[np.random.randint(0,len(plist))]\n",
    "        rtg = {k:0 for k in y_map}\n",
    "        #rtg['endu'] = 100\n",
    "        new_player['ratings'] = [rtg]\n",
    "        players.append(new_player)\n",
    "base['players'] = players\n",
    "with open('death_of_bbgm.json','wt') as fp:\n",
    "    json.dump(base,fp, sort_keys=True)"
   ]
  },
  {
   "cell_type": "code",
   "execution_count": null,
   "metadata": {},
   "outputs": [],
   "source": [
    "players"
   ]
  },
  {
   "cell_type": "code",
   "execution_count": null,
   "metadata": {},
   "outputs": [],
   "source": [
    "t = 'mega_1952.json  mega_1980.json  mega_1995.json  mega_2002.json  mega_2008.json \\\n",
    "mega_1960.json  mega_1981.json  mega_1996.json  mega_2003.json  mega_2012.json \\\n",
    "mega_1967.json  mega_1984.json  mega_1998.json  mega_2004.json \\\n",
    "mega_1968.json  mega_1989.json  mega_1999.json  mega_2005.json \\\n",
    "mega_1969.json  mega_1990.json  mega_2000.json  mega_2006.json \\\n",
    "mega_1977.json  mega_1992.json  mega_2001.json  mega_2007.json'\n",
    "print(sorted([int(_[5:9]) for _ in t.split()]))"
   ]
  },
  {
   "cell_type": "code",
   "execution_count": null,
   "metadata": {},
   "outputs": [],
   "source": [
    "for p in players:\n",
    "    if p['firstName'] == 'Zion':\n",
    "        #print(p)\n",
    "        print(p['draft']['year'])"
   ]
  },
  {
   "cell_type": "code",
   "execution_count": null,
   "metadata": {},
   "outputs": [],
   "source": [
    "len(players)"
   ]
  },
  {
   "cell_type": "code",
   "execution_count": null,
   "metadata": {},
   "outputs": [],
   "source": []
  },
  {
   "cell_type": "code",
   "execution_count": null,
   "metadata": {},
   "outputs": [],
   "source": []
  }
 ],
 "metadata": {
  "kernelspec": {
   "display_name": "Python 3",
   "language": "python",
   "name": "python3"
  },
  "language_info": {
   "codemirror_mode": {
    "name": "ipython",
    "version": 3
   },
   "file_extension": ".py",
   "mimetype": "text/x-python",
   "name": "python",
   "nbconvert_exporter": "python",
   "pygments_lexer": "ipython3",
   "version": "3.6.8"
  }
 },
 "nbformat": 4,
 "nbformat_minor": 2
}
