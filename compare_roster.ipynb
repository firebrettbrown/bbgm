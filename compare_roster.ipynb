{
 "cells": [
  {
   "cell_type": "code",
   "execution_count": null,
   "metadata": {},
   "outputs": [],
   "source": [
    "R1 = 'base_roster.json'\n",
    "R2 = 'auto_roster_2019.json'\n",
    "R1 = 'BBGM_League_5_1985_preseason.json'\n",
    "R2 = 'BBGM_League_2_1985_preseason.json'\n",
    "R1 = 'BBGM_League_3_2019_preseason.json'\n",
    "R2 = 'BBGM_League_4_2019_preseason.json'\n",
    "import json\n",
    "import os\n",
    "import sys\n",
    "import fnmatch\n",
    "\n",
    "\n",
    "import numpy as np\n",
    "import pandas as pd\n",
    "import matplotlib.pyplot as plt\n",
    "import json\n",
    "import scipy.stats"
   ]
  },
  {
   "cell_type": "code",
   "execution_count": null,
   "metadata": {},
   "outputs": [],
   "source": [
    "def load_roster(filename):\n",
    "    base = json.load(open(filename,'rb'))\n",
    "\n",
    "    \n",
    "    for i in range(len(base['players'])):\n",
    "        player = base['players'][i]\n",
    "        if 'name' in player and player['name'] !='':\n",
    "            sname = base['players'][i]['name'].split()\n",
    "            base['players'][i]['firstName'] = sname[0]\n",
    "            base['players'][i]['lastName'] = ' '.join(sname[1:])\n",
    "            del base['players'][i]['name']\n",
    "    players = base['players']\n",
    "    base['version'] = 32\n",
    "\n",
    "    return players,base"
   ]
  },
  {
   "cell_type": "code",
   "execution_count": null,
   "metadata": {},
   "outputs": [],
   "source": [
    "p1,b1 = load_roster(R1)\n",
    "p2,b2 = load_roster(R2)\n",
    "\n",
    "p1d = {_['firstName'] + ' ' + _['lastName']: _['ratings'][0] for _ in p1 if _['tid'] >=0}\n",
    "p2d = {_['firstName'] + ' ' + _['lastName']: _['ratings'][0] for _ in p2 if _['tid'] >=0}"
   ]
  },
  {
   "cell_type": "code",
   "execution_count": null,
   "metadata": {},
   "outputs": [],
   "source": [
    "df1 = pd.DataFrame(p1d).T.drop(['fuzz','skills','season','pos'],1).apply(pd.to_numeric)\n",
    "df2 = pd.DataFrame(p2d).T.drop(['fuzz','skills','season','pos'],1).apply(pd.to_numeric)\n",
    "merged = pd.merge(df1,df2,left_index=True,right_index=True)"
   ]
  },
  {
   "cell_type": "code",
   "execution_count": null,
   "metadata": {},
   "outputs": [],
   "source": [
    "diffs = (df1 - df2).dropna(how='all').dropna(1,how='all')"
   ]
  },
  {
   "cell_type": "code",
   "execution_count": null,
   "metadata": {},
   "outputs": [],
   "source": [
    "from matplotlib import cm\n",
    "from matplotlib.colors import ListedColormap, LinearSegmentedColormap\n",
    "\n",
    "viridis = cm.get_cmap('viridis')\n",
    "plt.figure(figsize=(10,8))\n",
    "\n",
    "coeffs = []\n",
    "for i,k in enumerate(df1.columns):\n",
    "    c1 =  scipy.stats.spearmanr(merged[k+'_x'],merged[k+'_y'])\n",
    "    coeffs.append((c1,k))\n",
    "    \n",
    "for i,v in enumerate(sorted(coeffs,reverse=True)):\n",
    "    c1,k = v\n",
    "    plt.subplot(4,5,i+1)\n",
    "    plt.scatter(merged[k+'_x'],merged[k+'_y'],s=3,alpha=0.8,c=viridis(c1[0]-0.2))\n",
    "    #c1 =  scipy.stats.spearmanr(merged[k+'_x'],merged[k+'_y'])\n",
    "    #c2 =  scipy.stats.pearsonr(merged[k+'_x'],merged[k+'_y'])\n",
    "\n",
    "    plt.xlabel('Alexnoob')\n",
    "    plt.ylabel('Automatic')\n",
    "    plt.title('{} ({:.2f})'.format(k,c1[0],c2[0]))\n",
    "    plt.xlim(0,100)\n",
    "    plt.ylim(0,100)\n",
    "    plt.plot(np.arange(0,100),np.arange(0,100),c='k')\n",
    "    plt.grid(True)\n",
    "    plt.tight_layout()\n",
    "plt.suptitle('Alexnoob vs. Automatic Rosters (2018-2019)',size=20)\n",
    "plt.subplots_adjust(top=0.9)"
   ]
  },
  {
   "cell_type": "code",
   "execution_count": null,
   "metadata": {},
   "outputs": [],
   "source": [
    "diffs.sort_values('pot',0,False)"
   ]
  },
  {
   "cell_type": "code",
   "execution_count": null,
   "metadata": {},
   "outputs": [],
   "source": []
  }
 ],
 "metadata": {
  "kernelspec": {
   "display_name": "Python 3",
   "language": "python",
   "name": "python3"
  },
  "language_info": {
   "codemirror_mode": {
    "name": "ipython",
    "version": 3
   },
   "file_extension": ".py",
   "mimetype": "text/x-python",
   "name": "python",
   "nbconvert_exporter": "python",
   "pygments_lexer": "ipython3",
   "version": "3.6.8"
  }
 },
 "nbformat": 4,
 "nbformat_minor": 2
}
