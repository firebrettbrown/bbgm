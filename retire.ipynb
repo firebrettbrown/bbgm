{
 "cells": [
  {
   "cell_type": "code",
   "execution_count": null,
   "metadata": {},
   "outputs": [],
   "source": [
    "import json\n",
    "import os\n",
    "import sys\n",
    "import fnmatch\n",
    "\n",
    "\n",
    "import numpy as np\n",
    "import pandas as pd\n",
    "import matplotlib.pyplot as plt\n",
    "from matplotlib.colors import LogNorm\n",
    "\n",
    "from collections import defaultdict"
   ]
  },
  {
   "cell_type": "code",
   "execution_count": null,
   "metadata": {},
   "outputs": [],
   "source": [
    "plt.style.use('fivethirtyeight')"
   ]
  },
  {
   "cell_type": "code",
   "execution_count": null,
   "metadata": {},
   "outputs": [],
   "source": [
    "WS_REAL = defaultdict(list)\n",
    "valid_final_season = {}\n",
    "\n",
    "FEAT = ['Age','WS']\n",
    "\n",
    "for YR in range(1980,2020):\n",
    "    table = np.load('tables_{}.pkl'.format(YR),allow_pickle=True)\n",
    "    for team in table:\n",
    "        stats = table[team]['advanced'][FEAT]\n",
    "        for item in stats.itertuples():\n",
    "            try:\n",
    "                v = [0.0 if _=='' else _ for _ in item[1:]]\n",
    "                #hgt = table[team]['roster'].loc[item[0]]['Ht']\n",
    "                #hgt = [int(_) for _ in hgt.split('-')]\n",
    "                #hgt = 12*hgt[0] + hgt[1]\n",
    "                #v.append(hgt)\n",
    "                WS_REAL[item[0]].append(np.array(v).astype(np.float))\n",
    "            except:\n",
    "                print(item)"
   ]
  },
  {
   "cell_type": "code",
   "execution_count": null,
   "metadata": {},
   "outputs": [],
   "source": [
    "d = []\n",
    "for k in WS_REAL:\n",
    "    t = np.array(WS_REAL[k])\n",
    "    tm = t[:,1]#*t[:,3]\n",
    "    tm = tm.astype(np.float)\n",
    "    d.append(np.vstack([[k for _ in range(tm.shape[0])],tm,t[:,1]]).T)"
   ]
  },
  {
   "cell_type": "code",
   "execution_count": null,
   "metadata": {},
   "outputs": [],
   "source": [
    "table = np.load('tables_{}.pkl'.format(2019),allow_pickle=True)\n",
    "for team in table:\n",
    "    stats = table[team]['advanced']\n",
    "    for item in stats.itertuples():\n",
    "        valid_final_season[item[0]] = 1\n"
   ]
  },
  {
   "cell_type": "code",
   "execution_count": null,
   "metadata": {},
   "outputs": [],
   "source": [
    "X = []\n",
    "y = []\n",
    "for name in WS_REAL:\n",
    "    stats = WS_REAL[name]\n",
    "    yrs = len(stats)\n",
    "    X += stats\n",
    "    for i in range(yrs-1):\n",
    "        y.append(0.0)\n",
    "    y.append(float(name not in valid_final_season))"
   ]
  },
  {
   "cell_type": "code",
   "execution_count": null,
   "metadata": {},
   "outputs": [],
   "source": [
    "from sklearn.linear_model import LogisticRegression, ElasticNet, Ridge,RidgeClassifier\n",
    "from sklearn.svm import LinearSVC,SVC\n",
    "from sklearn.preprocessing import PolynomialFeatures,StandardScaler"
   ]
  },
  {
   "cell_type": "code",
   "execution_count": null,
   "metadata": {},
   "outputs": [],
   "source": [
    "Xo = np.array(X)\n",
    "yo = np.array(y)\n"
   ]
  },
  {
   "cell_type": "code",
   "execution_count": null,
   "metadata": {},
   "outputs": [],
   "source": [
    "X = Xo.copy()\n",
    "y = yo.copy()\n",
    "X[:,0] -= 18\n",
    "X[:,0] *= X[:,0]\n",
    "#X[:,-1] /= X[:,-1].max()\n",
    "#X = np.hstack([X,(X[:,0] * X[:,1]).reshape((-1,1))])"
   ]
  },
  {
   "cell_type": "code",
   "execution_count": null,
   "metadata": {},
   "outputs": [],
   "source": [
    "fexp = PolynomialFeatures(2,interaction_only=True)\n",
    "scal = StandardScaler()\n",
    "pX = X#fexp.fit_transform(X)#fexp.fit_transform(X)\n",
    "#pX[:,0] = pX[:,0]**2\n",
    "\n",
    "clf = LogisticRegression(C=1e6,solver='liblinear')#,class_weight='balanced')\n",
    "clf.fit(pX,y)\n",
    "clf.score(pX,y),(1-y.sum()/y.shape[0])"
   ]
  },
  {
   "cell_type": "code",
   "execution_count": null,
   "metadata": {},
   "outputs": [],
   "source": [
    "_ = plt.hist(clf.predict_proba(pX)[:,1],50,density=True)"
   ]
  },
  {
   "cell_type": "code",
   "execution_count": null,
   "metadata": {},
   "outputs": [],
   "source": [
    "FEAT,clf.coef_,clf.intercept_"
   ]
  },
  {
   "cell_type": "code",
   "execution_count": null,
   "metadata": {},
   "outputs": [],
   "source": [
    "import statsmodels.api as sm"
   ]
  },
  {
   "cell_type": "code",
   "execution_count": null,
   "metadata": {},
   "outputs": [],
   "source": [
    "FEAT"
   ]
  },
  {
   "cell_type": "code",
   "execution_count": null,
   "metadata": {},
   "outputs": [],
   "source": [
    "X2 = sm.add_constant(pX)\n",
    "df_tmp = pd.DataFrame(X2,columns=['1'] + FEAT )\n",
    "df_tmp.columns = ['(Age-18)^2' if _ == 'Age' else _ for _ in df_tmp.columns]\n",
    "logit_mod = sm.Logit(y,df_tmp)#fexp.get_feature_names(FEAT)))\n",
    "\n",
    "logit_res = logit_mod.fit(disp=0)\n",
    "print()\n",
    "np.mean((logit_res.predict() >0.5)== y.astype(np.bool))\n",
    "logit_res.summary()"
   ]
  },
  {
   "cell_type": "code",
   "execution_count": null,
   "metadata": {},
   "outputs": [],
   "source": [
    "xp = np.linspace(18,50)\n",
    "p = lambda x: 1.0/(1.0+np.exp(-x))\n",
    "#p = lambda x: np.log(np.exp(x)+1)\n",
    "for WS in [-1,0,1,3,5,7]:\n",
    "    #plt.plot(xp,p(clf.intercept_ + clf.coef_[0,0]*xp),label='WS0')\n",
    "    plt.plot(xp,p(logit_res.params[0] + logit_res.params[1]*(xp-18)**2 + logit_res.params[2]*WS   ),label='WS {}'.format(WS))\n",
    "plt.xlim(18,55)\n",
    "plt.legend()\n",
    "plt.xlabel('Age')\n",
    "\n",
    "plt.ylabel('Prob of Retiring')\n",
    "plt.title('NBA (Age-18)^2 + WS Model')\n",
    "plt.ylim(0,1)\n",
    "plt.xlim(18,50)\n",
    "plt.tight_layout()\n",
    "plt.grid(True)\n",
    "\n",
    "plt.savefig('retire.png',facecolor='w',edgecolor='w')"
   ]
  },
  {
   "cell_type": "code",
   "execution_count": null,
   "metadata": {},
   "outputs": [],
   "source": [
    "xp = np.linspace(18,60)\n",
    "p = lambda x: 1.0/(1.0+np.exp(-x))\n",
    "#p = lambda x: np.log(np.exp(x)+1)\n",
    "\n",
    "for WS in [-1,0,1,3,5,7]:\n",
    "    #plt.plot(xp,p(clf.intercept_ + clf.coef_[0,0]*xp),label='WS0')\n",
    "    plt.plot(xp,100*p(clf.intercept_ + clf.coef_[0,0]*(xp-18)**2 + clf.coef_[0,1]*WS   ),label='WS {}'.format(WS))\n",
    "plt.xlim(18,55)\n",
    "plt.legend()\n",
    "plt.xlabel('Age')\n",
    "\n",
    "plt.ylabel('Prob of Retiring')\n",
    "plt.title('New BBGM Model')\n",
    "plt.ylim(0,100)\n",
    "plt.xlim(35,60)\n",
    "\n",
    "plt.tight_layout()\n",
    "plt.grid(True)\n",
    "\n",
    "plt.savefig('retire.png',facecolor='w',edgecolor='w')"
   ]
  },
  {
   "cell_type": "code",
   "execution_count": null,
   "metadata": {},
   "outputs": [],
   "source": []
  },
  {
   "cell_type": "code",
   "execution_count": null,
   "metadata": {},
   "outputs": [],
   "source": [
    "pX"
   ]
  },
  {
   "cell_type": "code",
   "execution_count": null,
   "metadata": {},
   "outputs": [],
   "source": [
    "df2 = pd.read_csv('beta_stats.csv')#big_stat\n"
   ]
  },
  {
   "cell_type": "code",
   "execution_count": null,
   "metadata": {},
   "outputs": [],
   "source": [
    "from matplotlib.colors import LogNorm\n",
    "plt.style.use('fivethirtyeight')\n",
    "dft = df2[df2.MP*df2.G > 300]\n",
    "_ = plt.hexbin(dft.Ovr,dft['WS'],gridsize=40,norm=LogNorm())\n",
    "#plt.ylim(-5,40)\n",
    "#plt.xlim(30,85)\n",
    "plt.xlabel('Ovr')\n",
    "plt.ylabel('WS')\n",
    "xp = np.linspace(30,90)\n",
    "#plt.plot(xp,(1/64)*np.maximum(xp-40,0)**2,c='r')\n",
    "plt.title('bbgm ovr -> WS')\n",
    "plt.savefig('wsovr3.png',edgecolor='w',facecolor='w')"
   ]
  },
  {
   "cell_type": "code",
   "execution_count": null,
   "metadata": {},
   "outputs": [],
   "source": [
    "WS_FAKE = defaultdict(list)\n",
    "valid_final_season2 = {}\n",
    "\n",
    "FEAT2 = ['Name','Age','WS','TS%','3PAr','Pot']\n",
    "\n",
    "for item in df2[FEAT2].itertuples():\n",
    "    try:\n",
    "        v = [0.0 if _=='' else _ for _ in item[2:]]\n",
    "        #hgt = table[team]['roster'].loc[item[0]]['Ht']\n",
    "        #hgt = [int(_) for _ in hgt.split('-')]\n",
    "        #hgt = 12*hgt[0] + hgt[1]\n",
    "        #v.append(hgt)\n",
    "        WS_FAKE[item[1]].append(np.array(v).astype(np.float))\n",
    "    except:\n",
    "        raise#print(item)"
   ]
  },
  {
   "cell_type": "code",
   "execution_count": null,
   "metadata": {},
   "outputs": [],
   "source": [
    "X2 = []\n",
    "y2 = []\n",
    "for name in WS_FAKE:\n",
    "    stats = WS_FAKE[name]\n",
    "    yrs = len(stats)\n",
    "    X2 += stats\n",
    "    for i in range(yrs-1):\n",
    "        y2.append(0.0)\n",
    "    y2.append(1.0)\n",
    "    if len(y2) != len(X2):\n",
    "        print('omg',len(y2),len(X2),name)"
   ]
  },
  {
   "cell_type": "code",
   "execution_count": null,
   "metadata": {},
   "outputs": [],
   "source": [
    "X2 = np.array(X2)\n",
    "y2 = np.array(y2)\n"
   ]
  },
  {
   "cell_type": "code",
   "execution_count": null,
   "metadata": {},
   "outputs": [],
   "source": [
    "\n",
    "clf2 = LogisticRegression(C=1e6,solver='liblinear')#,class_weight='balanced')\n",
    "clf2.fit(X2,y2)\n",
    "clf2.score(X2,y2),(1-y2.sum()/y2.shape[0])"
   ]
  },
  {
   "cell_type": "code",
   "execution_count": null,
   "metadata": {},
   "outputs": [],
   "source": [
    "_ = plt.hist(clf2.predict_proba(X2)[:,1],50,density=True)"
   ]
  },
  {
   "cell_type": "code",
   "execution_count": null,
   "metadata": {},
   "outputs": [],
   "source": [
    "FEAT2,clf2.coef_,clf2.intercept_"
   ]
  },
  {
   "cell_type": "code",
   "execution_count": null,
   "metadata": {},
   "outputs": [],
   "source": []
  },
  {
   "cell_type": "code",
   "execution_count": null,
   "metadata": {},
   "outputs": [],
   "source": [
    "X3 = sm.add_constant(X2)\n",
    "X3 = pd.DataFrame(X3,columns=['1'] + FEAT2[1:])\n",
    "logit_mod = sm.Logit(y2,X3)\n",
    "logit_res = logit_mod.fit(disp=0)\n",
    "print(logit_res.summary())\n",
    "np.mean((logit_res.predict() >0.5)== y2.astype(np.bool))"
   ]
  },
  {
   "cell_type": "code",
   "execution_count": null,
   "metadata": {},
   "outputs": [],
   "source": [
    "xp = np.linspace(20,40)\n",
    "p = lambda x: 1.0/(1.0+np.exp(-x))\n",
    "for WS in [-1,0,1,3,5,7]:\n",
    "    #plt.plot(xp,p(clf.intercept_ + clf.coef_[0,0]*xp),label='WS0')\n",
    "    plt.plot(xp,p(clf2.intercept_ + clf2.coef_[0,0]*xp + clf2.coef_[0,1]*WS+ clf2.coef_[0,2]*30+ clf2.coef_[0,3]*5 + clf2.coef_[0,4]*50  ),label='WS {}'.format(WS))\n",
    "plt.xlim(20,46)\n",
    "plt.legend()\n",
    "plt.title('BBGM, TS%:30, 3PAr:5')\n",
    "plt.xlabel('Age')\n",
    "plt.ylabel('P(Retire | Age, WS)')\n",
    "plt.tight_layout()\n",
    "plt.savefig('retireFAKE.png',facecolor='w',edgecolor='w')"
   ]
  },
  {
   "cell_type": "code",
   "execution_count": null,
   "metadata": {},
   "outputs": [],
   "source": [
    "df2['OvrSm'] = (np.maximum(0,df2['Ovr']-37))**2"
   ]
  },
  {
   "cell_type": "code",
   "execution_count": null,
   "metadata": {},
   "outputs": [],
   "source": [
    "df3 = df2[df2.Age > 22]"
   ]
  },
  {
   "cell_type": "code",
   "execution_count": null,
   "metadata": {},
   "outputs": [],
   "source": [
    "clf_ws = sm.OLS(df3.WS,df3['OvrSm']).fit()\n",
    "from scipy.stats import pearsonr\n",
    "print(pearsonr(clf_ws.predict(),df3.WS)[0])\n",
    "clf_ws.summary()\n"
   ]
  },
  {
   "cell_type": "code",
   "execution_count": null,
   "metadata": {},
   "outputs": [],
   "source": [
    "plt.scatter(df3.WS,clf_ws.predict(),alpha=0.5,s=8)"
   ]
  },
  {
   "cell_type": "code",
   "execution_count": null,
   "metadata": {},
   "outputs": [],
   "source": [
    "clf3 = ElasticNet(alpha=0,fit_intercept=False)\n",
    "#df3 = df2[df2.Age > 22]\n",
    "clf3.fit(np.array(df3.OvrSm).reshape((-1,1)),df3.WS)\n",
    "clf3.score(np.array(df3.OvrSm).reshape((-1,1)),df3.WS)"
   ]
  },
  {
   "cell_type": "code",
   "execution_count": null,
   "metadata": {},
   "outputs": [],
   "source": [
    "xp = np.linspace(18,60)\n",
    "p = lambda x: 1.0/(1.0+np.exp(-x))\n",
    "#p = lambda x: np.log(np.exp(x)+1)\n",
    "\n",
    "for OVR in [50,55,60,65]:\n",
    "    #plt.plot(xp,p(clf.intercept_ + clf.coef_[0,0]*xp),label='WS0')\n",
    "    plt.plot(xp,100*p(clf.intercept_ + clf.coef_[0,0]*(xp-18)**2 + clf.coef_[0,1]* clf3.coef_[0]*(OVR-37)**2   ),label='OVR {}'.format(OVR))\n",
    "plt.xlim(18,55)\n",
    "plt.legend()\n",
    "plt.xlabel('Age')\n",
    "\n",
    "plt.ylabel('Prob of Retiring')\n",
    "plt.title('New BBGM Retirement')\n",
    "plt.ylim(0,100)\n",
    "plt.xlim(35,60)\n",
    "\n",
    "plt.tight_layout()\n",
    "plt.grid(True)\n",
    "\n",
    "plt.savefig('retire3.png',facecolor='w',edgecolor='w')"
   ]
  },
  {
   "cell_type": "code",
   "execution_count": null,
   "metadata": {},
   "outputs": [],
   "source": [
    "clf3.coef_,clf3.intercept_,clf3.coef_[0]"
   ]
  },
  {
   "cell_type": "code",
   "execution_count": null,
   "metadata": {},
   "outputs": [],
   "source": [
    "clf3.coef_[0]*50+clf3.intercept_"
   ]
  },
  {
   "cell_type": "code",
   "execution_count": null,
   "metadata": {},
   "outputs": [],
   "source": [
    "xp = np.linspace(20,60)\n",
    "p = lambda x: 1.0/(1.0+np.exp(-x))\n",
    "for POT in [40,50,60,70]:\n",
    "    #plt.plot(xp,p(clf.intercept_ + clf.coef_[0,0]*xp),label='WS0')\n",
    "    plt.plot(xp,p(clf.intercept_ + clf.coef_[0,0]*(xp-18)**2 + clf.coef_[0,1]* (clf3.coef_[0]*((POT-37)**2)) ),label='Pot {}'.format(POT))\n",
    "plt.xlim(20,55)\n",
    "plt.ylim(0,1)\n",
    "plt.legend()\n",
    "plt.xlabel('Age')\n",
    "\n",
    "plt.ylabel('P(Retire | Age, Pot)')\n",
    "plt.title('Overall model')\n",
    "\n",
    "plt.tight_layout()\n",
    "\n",
    "plt.savefig('retire2.png',facecolor='w',edgecolor='w')"
   ]
  },
  {
   "cell_type": "code",
   "execution_count": null,
   "metadata": {},
   "outputs": [],
   "source": [
    "clf.intercept_ ,1/clf.coef_[0,0],clf.coef_[0,1]"
   ]
  },
  {
   "cell_type": "code",
   "execution_count": null,
   "metadata": {},
   "outputs": [],
   "source": [
    "df2['retire'] = clf.intercept_ + clf.coef_[0,0]*(np.maximum(df2.Age,18)-18)**2  + clf.coef_[0,1]*np.maximum(df2.WS,clf3.coef_[0]*((np.maximum(37,df2.Pot)-37)**2))\n",
    "\n",
    "df2['retire'] = 1/(1+np.exp(-df2.retire))"
   ]
  },
  {
   "cell_type": "code",
   "execution_count": null,
   "metadata": {},
   "outputs": [],
   "source": [
    "1/clf3.coef_,clf3.intercept_"
   ]
  },
  {
   "cell_type": "code",
   "execution_count": null,
   "metadata": {},
   "outputs": [],
   "source": [
    "plt.hist(df2.retire,20)"
   ]
  },
  {
   "cell_type": "code",
   "execution_count": null,
   "metadata": {},
   "outputs": [],
   "source": [
    "retired = df2[df2.retire >0.5][['WS','Age','Pot','retire']]\n",
    "retired"
   ]
  },
  {
   "cell_type": "code",
   "execution_count": null,
   "metadata": {},
   "outputs": [],
   "source": [
    "plt.style.use('fivethirtyeight')\n",
    "plt.figure(figsize=(10,6))\n",
    "for i,col in enumerate(retired.columns):\n",
    "    plt.subplot(2,2,1+i)\n",
    "    plt.hist(df2[df2.retire < 0.5][col],20,density=True,alpha=0.8,label='not retired')\n",
    "    plt.hist(df2[df2.retire > 0.5][col],8,density=True,alpha=0.8,label='retired')\n",
    "    plt.title('Retirement ' + col + '\\n (weight: Balanced)')\n",
    "    if i == 0:\n",
    "        plt.xlim(-6,10)\n",
    "    plt.legend()\n",
    "plt.tight_layout()"
   ]
  },
  {
   "cell_type": "code",
   "execution_count": null,
   "metadata": {},
   "outputs": [],
   "source": [
    "plt.hexbin(df2.Age,df2.retire,gridsize=17)\n",
    "plt.xlabel('Age')\n",
    "plt.ylabel('P(Retire)')\n",
    "plt.title('Balanced')\n",
    "plt.colorbar()"
   ]
  },
  {
   "cell_type": "code",
   "execution_count": null,
   "metadata": {},
   "outputs": [],
   "source": [
    "dft = df2[(df2.Ovr < 62) & (df2.WS > 16)]\n",
    "dft"
   ]
  },
  {
   "cell_type": "code",
   "execution_count": null,
   "metadata": {},
   "outputs": [],
   "source": [
    "pd.set_option(\"display.precision\", 2)\n",
    "df2[(df2.Season == 2187) & (df2.Team == 'MIA')].sort_values('MP',0,False)[['Name','Pos','Age','Ovr','Salary','GS','MP','WS','PTS','TRB','AST','STL','Blk','TOV']]"
   ]
  },
  {
   "cell_type": "code",
   "execution_count": null,
   "metadata": {},
   "outputs": [],
   "source": [
    "from tabulate import tabulate"
   ]
  },
  {
   "cell_type": "code",
   "execution_count": null,
   "metadata": {},
   "outputs": [],
   "source": [
    "print(tabulate(df2[(df2.Season == 2187) & (df2.Team == 'MIA')].sort_values('MP',0,False)[['Name','Pos','Age','Salary','GS','MP','WS','PTS','TRB','AST','STL','Blk','TOV']]))"
   ]
  },
  {
   "cell_type": "code",
   "execution_count": null,
   "metadata": {},
   "outputs": [],
   "source": []
  },
  {
   "cell_type": "code",
   "execution_count": null,
   "metadata": {},
   "outputs": [],
   "source": []
  }
 ],
 "metadata": {
  "kernelspec": {
   "display_name": "Python 3",
   "language": "python",
   "name": "python3"
  },
  "language_info": {
   "codemirror_mode": {
    "name": "ipython",
    "version": 3
   },
   "file_extension": ".py",
   "mimetype": "text/x-python",
   "name": "python",
   "nbconvert_exporter": "python",
   "pygments_lexer": "ipython3",
   "version": "3.6.9"
  }
 },
 "nbformat": 4,
 "nbformat_minor": 2
}
