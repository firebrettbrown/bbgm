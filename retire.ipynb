{
 "cells": [
  {
   "cell_type": "code",
   "execution_count": null,
   "metadata": {},
   "outputs": [],
   "source": [
    "import json\n",
    "import os\n",
    "import sys\n",
    "import fnmatch\n",
    "\n",
    "\n",
    "import numpy as np\n",
    "import pandas as pd\n",
    "import matplotlib.pyplot as plt\n",
    "from matplotlib.colors import LogNorm\n",
    "\n",
    "from collections import defaultdict"
   ]
  },
  {
   "cell_type": "code",
   "execution_count": null,
   "metadata": {},
   "outputs": [],
   "source": []
  },
  {
   "cell_type": "code",
   "execution_count": null,
   "metadata": {},
   "outputs": [],
   "source": [
    "WS_REAL = defaultdict(list)\n",
    "valid_final_season = {}\n",
    "\n",
    "FEAT = ['Age','WS']\n",
    "\n",
    "for YR in range(1980,2020):\n",
    "    table = np.load('tables_{}.pkl'.format(YR))\n",
    "    for team in table:\n",
    "        stats = table[team]['advanced'][FEAT]\n",
    "        for item in stats.itertuples():\n",
    "            try:\n",
    "                v = [0.0 if _=='' else _ for _ in item[1:]]\n",
    "                #hgt = table[team]['roster'].loc[item[0]]['Ht']\n",
    "                #hgt = [int(_) for _ in hgt.split('-')]\n",
    "                #hgt = 12*hgt[0] + hgt[1]\n",
    "                #v.append(hgt)\n",
    "                WS_REAL[item[0]].append(np.array(v).astype(np.float))\n",
    "            except:\n",
    "                print(item)"
   ]
  },
  {
   "cell_type": "code",
   "execution_count": null,
   "metadata": {},
   "outputs": [],
   "source": [
    "d = []\n",
    "for k in WS_REAL:\n",
    "    t = np.array(WS_REAL[k])\n",
    "    tm = t[:,2]#*t[:,3]\n",
    "    tm = tm.astype(np.float)\n",
    "    d.append(np.vstack([[k for _ in range(tm.shape[0])],tm,t[:,1]]).T)"
   ]
  },
  {
   "cell_type": "code",
   "execution_count": null,
   "metadata": {},
   "outputs": [],
   "source": [
    "dft = pd.DataFrame(np.vstack(d),columns=['name','mp','ast'])"
   ]
  },
  {
   "cell_type": "code",
   "execution_count": null,
   "metadata": {},
   "outputs": [],
   "source": [
    "LIM = 200\n",
    "d2 = dft[(dft.ast.astype(np.float) == 0.0) & (dft.mp.astype(np.float) > LIM)]\n",
    "\n",
    "a,b = d2.shape[0],dft[(dft.mp.astype(np.float) > LIM)].shape[0]\n",
    "print(100*a/b,a,b)\n",
    "d2"
   ]
  },
  {
   "cell_type": "code",
   "execution_count": null,
   "metadata": {},
   "outputs": [],
   "source": [
    "table = np.load('tables_{}.pkl'.format(2019))\n",
    "for team in table:\n",
    "    stats = table[team]['advanced']\n",
    "    for item in stats.itertuples():\n",
    "        valid_final_season[item[0]] = 1\n"
   ]
  },
  {
   "cell_type": "code",
   "execution_count": null,
   "metadata": {},
   "outputs": [],
   "source": [
    "X = []\n",
    "y = []\n",
    "for name in WS_REAL:\n",
    "    stats = WS_REAL[name]\n",
    "    yrs = len(stats)\n",
    "    X += stats\n",
    "    for i in range(yrs-1):\n",
    "        y.append(0.0)\n",
    "    y.append(float(name not in valid_final_season))"
   ]
  },
  {
   "cell_type": "code",
   "execution_count": null,
   "metadata": {},
   "outputs": [],
   "source": [
    "from sklearn.linear_model import LogisticRegression, ElasticNet, Ridge,RidgeClassifier\n",
    "from sklearn.svm import LinearSVC,SVC\n",
    "from sklearn.preprocessing import PolynomialFeatures,StandardScaler"
   ]
  },
  {
   "cell_type": "code",
   "execution_count": null,
   "metadata": {},
   "outputs": [],
   "source": [
    "Xo = np.array(X)\n",
    "yo = np.array(y)\n"
   ]
  },
  {
   "cell_type": "code",
   "execution_count": null,
   "metadata": {},
   "outputs": [],
   "source": [
    "X = Xo.copy()\n",
    "y = yo.copy()\n",
    "X[:,0] -= 18\n",
    "X[:,0] *= X[:,0]\n",
    "#X[:,-1] /= X[:,-1].max()\n",
    "#X = np.hstack([X,(X[:,0] * X[:,1]).reshape((-1,1))])"
   ]
  },
  {
   "cell_type": "code",
   "execution_count": null,
   "metadata": {},
   "outputs": [],
   "source": [
    "fexp = PolynomialFeatures(2,interaction_only=True)\n",
    "scal = StandardScaler()\n",
    "pX = X#fexp.fit_transform(X)#fexp.fit_transform(X)\n",
    "#pX[:,0] = pX[:,0]**2\n",
    "\n",
    "clf = LogisticRegression(C=1e6,solver='liblinear',class_weight='balanced')\n",
    "clf.fit(pX,y)\n",
    "clf.score(pX,y),(1-y.sum()/y.shape[0])"
   ]
  },
  {
   "cell_type": "code",
   "execution_count": null,
   "metadata": {},
   "outputs": [],
   "source": [
    "_ = plt.hist(clf.predict_proba(pX)[:,1],50,density=True)"
   ]
  },
  {
   "cell_type": "code",
   "execution_count": null,
   "metadata": {},
   "outputs": [],
   "source": [
    "FEAT,1/clf.coef_,clf.intercept_"
   ]
  },
  {
   "cell_type": "code",
   "execution_count": null,
   "metadata": {},
   "outputs": [],
   "source": [
    "import statsmodels.api as sm"
   ]
  },
  {
   "cell_type": "code",
   "execution_count": null,
   "metadata": {},
   "outputs": [],
   "source": [
    "X2 = sm.add_constant(pX)\n",
    "logit_mod = sm.Logit(y,pd.DataFrame(X2,columns=['1'] + FEAT ))#fexp.get_feature_names(FEAT)))\n",
    "logit_res = logit_mod.fit(disp=0)\n",
    "print(logit_res.summary())\n",
    "np.mean((logit_res.predict() >0.5)== y.astype(np.bool))"
   ]
  },
  {
   "cell_type": "code",
   "execution_count": null,
   "metadata": {},
   "outputs": [],
   "source": []
  },
  {
   "cell_type": "code",
   "execution_count": null,
   "metadata": {},
   "outputs": [],
   "source": [
    "xp = np.linspace(18,50)\n",
    "p = lambda x: 1.0/(1.0+np.exp(-x))\n",
    "for WS in [-1,0,1,3,5,7]:\n",
    "    #plt.plot(xp,p(clf.intercept_ + clf.coef_[0,0]*xp),label='WS0')\n",
    "    plt.plot(xp,p(clf.intercept_ + clf.coef_[0,0]*(xp-18)**2 + clf.coef_[0,1]*WS   ),label='WS {}'.format(WS))\n",
    "plt.xlim(18,55)\n",
    "plt.legend()\n",
    "plt.xlabel('Age')\n",
    "\n",
    "plt.ylabel('Prob of Retiring')\n",
    "plt.title('NBA (Age-18)^2 + WS Model')\n",
    "plt.ylim(0,1)\n",
    "plt.tight_layout()\n",
    "\n",
    "plt.savefig('retire.png',facecolor='w',edgecolor='w')"
   ]
  },
  {
   "cell_type": "code",
   "execution_count": null,
   "metadata": {},
   "outputs": [],
   "source": [
    "clf.coef_[0,1]/clf.coef_[0,-1]"
   ]
  },
  {
   "cell_type": "code",
   "execution_count": null,
   "metadata": {},
   "outputs": [],
   "source": [
    "pX"
   ]
  },
  {
   "cell_type": "code",
   "execution_count": null,
   "metadata": {},
   "outputs": [],
   "source": [
    "df2 = pd.read_csv('beta_stats.csv')#big_stat\n"
   ]
  },
  {
   "cell_type": "code",
   "execution_count": null,
   "metadata": {},
   "outputs": [],
   "source": [
    "from matplotlib.colors import LogNorm\n",
    "dft = df2[df2.MP > 8]\n",
    "_ = plt.hexbin(dft.Ovr,dft['PER'],gridsize=40,norm=LogNorm())\n",
    "#plt.ylim(-5,40)\n",
    "#plt.xlim(30,85)\n",
    "plt.xlabel('Ovr')\n",
    "plt.ylabel('PER')\n",
    "xp = np.linspace(30,90)\n",
    "#plt.plot(xp,(1/64)*np.maximum(xp-40,0)**2,c='r')\n",
    "plt.title('bbgm ovr -> PER')\n",
    "plt.savefig('wsovr3.png',edgecolor='w',facecolor='w')"
   ]
  },
  {
   "cell_type": "code",
   "execution_count": null,
   "metadata": {},
   "outputs": [],
   "source": [
    "WS_FAKE = defaultdict(list)\n",
    "valid_final_season2 = {}\n",
    "\n",
    "FEAT = ['Name','Age','WS','TS%','3PAr','Pot']\n",
    "\n",
    "for item in df2[FEAT].itertuples():\n",
    "    try:\n",
    "        v = [0.0 if _=='' else _ for _ in item[2:]]\n",
    "        #hgt = table[team]['roster'].loc[item[0]]['Ht']\n",
    "        #hgt = [int(_) for _ in hgt.split('-')]\n",
    "        #hgt = 12*hgt[0] + hgt[1]\n",
    "        #v.append(hgt)\n",
    "        WS_FAKE[item[1]].append(np.array(v).astype(np.float))\n",
    "    except:\n",
    "        raise#print(item)"
   ]
  },
  {
   "cell_type": "code",
   "execution_count": null,
   "metadata": {},
   "outputs": [],
   "source": [
    "WS_FAKE['Doug Moten']"
   ]
  },
  {
   "cell_type": "code",
   "execution_count": null,
   "metadata": {},
   "outputs": [],
   "source": [
    "X2 = []\n",
    "y2 = []\n",
    "for name in WS_FAKE:\n",
    "    stats = WS_FAKE[name]\n",
    "    yrs = len(stats)\n",
    "    X2 += stats\n",
    "    for i in range(yrs-1):\n",
    "        y2.append(0.0)\n",
    "    y2.append(1.0)"
   ]
  },
  {
   "cell_type": "code",
   "execution_count": null,
   "metadata": {},
   "outputs": [],
   "source": [
    "X2 = np.array(X2)\n",
    "y2 = np.array(y2)\n"
   ]
  },
  {
   "cell_type": "code",
   "execution_count": null,
   "metadata": {},
   "outputs": [],
   "source": [
    "\n",
    "clf2 = LogisticRegression(C=1e6,solver='liblinear',class_weight='balanced')\n",
    "clf2.fit(X2,y2)\n",
    "clf2.score(X2,y2),(1-y2.sum()/y2.shape[0])"
   ]
  },
  {
   "cell_type": "code",
   "execution_count": null,
   "metadata": {},
   "outputs": [],
   "source": [
    "_ = plt.hist(clf2.predict_proba(X2)[:,1],50,density=True)"
   ]
  },
  {
   "cell_type": "code",
   "execution_count": null,
   "metadata": {},
   "outputs": [],
   "source": [
    "FEAT,clf2.coef_,clf2.intercept_"
   ]
  },
  {
   "cell_type": "code",
   "execution_count": null,
   "metadata": {},
   "outputs": [],
   "source": [
    "X3 = sm.add_constant(X2)\n",
    "logit_mod = sm.Logit(y2,X3)\n",
    "logit_res = logit_mod.fit(disp=0)\n",
    "print(logit_res.summary())\n",
    "np.mean((logit_res.predict() >0.5)== y2.astype(np.bool))"
   ]
  },
  {
   "cell_type": "code",
   "execution_count": null,
   "metadata": {},
   "outputs": [],
   "source": [
    "xp = np.linspace(20,40)\n",
    "p = lambda x: 1.0/(1.0+np.exp(-x))\n",
    "for WS in [-1,0,1,3,5,7]:\n",
    "    #plt.plot(xp,p(clf.intercept_ + clf.coef_[0,0]*xp),label='WS0')\n",
    "    plt.plot(xp,p(clf2.intercept_ + clf2.coef_[0,0]*xp + clf2.coef_[0,1]*WS+ clf2.coef_[0,2]*30+ clf2.coef_[0,3]*5 + clf2.coef_[0,4]*50  ),label='WS {}'.format(WS))\n",
    "plt.xlim(20,46)\n",
    "plt.legend()\n",
    "plt.title('BBGM, TS%:30, 3PAr:5')\n",
    "plt.xlabel('Age')\n",
    "plt.ylabel('P(Retire | Age, WS)')\n",
    "plt.tight_layout()\n",
    "plt.savefig('retireFAKE.png',facecolor='w',edgecolor='w')"
   ]
  },
  {
   "cell_type": "code",
   "execution_count": null,
   "metadata": {},
   "outputs": [],
   "source": [
    "clf3 = ElasticNet(alpha=0)\n",
    "df3 = df2[df2.Age > 25]\n",
    "clf3.fit(np.array(df3.Ovr).reshape((-1,1))**2,df3.WS)\n",
    "clf3.score(np.array(df3.Ovr).reshape((-1,1)),df3.WS)"
   ]
  },
  {
   "cell_type": "code",
   "execution_count": null,
   "metadata": {},
   "outputs": [],
   "source": [
    "clf3.coef_,clf3.intercept_"
   ]
  },
  {
   "cell_type": "code",
   "execution_count": null,
   "metadata": {},
   "outputs": [],
   "source": [
    "xp = np.linspace(20,60)\n",
    "p = lambda x: 1.0/(1.0+np.exp(-x))\n",
    "for POT in [40,50,60,70]:\n",
    "    #plt.plot(xp,p(clf.intercept_ + clf.coef_[0,0]*xp),label='WS0')\n",
    "    plt.plot(xp,p(-2.5 + xp**2 * 0.006 - 1* ((POT-40)/4) ),label='Pot {}'.format(POT))\n",
    "plt.xlim(20,55)\n",
    "plt.ylim(0,1)\n",
    "plt.legend()\n",
    "plt.xlabel('Age')\n",
    "\n",
    "plt.ylabel('P(Retire | Age, Pot)')\n",
    "plt.title('Fake model')\n",
    "\n",
    "plt.tight_layout()\n",
    "\n",
    "plt.savefig('retire2.png',facecolor='w',edgecolor='w')"
   ]
  },
  {
   "cell_type": "code",
   "execution_count": null,
   "metadata": {},
   "outputs": [],
   "source": [
    "clf.intercept_ ,clf.coef_[0,0],clf.coef_[0,1]"
   ]
  },
  {
   "cell_type": "code",
   "execution_count": null,
   "metadata": {},
   "outputs": [],
   "source": [
    "dft = df2[(df2.Ovr < 62) & (df2.WS > 16)]\n",
    "dft"
   ]
  },
  {
   "cell_type": "code",
   "execution_count": null,
   "metadata": {},
   "outputs": [],
   "source": [
    "pd.set_option(\"display.precision\", 2)\n",
    "df2[(df2.Season == 2187) & (df2.Team == 'MIA')].sort_values('MP',0,False)[['Name','Pos','Age','Ovr','Salary','GS','MP','WS','PTS','TRB','AST','STL','Blk','TOV']]"
   ]
  },
  {
   "cell_type": "code",
   "execution_count": null,
   "metadata": {},
   "outputs": [],
   "source": [
    "from tabulate import tabulate"
   ]
  },
  {
   "cell_type": "code",
   "execution_count": null,
   "metadata": {},
   "outputs": [],
   "source": [
    "print(tabulate(df2[(df2.Season == 2187) & (df2.Team == 'MIA')].sort_values('MP',0,False)[['Name','Pos','Age','Salary','GS','MP','WS','PTS','TRB','AST','STL','Blk','TOV']]))"
   ]
  },
  {
   "cell_type": "code",
   "execution_count": null,
   "metadata": {},
   "outputs": [],
   "source": []
  }
 ],
 "metadata": {
  "kernelspec": {
   "display_name": "Python 3",
   "language": "python",
   "name": "python3"
  },
  "language_info": {
   "codemirror_mode": {
    "name": "ipython",
    "version": 3
   },
   "file_extension": ".py",
   "mimetype": "text/x-python",
   "name": "python",
   "nbconvert_exporter": "python",
   "pygments_lexer": "ipython3",
   "version": "3.6.8"
  }
 },
 "nbformat": 4,
 "nbformat_minor": 2
}
