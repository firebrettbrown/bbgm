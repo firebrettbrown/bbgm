{
 "cells": [
  {
   "cell_type": "code",
   "execution_count": null,
   "metadata": {},
   "outputs": [],
   "source": [
    "df = pd.read_csv('big_stat.csv')"
   ]
  },
  {
   "cell_type": "code",
   "execution_count": null,
   "metadata": {},
   "outputs": [],
   "source": [
    "min_stats = defaultdict(dict)\n"
   ]
  },
  {
   "cell_type": "code",
   "execution_count": null,
   "metadata": {},
   "outputs": [],
   "source": [
    "for row in df[(df.DraftPick == 2) & (df.Age <= 22)].itertuples():\n",
    "    min_stats[row[2]][row[5]] = row"
   ]
  },
  {
   "cell_type": "code",
   "execution_count": null,
   "metadata": {},
   "outputs": [],
   "source": [
    "rows = []\n",
    "for name, val in min_stats.items():\n",
    "    miny = min(val.keys())\n",
    "    rows.append(val[miny])"
   ]
  },
  {
   "cell_type": "code",
   "execution_count": null,
   "metadata": {},
   "outputs": [],
   "source": [
    "np.round(np.array([_[-17:] for _ in rows]).mean(0)).astype(np.int)"
   ]
  },
  {
   "cell_type": "code",
   "execution_count": null,
   "metadata": {},
   "outputs": [],
   "source": [
    "s = 'Ovr=74, Pot=83, Hgt=57, Str=65, Spd=84, Jmp=82, End=50, Ins=50, Dnk=51, _69=73, _70=62, _71=67, oIQ=59, dIQ=60, Drb=88, Pss=75, Reb=45'"
   ]
  },
  {
   "cell_type": "code",
   "execution_count": null,
   "metadata": {},
   "outputs": [],
   "source": [
    "len(min_stats)"
   ]
  },
  {
   "cell_type": "code",
   "execution_count": null,
   "metadata": {},
   "outputs": [],
   "source": [
    "print(','.join([_.split('=')[0] for _ in s.split(', ')]))"
   ]
  },
  {
   "cell_type": "code",
   "execution_count": null,
   "metadata": {},
   "outputs": [],
   "source": [
    "import json\n",
    "import pickle\n",
    "from collections import defaultdict\n",
    "import pandas as pd\n",
    "import numpy as np\n",
    "import matplotlib.pyplot as plt"
   ]
  },
  {
   "cell_type": "code",
   "execution_count": null,
   "metadata": {},
   "outputs": [],
   "source": [
    "dfs = []\n",
    "for i in range(1990,2020):\n",
    "    dfs.append(np.load('tables_{}.pkl'.format(i)))"
   ]
  },
  {
   "cell_type": "code",
   "execution_count": null,
   "metadata": {},
   "outputs": [],
   "source": [
    "pv = defaultdict(list)\n",
    "initial_list = set()\n",
    "for idx,df in enumerate(dfs):\n",
    "    for team in df.values():\n",
    "        for row in team['advanced'].itertuples(): #advanced\n",
    "            x = row[3]\n",
    "            x = team['totals'].loc[row[0]][2]\n",
    "            pv[row[0]].append((x,row[-6])) #-6 # -11\n",
    "            if idx == 0:\n",
    "                initial_list.add(row[0])"
   ]
  },
  {
   "cell_type": "code",
   "execution_count": null,
   "metadata": {},
   "outputs": [],
   "source": [
    "pv['Stephen Curry']\n"
   ]
  },
  {
   "cell_type": "code",
   "execution_count": null,
   "metadata": {},
   "outputs": [],
   "source": [
    "data = []\n",
    "cntr = 0\n",
    "for player,v in pv.items():\n",
    "    if player in initial_list:\n",
    "        #print(player)\n",
    "        continue\n",
    "    try:\n",
    "        #print(v)\n",
    "        c = False\n",
    "        for j in range(1,min(len(v),20)):\n",
    "            mp = sum([v[k][0] for k in range(0,j)])\n",
    "            #print(v,j)\n",
    "            data.append((mp,v[j][1]-v[j-1][1]))\n",
    "            c = True\n",
    "        cntr += int(c)\n",
    "    except:\n",
    "        pass\n",
    "cntr, len(initial_list)"
   ]
  },
  {
   "cell_type": "code",
   "execution_count": null,
   "metadata": {},
   "outputs": [],
   "source": [
    "data = np.array(data)\n",
    "#data[:,1]*=100\n",
    "#data = data[np.where(data[:,0] > 100)]\n",
    "data.shape"
   ]
  },
  {
   "cell_type": "code",
   "execution_count": null,
   "metadata": {},
   "outputs": [],
   "source": [
    "import statsmodels.api as sm"
   ]
  },
  {
   "cell_type": "code",
   "execution_count": null,
   "metadata": {},
   "outputs": [],
   "source": [
    "res = sm.RLM(data[:,1],sm.add_constant(data[:,0])).fit()\n",
    "res.summary()"
   ]
  },
  {
   "cell_type": "code",
   "execution_count": null,
   "metadata": {},
   "outputs": [],
   "source": [
    "plt.figure(figsize=(10,10))\n",
    "plt.scatter(data[:,0],data[:,1],s=4)\n",
    "x2 = sm.add_constant(np.linspace(0,data.max(0)[0]))\n",
    "y2 = res.predict(x2)\n",
    "plt.plot(x2,y2,c='k')\n",
    "#plt.ylim(-10,10)\n",
    "\n",
    "plt.xlabel('minutes played')\n",
    "plt.ylabel('3Pr improvement next season')\n",
    "plt.title('minutes played versus improvement for NBA 2000-2019 (first year of career)')\n",
    "plt.savefig('mpib2.png',facecolor='w',edgecolor='w')\n"
   ]
  },
  {
   "cell_type": "code",
   "execution_count": null,
   "metadata": {},
   "outputs": [],
   "source": []
  },
  {
   "cell_type": "code",
   "execution_count": null,
   "metadata": {},
   "outputs": [],
   "source": []
  },
  {
   "cell_type": "code",
   "execution_count": null,
   "metadata": {},
   "outputs": [],
   "source": []
  }
 ],
 "metadata": {
  "kernelspec": {
   "display_name": "Python 3",
   "language": "python",
   "name": "python3"
  },
  "language_info": {
   "codemirror_mode": {
    "name": "ipython",
    "version": 3
   },
   "file_extension": ".py",
   "mimetype": "text/x-python",
   "name": "python",
   "nbconvert_exporter": "python",
   "pygments_lexer": "ipython3",
   "version": "3.6.9"
  }
 },
 "nbformat": 4,
 "nbformat_minor": 2
}
