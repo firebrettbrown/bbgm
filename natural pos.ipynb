{
 "cells": [
  {
   "cell_type": "code",
   "execution_count": null,
   "metadata": {},
   "outputs": [],
   "source": [
    "import pandas as pd\n",
    "import numpy as np\n",
    "import matplotlib.pyplot as plt\n",
    "from sklearn import mixture, decomposition, manifold, cluster, metrics\n",
    "\n",
    "from collections import defaultdict"
   ]
  },
  {
   "cell_type": "code",
   "execution_count": null,
   "metadata": {},
   "outputs": [],
   "source": [
    "dfs = []\n",
    "for i in range(2006,2020):\n",
    "    dfs.append(np.load('tables_{}.pkl'.format(i),allow_pickle=True))"
   ]
  },
  {
   "cell_type": "code",
   "execution_count": null,
   "metadata": {},
   "outputs": [],
   "source": [
    "pv = defaultdict(list)\n",
    "poses = defaultdict(list)\n",
    "vorps = defaultdict(list)\n",
    "initial_list = set()\n",
    "for idx,df in enumerate(dfs):\n",
    "    for team in df.values():\n",
    "        for row in team['advanced'].itertuples(): #advanced\n",
    "            if row[3] > 400:#row[2]*row[4] > 400:\n",
    "                v = row[6:-10] #advanced\n",
    "                #v = row[5:-3] #per_poss\n",
    "                pv[row[0]].append(np.array([_ if _!='' else 0 for _ in v])) #-6 # -11\n",
    "                poses[row[0]].append(team['roster'].loc[row[0]]['Pos'])\n",
    "                vorps[row[0]].append(row[-1])\n"
   ]
  },
  {
   "cell_type": "code",
   "execution_count": null,
   "metadata": {},
   "outputs": [],
   "source": [
    "row"
   ]
  },
  {
   "cell_type": "code",
   "execution_count": null,
   "metadata": {},
   "outputs": [],
   "source": [
    "pva = {k: np.array(v).mean(0) for k,v in pv.items() }"
   ]
  },
  {
   "cell_type": "code",
   "execution_count": null,
   "metadata": {},
   "outputs": [],
   "source": [
    "t = np.stack(pva.values())\n",
    "#t = np.stack(sum(pv.values(),[]))\n",
    "#t = np.nan_to_num(t)\n",
    "\n",
    "#t = t[:,[0,4,5,9]]\n",
    "\n",
    "t = (t-t.mean(0))/t.std(0)\n",
    "print(t.shape)"
   ]
  },
  {
   "cell_type": "code",
   "execution_count": null,
   "metadata": {},
   "outputs": [],
   "source": [
    "import umap\n"
   ]
  },
  {
   "cell_type": "code",
   "execution_count": null,
   "metadata": {},
   "outputs": [],
   "source": [
    "pca_fit = decomposition.PCA()\n",
    "res = pca_fit.fit_transform(t)\n",
    "res = umap.UMAP().fit_transform(t)\n",
    "#res = manifold.TSNE(perplexity=15).fit_transform(t)\n",
    "print(pca_fit.components_[:2])"
   ]
  },
  {
   "cell_type": "code",
   "execution_count": null,
   "metadata": {},
   "outputs": [],
   "source": [
    "team['advanced'].columns[5:-10]"
   ]
  },
  {
   "cell_type": "code",
   "execution_count": null,
   "metadata": {},
   "outputs": [],
   "source": [
    "plt.scatter(res[:,0],res[:,1],s=4)"
   ]
  },
  {
   "cell_type": "code",
   "execution_count": null,
   "metadata": {},
   "outputs": [],
   "source": [
    "for n_clusters in range(2,5):\n",
    "    clusterer = cluster.KMeans(n_clusters=n_clusters,n_init=10 )\n",
    "    cluster_labels = clusterer.fit_predict(t)\n",
    "\n",
    "    # The silhouette_score gives the average value for all the samples.\n",
    "    # This gives a perspective into the density and separation of the formed\n",
    "    # clusters\n",
    "    silhouette_avg = metrics.silhouette_score(t, cluster_labels)\n",
    "    print(\"For n_clusters =\", n_clusters,\n",
    "          \"The average silhouette_score is :\", silhouette_avg)"
   ]
  },
  {
   "cell_type": "code",
   "execution_count": null,
   "metadata": {},
   "outputs": [],
   "source": [
    "clusterer = cluster.KMeans(n_clusters=3,n_init=10 )\n",
    "cluster_labels = clusterer.fit_predict(t)\n",
    "pose_short = np.array([max(set(lst), key=lst.count) for _,lst in poses.items()])"
   ]
  },
  {
   "cell_type": "code",
   "execution_count": null,
   "metadata": {},
   "outputs": [],
   "source": [
    "plt.figure(dpi=400)\n",
    "for i in np.unique(cluster_labels):\n",
    "    plt.scatter(res[np.where(cluster_labels==i),0],res[np.where(cluster_labels==i),1],s=4)\n",
    "    for i,name in enumerate(pva.keys()):\n",
    "        if np.array(vorps[name]).mean() > 2:\n",
    "            print(name,res[i])\n",
    "            plt.text(res[i,0],res[i,1],name.split()[1],ha='center',va='center',size=8)\n",
    "#plt.xticks([],[])\n",
    "#plt.yticks([],[])\n",
    "plt.title('NBA Positions based on per-possession statistics (via UMAP)')\n",
    "plt.tight_layout()\n",
    "plt.savefig('pos3.png',facecolor='w',edgecolor='w')"
   ]
  },
  {
   "cell_type": "code",
   "execution_count": null,
   "metadata": {},
   "outputs": [],
   "source": [
    "plt.figure(dpi=400)\n",
    "for i in ['PG','SG','SF','PF','C']:#np.unique(pose_short):\n",
    "    plt.scatter(res[np.where(pose_short==i),0],res[np.where(pose_short==i),1],s=4,label=i)\n",
    "    #for i,name in enumerate(pva.keys()):\n",
    "    #    plt.text(res[i,0],res[i,1],name.split()[1],ha='center',va='center',size=3)\n",
    "plt.legend(scatterpoints=4,markerscale=3)\n",
    "plt.xticks([],[])\n",
    "plt.yticks([],[])\n",
    "plt.title('NBA Positions based on per-possession statistics (via UMAP)')\n",
    "plt.tight_layout()\n",
    "plt.savefig('pos2.png',facecolor='w',edgecolor='w')"
   ]
  },
  {
   "cell_type": "code",
   "execution_count": null,
   "metadata": {},
   "outputs": [],
   "source": [
    "clusterer.cluster_centers_"
   ]
  },
  {
   "cell_type": "code",
   "execution_count": null,
   "metadata": {},
   "outputs": [],
   "source": [
    "team['advanced'].iloc[:,5:-10].iloc[:,[0,4,5,9]]"
   ]
  },
  {
   "cell_type": "code",
   "execution_count": null,
   "metadata": {},
   "outputs": [],
   "source": []
  },
  {
   "cell_type": "code",
   "execution_count": null,
   "metadata": {},
   "outputs": [],
   "source": [
    "len(pose_short),t.shape"
   ]
  },
  {
   "cell_type": "code",
   "execution_count": null,
   "metadata": {},
   "outputs": [],
   "source": []
  }
 ],
 "metadata": {
  "kernelspec": {
   "display_name": "Python 3",
   "language": "python",
   "name": "python3"
  },
  "language_info": {
   "codemirror_mode": {
    "name": "ipython",
    "version": 3
   },
   "file_extension": ".py",
   "mimetype": "text/x-python",
   "name": "python",
   "nbconvert_exporter": "python",
   "pygments_lexer": "ipython3",
   "version": "3.6.9"
  }
 },
 "nbformat": 4,
 "nbformat_minor": 2
}
