{
 "cells": [
  {
   "cell_type": "code",
   "execution_count": null,
   "metadata": {},
   "outputs": [],
   "source": [
    "import re\n",
    "import argparse\n",
    "import os\n",
    "import sys\n",
    "import shutil\n",
    "import subprocess\n",
    "import re\n",
    "from bs4 import BeautifulSoup\n",
    "import pandas as pd\n",
    "import numpy as np\n",
    "import pickle\n",
    "import itertools\n",
    "import io\n",
    "from collections import defaultdict"
   ]
  },
  {
   "cell_type": "code",
   "execution_count": null,
   "metadata": {},
   "outputs": [],
   "source": [
    "with open('fb_team/nwe2018.html','rt') as fp:\n",
    "    data = fp.read()\n",
    "team = 'nwe'\n",
    "year = 2018\n",
    "tables = defaultdict(dict)"
   ]
  },
  {
   "cell_type": "code",
   "execution_count": null,
   "metadata": {},
   "outputs": [],
   "source": [
    "\n",
    "bs = BeautifulSoup(data,features=\"lxml\")\n",
    "\n",
    "tables[team]['logo'] = re.findall('(http.*png)',str(bs.find_all('img',{\"class\": \"teamlogo\"})[0]))[0]\n",
    "tables[team]['name'] = re.findall('{} (.*) Statistics &amp; Players'.format(year),data)[0]\n",
    "tables[team]['conf'] = re.findall('<a href=\"/years/{}\">(.*)</a>\\n. &nbsp;'.format(year),data)[0]\n"
   ]
  },
  {
   "cell_type": "code",
   "execution_count": null,
   "metadata": {},
   "outputs": [],
   "source": [
    "tables"
   ]
  },
  {
   "cell_type": "code",
   "execution_count": null,
   "metadata": {},
   "outputs": [],
   "source": [
    "m = re.findall(r'<!--[ \\n]*(<div[\\s\\S\\r]+?</div>)[ \\n]*-->',data)\n",
    "m2 = re.findall(r'(<div class=\"table_outer_container\">[ \\n]*<div class=\"overthrow table_container\" id=\"div_roster\">[\\s\\S\\r]+?</table>[ \\n]*</div>[ \\n]*</div>)',data)\n",
    "\n",
    "m = m2 + m "
   ]
  },
  {
   "cell_type": "code",
   "execution_count": null,
   "metadata": {},
   "outputs": [],
   "source": [
    "for test_table in m:\n",
    "    soup = BeautifulSoup(test_table,features=\"lxml\")\n",
    "    table_id = str(soup.find('table').get('id'))\n",
    "    table_size =  {'rushing_and_receiving' :1,'returns' :1,'kicking' :1,'defense' :1}\n",
    "\n",
    "    # use getText()to extract the text we need into a list\n",
    "    headers = [th.getText() for th in soup.findAll('tr')[table_size.get(table_id,0)].findAll('th')]\n",
    "\n",
    "    if table_id in ['team_and_opponent','team_td_log','opp_td_log']:\n",
    "        continue\n",
    "    print(table_id)\n",
    "    print(headers)\n",
    "    #print(soup.findAll('tr'))"
   ]
  },
  {
   "cell_type": "code",
   "execution_count": null,
   "metadata": {},
   "outputs": [],
   "source": [
    "for test_table in m"
   ]
  },
  {
   "cell_type": "code",
   "execution_count": null,
   "metadata": {},
   "outputs": [],
   "source": [
    "for test_table in m:\n",
    "    try:\n",
    "        soup = BeautifulSoup(test_table,features=\"lxml\")\n",
    "        table_id = str(soup.find('table').get('id'))\n",
    "\n",
    "        if table_id == ['team_and_opponent']:\n",
    "            continue\n",
    "        soup.findAll('tr')\n",
    "\n",
    "        table_size = {'on_off':1,'on_off_p':1,'shooting':2,'pbp':1,'playoffs_shooting':2,'playoffs_pbp':1,'contracts':1}\n",
    "\n",
    "        # use getText()to extract the text we need into a list\n",
    "        headers = [th.getText() for th in soup.findAll('tr')[table_size.get(table_id,0)].findAll('th')]\n",
    "\n",
    "        # exclude the first column as we will not need the ranking order from Basketball Reference for the analysis\n",
    "        start_col = 1\n",
    "        if table_id in ['contracts','injury','on_off','on_off_p']:\n",
    "            start_col = 0\n",
    "\n",
    "        headers = headers[start_col:]\n",
    "        rows = soup.findAll('tr')[start_col:]\n",
    "        player_stats = [[td.getText() for td in rows[i].findAll('td')]\n",
    "                    for i in range(len(rows))]\n",
    "\n",
    "        if table_id in ['contracts']:\n",
    "            player_status = [[td.get('class') for td in rows[i].findAll('td')]\n",
    "                    for i in range(len(rows))]\n",
    "            status_array = []\n",
    "            for status in player_status:\n",
    "                if len(status) > 0:\n",
    "                    s2 = [False] + [s[-1] in ['salary-pl','salary-et','salary-tm'] for s in status[1:]]\n",
    "                else:\n",
    "                    s2 = np.array([])\n",
    "                status_array.append(s2)\n",
    "            status_array = np.array(status_array)\n",
    "            player_stats_new = []\n",
    "            for a,b in zip(status_array,player_stats):\n",
    "                b_new = []\n",
    "                for c,d in zip(a,b):\n",
    "                    b_new.append(d if not c else '')\n",
    "                player_stats_new.append(b_new)\n",
    "            player_stats = player_stats_new\n",
    "        if table_id in ['contracts','injury','on_off','on_off_p']:\n",
    "            player_names = [[td.getText() for td in rows[i].findAll('th')]\n",
    "                        for i in range(len(rows))]\n",
    "            player_stats = [a + b for a,b in zip(player_names[1:],player_stats[1:])]\n",
    "        headers[0] = 'Name'\n",
    "        stats = pd.DataFrame(player_stats, columns = headers).set_index('Name')\n",
    "        if table_id in ['contracts']:\n",
    "            stats = stats.drop(['Player'])\n",
    "            stats = stats.iloc[:stats.index.get_loc('')]\n",
    "\n",
    "        # drop nan\n",
    "        stats = stats[~ stats.index.isin([None])]\n",
    "        # convert to float\n",
    "        obj_cols = stats.loc[:, stats.dtypes == object]\n",
    "        conv_cols = obj_cols.apply(pd.to_numeric, errors = 'ignore')\n",
    "        stats.loc[:, stats.dtypes == object] = conv_cols\n",
    "\n",
    "        stats = stats.fillna('')\n",
    "\n",
    "        if True and 'on_off' in table_id:\n",
    "            stats = stats.iloc[~ stats.index.get_loc('Player')]\n",
    "            stats = stats.loc[~ (stats.Split == '')]\n",
    "            stats.index = list(itertools.chain.from_iterable(itertools.repeat(x, 3) for x in [_ for _ in stats.index if _!='']))\n",
    "\n",
    "        #print(table_id,stats.index)\n",
    "        tables[team][table_id]= stats\n",
    "    except KeyboardInterrupt:\n",
    "        raise\n",
    "    except:\n",
    "        raise\n",
    "        #print('FAILED TO PARSE ' +str(soup.find('table').get('id') ))\n"
   ]
  },
  {
   "cell_type": "code",
   "execution_count": null,
   "metadata": {},
   "outputs": [],
   "source": [
    "headers"
   ]
  },
  {
   "cell_type": "code",
   "execution_count": null,
   "metadata": {},
   "outputs": [],
   "source": [
    "len(player_stats)"
   ]
  },
  {
   "cell_type": "code",
   "execution_count": null,
   "metadata": {},
   "outputs": [],
   "source": [
    "len(player_stats[2])"
   ]
  },
  {
   "cell_type": "code",
   "execution_count": null,
   "metadata": {},
   "outputs": [],
   "source": []
  }
 ],
 "metadata": {
  "kernelspec": {
   "display_name": "Python 3",
   "language": "python",
   "name": "python3"
  },
  "language_info": {
   "codemirror_mode": {
    "name": "ipython",
    "version": 3
   },
   "file_extension": ".py",
   "mimetype": "text/x-python",
   "name": "python",
   "nbconvert_exporter": "python",
   "pygments_lexer": "ipython3",
   "version": "3.6.9"
  }
 },
 "nbformat": 4,
 "nbformat_minor": 2
}
